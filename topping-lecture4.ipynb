{
 "cells": [
  {
   "cell_type": "markdown",
   "metadata": {},
   "source": [
    "# Teichmueller harmonic map flow -- Lecture 4\n",
    "\n",
    "> [Peter Topping](http://homepages.warwick.ac.uk/~maseq/), University of Warwick\n",
    "\n",
    "#### [Ascona Winter School 2016](http://www.math.uzh.ch/pde16/index-Ascona2016.html), [(alternate link)](http://www.monteverita.org/en/90/default.aspx?idEvent=295&archive=)\n",
    "\n",
    "[extended notes on the lectures](http://homepages.warwick.ac.uk/~maseq/ASCONA/)"
   ]
  },
  {
   "cell_type": "markdown",
   "metadata": {},
   "source": [
    "1. [Lecture 1](http://nbviewer.jupyter.org/github/colliand/ascona2016/blob/master/topping-lecture1.ipynb)\n",
    "2. [Lecture 2](http://nbviewer.jupyter.org/github/colliand/ascona2016/blob/master/topping-lecture2.ipynb)\n",
    "3. [Lecture 3](http://nbviewer.jupyter.org/github/colliand/ascona2016/blob/master/topping-lecture3.ipynb)\n",
    "4. [Lecture 4](http://nbviewer.jupyter.org/github/colliand/ascona2016/blob/master/topping-lecture4.ipynb)"
   ]
  },
  {
   "cell_type": "markdown",
   "metadata": {},
   "source": [
    "We considered a good flow for $E(u,g)$\n",
    "\n",
    "$$ \\frac{\\partial u}{\\partial t} = \\tau_g (u)$$\n",
    "$$ \\frac{\\partial g}{\\partial t} = \\Re (P_g (\\Phi (u,g))$$\n",
    "\n",
    "**Today:** Our goal is to understand what happens in the event that the injectivity radius $\\rightarrow 0$.\n",
    "\n",
    "To do this, we need to understand ${\\mathcal{M}}_{-1} = \\{ {\\mbox{hyperbolic metrics}} \\}$"
   ]
  },
  {
   "cell_type": "markdown",
   "metadata": {},
   "source": [
    "On genus $= \\gamma \\geq 2$ surface with no metric...I can find $3(\\gamma -1)$ disjoint simple closed curves (homotopically distinct). He draws a \"torus-like\" object with two holes and draws three disjoint loops drawn in blue. These blue curves partition the surface into a certain number of parts, the number is $2(\\gamma -1)$, and each will be homeomorphic to $S^2 - $ 3 disks, a.k.a. a \"pair of pants\"\n",
    "\n",
    "Let's put some geometry into the picture. If $g \\in {\\mathcal{M}}_{-1}$ so that the curves can be deformed to disjoint simple closed geodesics.\n",
    "\n",
    "**Proof:** Run the harmonic map flow $S^1 \\longmapsto (M,g)$, so we are mapping into a negatively curved space, and this will converged to a geodesic. The Hartman theorem will also establish that these are unique. Another approach would be to run the \"curve shortening\" flow."
   ]
  },
  {
   "cell_type": "markdown",
   "metadata": {},
   "source": [
    "The parts between the geodesics are \"pairs of pants\". This is an important concept in this game. It may look a bit arbitrary at first but it actually \"super natural\". He draws an equilateral \"pair of pants\" with the legs and waist looking identical so its organized along 120 degree rays. Gauss curvature is -1 and the geodesics have lengths $l_1, l_2, l_3$ and Gauss-Bonnet will let you convince yourself that the area of the \"pair of pants\" is $2 \\pi$."
   ]
  },
  {
   "cell_type": "markdown",
   "metadata": {},
   "source": [
    "**Lemma:** Pairs of pants are determined uniquely (up to isometry) by the geodesic lengths $l_1, l_2, l_3$. \n",
    "\n",
    "Right angled hexagons in the hyperbolic plane...as you change the lengths $l_1, l_2, l_3$, the pair of pants deform smoothly. He draws a picture with a very small waist and extends the corresponding tube connecting to that waist circle to be very long.\n",
    "\n",
    "**Thus:** Hyperbolic metrics can be parametrized by the lengths of the blue geodesics and the twist angles saying how we connect pairs of pants. This are called [Dehn twists](https://en.wikipedia.org/wiki/Dehn_twist).\n",
    "\n",
    "![dehn-twist](https://upload.wikimedia.org/wikipedia/en/thumb/4/4f/Dehn_twist.png/220px-Dehn_twist.png)"
   ]
  },
  {
   "cell_type": "markdown",
   "metadata": {},
   "source": [
    "The dimension of the space of hyperbolic metrics (renamed $\\mathcal{H}$...previously called ${\\mathcal{M}}_{-1}$) can be calculated\n",
    "$$ \\dim_{\\mathbb{R}} {\\mathcal{H}} = 6 (\\gamma -1).$$"
   ]
  },
  {
   "cell_type": "markdown",
   "metadata": {},
   "source": [
    "This also gives some hint about why you have some compactness in this game. Suppose you are given a sequence $g_i \\in {\\mathcal{M}}_{-1}$. After passing to a subsequence and after pulling back by diffeomorphisms $f_i: M \\rightarrow M$, we can find curves as above (independent of $i$) such that the length of the corresponding geodesics is bounded independently of $i$. There is an implicit lemma here due to Bers. Another intuitive to way to say it, you can pick diffeomorphisms so that you can select the smallest geodesics. From here you are beginning to see one of the highlights of this theory, which is an observation of compactness.\n",
    "\n",
    "**Compactness:** Passing to a subsequence $\\rightarrow $ all the lengths converge and all the twist angles converge. So if all the lengths $\\geq \\epsilon > 0$ then $\\rightarrow $ compactness. This is essentially what is called *Mumford compactness* although Mumford probably would not describe it this way...\n",
    "\n",
    "**Q (Struwe):** Why are you allowed to limit the Dehn twists to $[0,2\\pi)$?\n",
    "\n",
    ">A: We are working modulo diffeormorphisms. This question (and an earlier question by Koch) are \"pushing me to distinguish Teichmuller space from the moduli space\".\n",
    "\n"
   ]
  },
  {
   "cell_type": "markdown",
   "metadata": {},
   "source": [
    "In general, some of the lengths may converge $\\rightarrow 0$. He draws a two holed torus with extremely tiny middle neck and extremely tiny right neck with unit sized neck on the left. In this limiting direction, you still get compactness but you have an exploding \"hyperbolic cusp\" developing. These are entirely explicit. There may emerge some disconnectedness. In the drawing, the right half portion of the two holed surface degenerates into a three cusped thing and the left chunk decomposes into a one holed surface with a long cusp."
   ]
  },
  {
   "cell_type": "markdown",
   "metadata": {},
   "source": [
    "In general, the objects can be \"compactified\" because the cusps are topologically equivalent to punctured disks. In the case above, the left chunk is a torus with a puncture. The right chunk is an $S^2$ with three punctures. He refers to these pieces as $\\Sigma$'s. "
   ]
  },
  {
   "cell_type": "markdown",
   "metadata": {},
   "source": [
    "**Theorem (Rupflin, Topping, Zhu):** Given a global THMF, there exists a sequence of times $t_i \\rightarrow \\infty$ such that $g(t_i)$ converge as above and BMIs (or constant maps) \n",
    "$$\n",
    "u_j : M_j \\rightarrow (N,G)\n",
    "$$\n",
    "such that $ u(t_i) \\rightarrow \\{ u_j \\}$ locally on $\\Sigma$."
   ]
  },
  {
   "cell_type": "markdown",
   "metadata": {},
   "source": [
    "This is not the full picture though. We are losing something. What are we losing? He explains by gesturing on the picture. Imagine observing what is happening here (on a place away from neck formation occurs) and we know whats going on. However, in the region where the injectivity radius is small, we can't really observe what's going on. To understand this stuff...we need to understand...(originally due to [Laura Keen](https://en.wikipedia.org/wiki/Linda_Keen)).\n"
   ]
  },
  {
   "cell_type": "markdown",
   "metadata": {},
   "source": [
    "**Collar Lemma:** For any short simple close geodesic $\\sigma$ in $(M,g)$ of length $l >0$, there exists a neighborhood of $\\sigma$ isometric $(-X, X) \\times S^1$ with metric $\\rho^2 (ds^2 + d\\theta^2)$ where\n",
    "$$\n",
    "\\rho = \\frac{l}{2 \\pi \\cos(\\frac{ls}{2\\pi})}, X = \\frac{2\\pi}{l} (\\frac{\\pi}{2} - \\arctan(\\sinh(\\frac{l}{2}) ).\n",
    "$$"
   ]
  },
  {
   "cell_type": "markdown",
   "metadata": {},
   "source": [
    "**Theorem (Huxol, Rupflin, Topping):** We can expect a complete set of bubbles on the collars (so that we've captured all the energy)\n",
    "$$\n",
    "\\lim_{t \\rightarrow \\infty} E(u(t), g(t)) = \\sum E (BMIs) = \\sum {\\mbox{Areas}} (BMIs).\n",
    "$$"
   ]
  },
  {
   "cell_type": "markdown",
   "metadata": {},
   "source": [
    "**Q (Struwe):** Could you have infintely many bubbles?\n",
    "\n",
    ">A: No. The bubbbles have a lower bound on their energy. There's only so much energy available. "
   ]
  },
  {
   "cell_type": "markdown",
   "metadata": {},
   "source": [
    "**Finite time singularities?** Everything I've discussed here is about global-in-time solutions with injectivity radius shrinking to zero or staying above zero. We understand in this sense what happens asymptotically. There is a big assumption here though! We are assuming that the injectivity radius does not vanish in finite time.\n",
    "\n",
    "**Open Question:** Does there exist a solution with the injectivity radius converging to zero in finite time?\n",
    "\n",
    "We don't know. This is a very delicate question. We don't even have an opinion yet. Heuristic arguments, looking at the forces that may drive your geodesics to zero, involve various terms that lie in balance so there's no real clear reason to provide evidence one way or the other. In this direction, we do have....\n",
    "\n",
    "**Theorem (Rupflin, Topping):** Suppose $(N,g)$ has nonpositive sectional curvature. Then, for all initial data $(u_0, g_0)$ with $g_0 \\in {\\mathcal{M}}_{-1}$ there exists a global smooth solution.\n",
    "\n",
    "The big content here is that the blue geodesics do not shrink to zero. The little content is that there is no bubbling. The statement has been strengthened! If you have a target that does not admit any bubbles, then there is a global solution. "
   ]
  },
  {
   "cell_type": "code",
   "execution_count": null,
   "metadata": {
    "collapsed": true
   },
   "outputs": [],
   "source": []
  }
 ],
 "metadata": {
  "kernelspec": {
   "display_name": "Python 3",
   "language": "python",
   "name": "python3"
  },
  "language_info": {
   "codemirror_mode": {
    "name": "ipython",
    "version": 3
   },
   "file_extension": ".py",
   "mimetype": "text/x-python",
   "name": "python",
   "nbconvert_exporter": "python",
   "pygments_lexer": "ipython3",
   "version": "3.4.3"
  }
 },
 "nbformat": 4,
 "nbformat_minor": 0
}
