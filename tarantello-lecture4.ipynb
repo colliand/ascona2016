{
 "cells": [
  {
   "cell_type": "markdown",
   "metadata": {},
   "source": [
    "WE call this problem $(P)_k$:\n",
    "\n",
    "$$ -\\Delta u = \\frac{4}{k^2} e^u (1 - e^u) - 4 \\pi \\sum_{j=1}^N \\delta_{p_j}\n",
    "$$\n",
    "\n",
    "**Theorem (G. Tarantello, Birkhauser PNDE 2008):**  There exists a critical value of the Chern-Simons parameter $k_c = k_c (N, |M|) > 0$ such that $(P)_k$ admits a soluiton $\\iff k \\in (0, k_c]$. Moreover, if $0<k<k_c \\implies (P)_k $ admits at least two solutions $u_{\\pm, k}$\n",
    "\n",
    "1. $u_{+,k} \\rightarrow 0$ pointwise. $c_k^+ = \\frac{1}{|M|} \\int u_{+,k} \\rightarrow 0.$\n",
    "2. $u_{-,k},~ c_k^+ = \\frac{1}{|M|} \\int u_{+,k} \\rightarrow -\\infty.$"
   ]
  },
  {
   "cell_type": "code",
   "execution_count": null,
   "metadata": {
    "collapsed": true
   },
   "outputs": [],
   "source": []
  }
 ],
 "metadata": {
  "kernelspec": {
   "display_name": "Python 3",
   "language": "python",
   "name": "python3"
  },
  "language_info": {
   "codemirror_mode": {
    "name": "ipython",
    "version": 3
   },
   "file_extension": ".py",
   "mimetype": "text/x-python",
   "name": "python",
   "nbconvert_exporter": "python",
   "pygments_lexer": "ipython3",
   "version": "3.4.3"
  }
 },
 "nbformat": 4,
 "nbformat_minor": 0
}
