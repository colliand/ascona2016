{
 "cells": [
  {
   "cell_type": "markdown",
   "metadata": {},
   "source": [
    "\n",
    "# Recent developments in the study of self-dual Chern-Simons vortices\n",
    "\n",
    "> #### [Gabriella Tarantello](http://www.mat.uniroma2.it/~tarantel/), Università di Roma \"Tor Vergata\"\n",
    "\n",
    "#### [Ascona Winter School 2016](http://www.math.uzh.ch/pde16/index-Ascona2016.html), [(alternate link)](http://www.monteverita.org/en/90/default.aspx?idEvent=295&archive=)\n",
    "\n",
    "Book: [Selfdual Gauge Field Vortices, Birkhauser 2008](http://www.springer.com/gb/book/9780817643102)\n",
    "\n",
    "1. [Lecture 1](http://nbviewer.jupyter.org/github/colliand/ascona2016/blob/master/topping-lecture1.ipynb)\n",
    "2. [Lecture 2](http://nbviewer.jupyter.org/github/colliand/ascona2016/blob/master/topping-lecture2.ipynb)\n",
    "3. [Lecture 3](http://nbviewer.jupyter.org/github/colliand/ascona2016/blob/master/topping-lecture3.ipynb)\n",
    "4. [Lecture 4](http://nbviewer.jupyter.org/github/colliand/ascona2016/blob/master/topping-lecture4.ipynb)\n",
    "\n",
    "[source](https://github.com/colliand/ascona2016)"
   ]
  },
  {
   "cell_type": "markdown",
   "metadata": {},
   "source": [
    "We call this problem $(P)_k$:\n",
    "\n",
    "$$ -\\Delta u = \\frac{4}{k^2} e^u (1 - e^u) - 4 \\pi \\sum_{j=1}^N \\delta_{p_j}\n",
    "$$\n",
    "\n",
    "**Theorem (G. Tarantello, Birkhauser PNDE 2008):**  There exists a critical value of the Chern-Simons parameter $k_c = k_c (N, |M|) > 0$ such that $(P)_k$ admits a soluiton $\\iff k \\in (0, k_c]$. Moreover, if $0<k<k_c \\implies (P)_k $ admits at least two solutions $u_{\\pm, k}$\n",
    "\n",
    "1. $u_{+,k} \\rightarrow 0$ pointwise. $c_k^+ = \\frac{1}{|M|} \\int u_{+,k} \\rightarrow 0.$\n",
    "2. $u_{-,k},~ c_k^+ = \\frac{1}{|M|} \\int u_{+,k} \\rightarrow -\\infty.$"
   ]
  },
  {
   "cell_type": "markdown",
   "metadata": {
    "collapsed": true
   },
   "source": [
    "We call this problem $(1)_\\rho$\n",
    "\n",
    "$$-\\Delta w = \\rho ( \\frac{e^w}{\\int_M e^w} - \\frac{1}{|M|} ) - (4 \\pi \\sum_{j=1}^{N_j} \\alpha_j \\delta_{p_j} )  - \\frac{4 \\pi N}{|M|} $$\n",
    "$$ \\int_M w = 0$$\n",
    "\n",
    "Here there is no multiplicity among the $p_j$. Rather the multiplicity is accounted for by the $\\alpha_j$. \n",
    "$$\n",
    "N = \\sum_{j=1}^{N_j} \\alpha_j, ~\\alpha_j > -1. \n",
    "$$\n",
    "\n",
    "\n",
    "The set of solutions of $(1)_\\rho$ is compact provided that $\\rho \\in [0,L]\\backslash \\Gamma$ where $\\Gamma$ is a discrete set. In particular, if $\\alpha_j \\in \\mathbb{N} \\bigcup \\{ 0 \\} \\implies \\Gamma = 8 \\pi \\mathbb{N}.$\n"
   ]
  },
  {
   "cell_type": "markdown",
   "metadata": {},
   "source": [
    "\"Leray-Schauder degree\" of the regular part of the solutions is independent of $\\rho \\in (8 \\pi (k-1), 8\\pi k)$, ~k \\in \\mathbb{N}$. The degree depends *only* on $k$ here.\n",
    "\n",
    "[Chen-Lin](http://onlinelibrary.wiley.com/doi/10.1002/cpa.3014/abstract)\n",
    "\n",
    "Malchiodi-Djiali\n",
    "\n",
    "[Andrea Malchiodi](https://en.wikipedia.org/wiki/Andrea_Malchiodi)\n",
    "\n",
    "Interesting analytical features connected to $\\chi(M)$, the Euler characteristic!\n",
    "\n",
    "Interesting dichotomy in the **concentration-compactness** analysis. When the $\\alpha_j$ are non-integer, there are interesting excesses that accumulate into the blowup concentrations."
   ]
  },
  {
   "cell_type": "markdown",
   "metadata": {},
   "source": [
    "**blow-up analysis** up to suitable scaling, bubbles are formed which are described as solutions of a *Liouville problem*:\n",
    "\n",
    "$$ -\\Delta u = e^u - 4 \\pi \\alpha \\delta_0, ~{\\mbox{in}}~ \\mathbb{R}^2$$\n",
    "$$ \\int_{\\mathbb{R}^2} e^u < \\infty$$\n",
    "where $\\alpha =0$ if $z_k \\notin \\{ p_1, \\dots, p_N \\}$ OR $\\alpha = \\alpha_i$ if $z_k = p_j$.\n"
   ]
  },
  {
   "cell_type": "markdown",
   "metadata": {},
   "source": [
    "## What do we know about systems?\n",
    "\n",
    "We have a whole systems extension of all this! Not all of what I said persists but some of it extends. The work is \"much more delicate\".\n",
    "\n",
    "Systerm versions of these results toward the applications to non-abelian vortices.\n",
    "\n",
    "Coupling matrix (2x2 case). $G = U(1) \\times SU(N)$. In the case $N=2$ and $k =3$, you get the *Toda System*. Most of the results described in these lectures (in the \"regular\" case $\\alpha_j = 0$) extend to the Toda System. ... connections to Algebraic Geometry here. When you are away from the Today System, we don't really know what's going on."
   ]
  },
  {
   "cell_type": "markdown",
   "metadata": {},
   "source": [
    "**Q:** Time varying extensions?\n",
    "\n",
    "$$\n",
    "\\frac{d}{dt} u = \n",
    "$$\n",
    "\n",
    "Look at the mean field...\n",
    "\n",
    "$$ \\int_M \\frac{1}{2} |\\nabla u |^2 - \\rho \\ln \\frac{1}{|M|} \\int h_0  e^u = E(u).\n",
    "$$\n",
    "\n",
    "Now, study the gradient flow of this problem. \n",
    "\n",
    "**Q:** Well-posedness for the Chern-Simons system?\n",
    "\n",
    ">A: Chae et. al. have some classical local existence for wave generlizations for given CAuchy data. "
   ]
  }
 ],
 "metadata": {
  "kernelspec": {
   "display_name": "Python 3",
   "language": "python",
   "name": "python3"
  },
  "language_info": {
   "codemirror_mode": {
    "name": "ipython",
    "version": 3
   },
   "file_extension": ".py",
   "mimetype": "text/x-python",
   "name": "python",
   "nbconvert_exporter": "python",
   "pygments_lexer": "ipython3",
   "version": "3.4.3"
  }
 },
 "nbformat": 4,
 "nbformat_minor": 0
}
