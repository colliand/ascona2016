{
 "cells": [
  {
   "cell_type": "markdown",
   "metadata": {
    "slideshow": {
     "slide_type": "slide"
    }
   },
   "source": [
    "# Nonlinear Schrödinger as a Dynamical System\n",
    "\n",
    "#### [Ascona Winter School 2016](http://www.math.uzh.ch/pde16/index-Ascona2016.html), [(alternate link)](http://www.monteverita.org/en/90/default.aspx?idEvent=295&archive=)\n",
    "\n",
    "\n",
    "#### [J. Colliander](http://colliand.com) ([UBC](http://www.math.ubc.ca))"
   ]
  },
  {
   "cell_type": "markdown",
   "metadata": {
    "slideshow": {
     "slide_type": "subslide"
    }
   },
   "source": [
    "## Lectures\n",
    "\n",
    "1. [Introduction](http://nbviewer.jupyter.org/github/colliand/ascona2016/blob/master/colliander-lecture1.ipynb)\n",
    "2. **[Conservation](http://nbviewer.jupyter.org/github/colliand/ascona2016/blob/master/colliander-lecture2.ipynb)**\n",
    "3. [Monotonicity](http://nbviewer.jupyter.org/github/colliand/ascona2016/blob/master/colliander-lecture3.ipynb)\n",
    "4. [Research Frontier](http://nbviewer.jupyter.org/github/colliand/ascona2016/blob/master/colliander-lecture4.ipynb)\n",
    "\n",
    "###  https://github.com/colliand/ascona2016\n",
    "\n",
    "***"
   ]
  },
  {
   "cell_type": "markdown",
   "metadata": {
    "slideshow": {
     "slide_type": "subslide"
    }
   },
   "source": [
    "## Overview of Lecture 2\n",
    "\n",
    "* Conserved Quantities\n",
    "* Bourgain's High/Low Frequency Decomposition\n",
    "* $I$-Method\n",
    "* Multilinear Correction Terms\n",
    "* Applications"
   ]
  },
  {
   "cell_type": "markdown",
   "metadata": {
    "slideshow": {
     "slide_type": "subslide"
    }
   },
   "source": [
    "## Lecture Notes\n",
    "\n",
    "### [https://github.com/colliand/ascona2016](https://github.com/colliand/ascona2016)"
   ]
  },
  {
   "cell_type": "markdown",
   "metadata": {
    "slideshow": {
     "slide_type": "slide"
    }
   },
   "source": [
    "# Conserved Quantities\n",
    "\n",
    "$$\n",
    "\\begin{align*}\n",
    "{\\mbox{Mass}}& = \\| u \\|_{L^2_x}^2 = \\int_{\\mathbb{R}^d} |u(t,x)|^2 dx. \\\\\n",
    "{\\mbox{Momentum}}& = {\\textbf{p}}(u) = 2 \\Im \\int_{\\mathbb{R}^2} {\\overline{u}(t)} \\nabla u (t)\n",
    "dx. \\\\\n",
    "{\\mbox{Energy}} & = H[u(t)] = \\frac{1}{2} \\int_{\\mathbb{R}^2} |\\nabla u(t) |^2 dx {\\pm}  \\frac{2}{p+1} |u(t)|^{p+1}  dx .\n",
    "\\end{align*}\n",
    "$$"
   ]
  },
  {
   "cell_type": "markdown",
   "metadata": {
    "slideshow": {
     "slide_type": "subslide"
    }
   },
   "source": [
    "## Conserved ##\n",
    "$$ \\partial_t Q[u] = 0.$$"
   ]
  },
  {
   "cell_type": "markdown",
   "metadata": {
    "slideshow": {
     "slide_type": "fragment"
    }
   },
   "source": [
    " \n",
    "## Almost Conserved##\n",
    "$$\\big| \\partial_t Q[u] \\big| ~\\mbox{is small}.$$\n"
   ]
  },
  {
   "cell_type": "markdown",
   "metadata": {
    "slideshow": {
     "slide_type": "fragment"
    }
   },
   "source": [
    "$$ \\sup_{t \\in T_{lwp}} Q[u(t)] - \\inf_{t \\in T_{lwp}} Q[u(t)] < \\epsilon$$"
   ]
  },
  {
   "cell_type": "markdown",
   "metadata": {
    "slideshow": {
     "slide_type": "fragment"
    }
   },
   "source": [
    "$$ \\int_0^{T_{lwp}} (\\partial_t Q)[u(\\tau)] d\\tau < \\epsilon $$ "
   ]
  },
  {
   "cell_type": "markdown",
   "metadata": {
    "slideshow": {
     "slide_type": "subslide"
    }
   },
   "source": [
    "## Conservation of Mass"
   ]
  },
  {
   "cell_type": "markdown",
   "metadata": {
    "slideshow": {
     "slide_type": "fragment"
    }
   },
   "source": [
    "$$ \\partial_t |u(t)|^2 = \\partial_t ( u \\overline{u} ) = u_t \\overline{u} + u \\overline{u}_t$$\n",
    "\n",
    "\n"
   ]
  },
  {
   "cell_type": "markdown",
   "metadata": {
    "slideshow": {
     "slide_type": "fragment"
    }
   },
   "source": [
    "From the equation $ (i \\partial_t  + \\Delta) u = \\pm |u|^{p-1} u $, we have:\n",
    "$$ u_t = i \\Delta u  \\mp i |u|^{p-1} u$$\n",
    "$$ {\\overline{u}}_t = -i \\Delta {\\overline{u}} \\pm i |u|^{p-1} {\\overline{u}}$$"
   ]
  },
  {
   "cell_type": "markdown",
   "metadata": {
    "slideshow": {
     "slide_type": "fragment"
    }
   },
   "source": [
    "Thus,\n",
    "$$ \\partial_t |u(t)|^2 = [ i \\Delta u \\mp i |u|^{p-1} u] \\overline{u} + u [  -i \\Delta {\\overline{u}} \\pm i |u|^{p-1} {\\overline{u}}]$$"
   ]
  },
  {
   "cell_type": "markdown",
   "metadata": {
    "slideshow": {
     "slide_type": "fragment"
    }
   },
   "source": [
    "$$ \\partial_t |u(t)|^2 = i[ \\overline{u} \\Delta u  - u\\Delta {\\overline{u}} ] \\pm i [ |u|^{p+1}  - |u|^{p+1}  ] $$"
   ]
  },
  {
   "cell_type": "markdown",
   "metadata": {
    "slideshow": {
     "slide_type": "fragment"
    }
   },
   "source": [
    "$$ \\partial_t |u(t)|^2 = \\nabla \\cdot \\Im [ \\overline{u} \\nabla u ]$$ "
   ]
  },
  {
   "cell_type": "markdown",
   "metadata": {
    "slideshow": {
     "slide_type": "slide"
    }
   },
   "source": [
    "# Bourgain's High/Low Method"
   ]
  },
  {
   "cell_type": "markdown",
   "metadata": {
    "slideshow": {
     "slide_type": "fragment"
    }
   },
   "source": [
    "![bourgain-front-page](https://wwejubwfy.s3.amazonaws.com/1998_Bourgain_IMRN_FrontPage.pdf-2016-01-11-06-15-59.jpg)"
   ]
  },
  {
   "cell_type": "markdown",
   "metadata": {
    "slideshow": {
     "slide_type": "subslide"
    }
   },
   "source": [
    "\n",
    "\n",
    "\n",
    "Consider the Cauchy problem for defocusing cubic NLS on $\\mathbb{R}^2$: \n",
    "\\begin{equation*}\n",
    "\\tag{{$NLS^{+}_3 (\\mathbb{R}^2)$}}\n",
    " \\left\\{\n",
    " \\begin{matrix}\n",
    " (i \\partial_t  + \\Delta) u = +|u|^{2} u \\\\\n",
    " u(0,x) = u_{hi_0} (x).\n",
    " \\end{matrix}\n",
    " \\right.\n",
    "\\end{equation*}\n",
    "We describe the first result to give global well-posedness below\n",
    "$H^1$.\n",
    "\n",
    "*  $NLS_3^+ (\\mathbb{R}^2)$ is GWP in $H^s$ for $s > \\frac{2}{3}$.\n",
    "*  First use of *Bilinear Strichartz*\n",
    " estimate was in this proof. \n",
    "*  Proof cuts solution into low and high frequency parts.\n",
    "*  For $u_0 \\in H^s,\n",
    "  ~s>\\frac{2}{3},$ Proof gives (and *crucially exploits*),\n",
    "$$ u(t) - e^{it \\Delta } u_{hi_0} \\in H^1 (\\mathbb{R}^2_x).$$\n"
   ]
  },
  {
   "cell_type": "markdown",
   "metadata": {
    "slideshow": {
     "slide_type": "subslide"
    }
   },
   "source": [
    "\n",
    "\n",
    "# Setting up; Decomposing Data\n",
    "\n",
    "*  Fix a large target time $T$. \n",
    "*  Let $N = N(T)$ be large to be determined.\n",
    "*  Decompose the initial data:\n",
    "$$\n",
    "u_0 = u_{low} + u_{high}\n",
    "$$\n",
    "where\n",
    "$$\n",
    "u_{low} (x) = \\int_{{|\\xi| < N}} ~e^{i x \\cdot \\xi }\n",
    "\\widehat{u_0} (\\xi) d \\xi.\n",
    "$$ \n",
    "*  Our plan is to evolve:\n",
    "$$\n",
    "u_0  =  u_{low} + u_{high}\n",
    "$$\n",
    "to\n",
    "$$ \n",
    "u(t)  =  u_{{low}} (t) + u_{{high}} (t) .\n",
    "$$\n"
   ]
  },
  {
   "cell_type": "markdown",
   "metadata": {
    "slideshow": {
     "slide_type": "subslide"
    }
   },
   "source": [
    "\n",
    "# Sizes of the Data Components\n",
    "\n",
    " \n",
    " Low Frequency Data Size:\n",
    "\n",
    "*  Kinetic Energy:\n",
    "\\begin{align*}\n",
    " \\| \\nabla u_{low} \\|^2_{L^2}  &= \\int_{|\\xi| < N} |\\xi|^{2}\n",
    "  | \\widehat{u_0} (\\xi)|^2 dx \\ \\\\\n",
    "&= \\int_{|\\xi| < N} |\\xi|^{2(1-s)}\n",
    "  |\\xi|^{2s} |\\widehat{u_0} (\\xi)|^2 dx  \\\\\n",
    "& \\leq  N^{2(1-s)} \\| u_0 \\|^2_{H^s} \\leq C_0 N^{2(1-s)}.\n",
    "\\end{align*}\n"
   ]
  },
  {
   "cell_type": "markdown",
   "metadata": {
    "slideshow": {
     "slide_type": "fragment"
    }
   },
   "source": [
    "*  Potential Energy:\n",
    "$\n",
    "\\| u_{low} \\|_{L^4_x} \\leq \\| u_{low} \\|_{L^2}^{1/2} \\|\n",
    "\\nabla u_{low} \\|_{L^2}^{1/2}\n",
    "$\n",
    "$$\n",
    "\\implies H[ u_{low} ] \\leq C N^{2(1-s)}.\n",
    "$$\n"
   ]
  },
  {
   "cell_type": "markdown",
   "metadata": {
    "slideshow": {
     "slide_type": "fragment"
    }
   },
   "source": [
    "High Frequency Data Size:\n",
    "$$\\| u_{high}  \\|_{L^2} \\leq C_0 N^{-s}, ~\\| u_{high} \\|_{H^s} \\leq C_0.$$"
   ]
  },
  {
   "cell_type": "markdown",
   "metadata": {
    "slideshow": {
     "slide_type": "subslide"
    }
   },
   "source": [
    "\n",
    "\n",
    "# LWP of $u_{low}$ Frequency Evolution along NLS\n",
    "\n",
    "The NLS Cauchy Problem for the low frequency data\n",
    "\\begin{equation*}\n",
    "\\tag{{${{NLS}}$}}\n",
    "%\\tag{{$NLS^{+}_3 (\\mathbb{R}^2)$}}\n",
    " \\left\\{\n",
    " \\begin{matrix}\n",
    " (i \\partial_t  + \\Delta) u_{{low}} = +|u_{{low}}|^{2} u_{{low}} \\\\\n",
    " u_{{low}}(0,x) = u_{low} (x)\n",
    " \\end{matrix}\n",
    " \\right.\n",
    "\\end{equation*}\n",
    "is well-posed on $[0, T_{lwp}]$ with $T_{lwp} \\thicksim \\|\n",
    "u_{low} \\|_{H^1}^{-2} \\thicksim N^{-2(1-s)}$.\n",
    "\n",
    "We obtain, as a consequence of the local theory, that\n",
    "$$\n",
    "\\| u_{{low}} \\|_{L^4_{[0,T_{lwp}], x}} \\leq \\frac{1}{100}.\n",
    "$$\n"
   ]
  },
  {
   "cell_type": "markdown",
   "metadata": {
    "slideshow": {
     "slide_type": "subslide"
    }
   },
   "source": [
    "\n",
    "# LWP of $u_{high}$ Evolution along DE\n",
    "\n",
    "The NLS Cauchy Problem for the high frequency data\n",
    "\\begin{equation*}\n",
    "%\\tag{{$NLS^{+}_3 (\\mathbb{R}^2)$}}\n",
    " \\left\\{\n",
    " \\begin{matrix}\n",
    " (i \\partial_t  + \\Delta) u_{{high}} = +2 |u_{{low}}|^2 u_{{high}} +\n",
    " {\\mbox{similar}} + |u_{{high}}|^{2} u_{{high}} \\\\\n",
    " u_{{high}} (0,x) = u_{high} (x)\n",
    " \\end{matrix}\n",
    " \\right.\n",
    "\\end{equation*}\n",
    "is also well-posed on $[0, T_{lwp}]$. \n",
    "\n",
    "\n",
    "**Crucial Observation:** The LWP lifetime of $NLS$ evolution of $u_{{low}}$ AND\n",
    "the LWP lifetime of the $DE$ evolution of $u_{{high}}$ are controlled by\n",
    "$\\| u_{{low}}(0)\\|_{H^1}$."
   ]
  },
  {
   "cell_type": "markdown",
   "metadata": {
    "slideshow": {
     "slide_type": "subslide"
    }
   },
   "source": [
    "\n",
    "\n",
    "# Extra Smoothing of Nonlinear Duhamel Term\n",
    "\n",
    "The high frequency evolution may\n",
    "be written\n",
    "$$\n",
    "u_{{high}} (t) = e^{it \\Delta} u_{{high}} + w.\n",
    "$$\n",
    "The local theory gives $\\| w(t) \\|_{L^2}  \\lesssim N^{-s}$. Moreover, \n",
    "due to smoothing (obtained via bilinear Strichartz), we have that\n",
    "\\begin{equation}\n",
    "\\tag{SMOOTH!}\n",
    "w \\in H^1, ~ \\| w(t) \\|_{H^1}\n",
    "\\lesssim N^{1-2s+}. \n",
    "\\end{equation}\n",
    "Let's postpone the proof of (SMOOTH!)."
   ]
  },
  {
   "cell_type": "markdown",
   "metadata": {
    "slideshow": {
     "slide_type": "subslide"
    }
   },
   "source": [
    "\n",
    "\n",
    "# Nonlinear High Frequency Term Hiding Step!\n",
    "\n",
    "*  $\\forall ~t \\in [0, T_{lwp}]$, we have \n",
    "$$\n",
    "u(t) = u_{{low}} (t) + e^{it \\Delta } u_{high}  + w(t).\n",
    "$$\n",
    "* \n",
    "At time $T_{lwp}$, we define data for the progressive scheme:\n",
    "$$\n",
    "u(T_{lwp} ) = u_{{low}} (T_{lwp}) + w(T_{lwp} ) + e^{iT_{lwp} \\Delta}\n",
    "u_{high}.\n",
    "$$\n",
    "\n",
    "$$\n",
    "u(t) = u^{(2)}_{{low}} (t) + u^{(2)}_{{high}} (t)\n",
    "$$\n",
    "for $ t > T_{lwp}$."
   ]
  },
  {
   "cell_type": "markdown",
   "metadata": {
    "slideshow": {
     "slide_type": "subslide"
    }
   },
   "source": [
    "\n",
    "\n",
    "# Hamiltonian Increment: $u_{low} (0) \\longmapsto\n",
    "    u^{(2)}_{{low}} (T_{lwp})$\n",
    "\n",
    "The Hamiltonian increment due to $w(T_{lwp})$ being added to low\n",
    "frequency evolution can be calcluated. Indeed, by Taylor expansion,\n",
    "using the bound  (SMOOTH!) and energy conservation\n",
    "of $u_{{low}}$ evolution, we have\n",
    "using \n",
    "\\begin{align*}\n",
    "H[u^{(2)}_{{l}} (T_{lwp})] &= H[u_{{l}} (0)] + (H[ u_{{l}} (T_{lwp}) +\n",
    "w(T_{lwp}) ] - H[u_{{l}} (T_{lwp})]) \\\\\n",
    "& \\thicksim N^{2(1-s) } + N^{2 -3s+} \\thicksim N^{2(1-s)}.\n",
    "\\end{align*}\n"
   ]
  },
  {
   "cell_type": "markdown",
   "metadata": {
    "slideshow": {
     "slide_type": "fragment"
    }
   },
   "source": [
    "We can accumulate $N^s$ increments of size $N^{2-3s+}$\n",
    "before we double the size $N^{2(1-s)}$\n",
    "of the Hamiltonian. During the iteration, Hamiltonian of ``low\n",
    "frequency'' pieces remains of size $\\lesssim N^{2(1-s)}$ so the LWP\n",
    "steps are of uniform size $N^{-2(1-s)}$. We advance the solution on a\n",
    "time interval of size:\n",
    "$$\n",
    "N^s N^{-2(1-s)} = N^{-2 + 3s}.\n",
    "$$\n",
    "For $s>\\frac{2}{3}$, we can choose $N$ to go past target time $T. ~\\blacksquare$\n"
   ]
  },
  {
   "cell_type": "markdown",
   "metadata": {
    "slideshow": {
     "slide_type": "subslide"
    }
   },
   "source": [
    "\n",
    "# How do we prove (SMOOTH!)?\n",
    "\n",
    "The proof follows from a **bilinear estimate**.\n",
    "\n"
   ]
  },
  {
   "cell_type": "markdown",
   "metadata": {
    "slideshow": {
     "slide_type": "subslide"
    }
   },
   "source": [
    "\n",
    "# Bilinear Strichartz Estimate\n",
    "\n",
    "\n",
    "\n",
    "*  Recall the Strichartz estimate for $(i \\partial_t + \\Delta)$ on $\\mathbb{R}^2$:\n",
    "$$\n",
    "\\| e^{it \\Delta} u_0 \\|_{L^4 ( \\mathbb{R}_t \\times \\mathbb{R}^2_x)} \\leq C \n",
    "\\| u_0  \\|_{L^2 (\\mathbb{R}^2_x)}.\n",
    " $$\n"
   ]
  },
  {
   "cell_type": "markdown",
   "metadata": {},
   "source": [
    "*  We can view this trivially as a bilinear estimate by writing\n",
    "$$\n",
    " \\| e^{it \\Delta} u_0  ~ e^{it \\Delta} v_0 \\|_{L^2 ( \\mathbb{R}_t \\times \\mathbb{R}^2_x)} \\leq C \n",
    " \\| u_0 \\|_{L^2 (\\mathbb{R}^2_x)} \\| v_0  \\|_{L^2 (\\mathbb{R}^2_x)} .\n",
    "$$\n",
    "*  Bourgain refined this trivial bilinear estimate for\n",
    "functions having certain Fourier support properties. "
   ]
  },
  {
   "cell_type": "markdown",
   "metadata": {
    "slideshow": {
     "slide_type": "subslide"
    }
   },
   "source": [
    "\n",
    "\n",
    "# Bilinear Strichartz Estimate\n",
    "\n",
    "For (dyadic) $N \\leq L$ and for $x \\in \\mathbb{R}^2$,\n",
    "$$\n",
    "\\| e^{it\\Delta} f_L e^{it\\Delta} g_N \\|_{L^2_{t,x}} \\leq\n",
    "\\frac{N^{\\frac{1}{2}}}{L^{\\frac{1}{2}}} \\| f_L \\|_{L^2_x} \\| g_N\n",
    "\\|_{L^2_x}.\n",
    "$$\n",
    "\n",
    "\n",
    "\n",
    "*  Here $\\mbox{spt}~(\\widehat{f_L}) \\subset \\{ |\\xi | \\thicksim L\\},\n",
    "  ~g_N$ similar.\n",
    "*  Observe that $\\sqrt{\\frac{N}{L}} \\ll 1$ when $N \\ll L$."
   ]
  },
  {
   "cell_type": "markdown",
   "metadata": {
    "slideshow": {
     "slide_type": "slide"
    }
   },
   "source": [
    "# $I$-Method"
   ]
  },
  {
   "cell_type": "markdown",
   "metadata": {
    "slideshow": {
     "slide_type": "subslide"
    }
   },
   "source": [
    "\n",
    "# The $I$-Method of Almost Conservation\n",
    "\n",
    "\n",
    "\n",
    "Let $H^s \\ni u_0 \\longmapsto u$ solve $NLS$ for $t \\in [0, T_{lwp}], T_{lwp} \\thicksim \\|u_0 \\|_{H^s}^{-2/s}.$\n",
    "\n",
    "\n",
    " Consider two ingredients (to be defined):\n",
    " \n",
    " *  A **smoothing operator** $I = I_N: H^s \\longmapsto H^1$. The $NLS$ evolution $u_0 \\longmapsto u$ induces a **smooth reference evolution** $H^1 \\ni Iu_0 \\longmapsto Iu$ solving $I(NLS)$ equation on $[0,T_{lwp}]$.\n",
    " *  A **modified energy** $\\widetilde{E}[Iu]$ built using the reference evolution."
   ]
  },
  {
   "cell_type": "markdown",
   "metadata": {
    "slideshow": {
     "slide_type": "subslide"
    }
   },
   "source": [
    "\n",
    "# First Version of the $I$-method: ${\\widetilde{E}}= H[Iu]$\n",
    "\n",
    "\n",
    " \n",
    "For $s<1, N \\gg 1$ define smooth monotone $m: \\mathbb{R}^2_\\xi \\rightarrow \\mathbb{R}^+$ s.t.\n",
    "$$\n",
    "m(\\xi) = \n",
    "\\left\\{\n",
    "\\begin{matrix}\n",
    "1 & {\\mbox{for}}~ |\\xi | <N \\\\\n",
    "\\left( \\frac{|\\xi|}{N} \\right)^{s-1} &{\\mbox{for}}~ |\\xi | > 2N.\n",
    "\\end{matrix}\n",
    "\\right.\n",
    "$$\n",
    "\n",
    "\n",
    "The associated Fourier multiplier operator,\n",
    "${\\widehat{(Iu)}} (\\xi) = m(\\xi) \\widehat{u} (\\xi),$\n",
    "satisfies $I: H^s \\rightarrow H^1 $.  Note that, pointwise in time, we have\n",
    "$$\n",
    "\\| u \\|_{H^s} \\lesssim \\| Iu \\|_{H^1} \\lesssim N^{1-s} \\|u \\|_{H^s}.\n",
    "$$\n",
    "\n",
    "\n",
    "Set $\\widetilde{E}[Iu(t)] = H[Iu(t)]$. Other choices of $\\widetilde E$\n",
    "are mentioned later."
   ]
  },
  {
   "cell_type": "markdown",
   "metadata": {
    "slideshow": {
     "slide_type": "subslide"
    }
   },
   "source": [
    "\n",
    "\n",
    "# AC Law Decay and Sobolev GWP index\n",
    "\n",
    "\n",
    "*  **Modified LWP.** Initial $v_0$ s.t. $\\| \\nabla I v_0\n",
    "\\|_{L^2} \\thicksim 1$ has $T_{lwp} \\thicksim 1$. \n",
    "\n",
    "*  **Goal.**  $\\forall ~u_0 \\in H^s, ~\\forall ~T > 0$,  construct \n",
    "$u:[0,T] \\times \\mathbb{R}^2 \\rightarrow \\mathbb{C}.$\n",
    "\n",
    "* $\\iff$ **Dilated Goal.** Construct\n",
    "$\n",
    "u^\\lambda: [0, \\lambda^2 T] \\times \\mathbb{R}^2 \\rightarrow \\mathbb{C}.\n",
    "$\n",
    "\n",
    "* **Rescale Data.** $\\| I \\nabla u_0^\\lambda\n",
    "  \\|_{L^2} \\lesssim N^{1-s} \\lambda^{-s} \\| u_0 \\|_{H^s} \\thicksim 1$\n",
    "provided we choose $\\lambda = \\lambda (N) \\thicksim\n",
    "N^{\\frac{1-s}{s}} \\iff N^{1-s} \\lambda^{-s} \\thicksim 1$.\n",
    "* **Almost Conservation Law.** $\\| I \\nabla u ( t ) \\|_{L^2}\n",
    "  \\lesssim H[Iu(t)]$ and\n",
    "$$\n",
    "\\sup_{t \\in [0, T_{lwp}]} H[Iu(t) ] \\leq H [Iu(0)] + N^{-\\alpha}.\n",
    "$$\n",
    "* **Delay of Data Doubling.** Iterate modified LWP $N^\\alpha$ steps\n",
    "  with $T_{lwp}  \\thicksim 1$. We obtain rescaled solution for $t \\in\n",
    "  [0, N^\\alpha]$.\n",
    "$$\n",
    "\\lambda^2(N) T < N^\\alpha \\iff T < N^{\\alpha + \\frac{2(s-1)}{s}}\n",
    "~{\\mbox{so}}~ s > \\frac{2}{2+\\alpha}~{\\mbox{suffices}}.\n",
    "$$  \n"
   ]
  },
  {
   "cell_type": "markdown",
   "metadata": {
    "slideshow": {
     "slide_type": "subslide"
    }
   },
   "source": [
    "\n",
    "# Almost Conservation Law for $H[Iu]$\n",
    "\n",
    "\n",
    "\n",
    "Given $s > \\frac{4}{7}, N \\gg 1,$ and initial data \n",
    "$u_0 \\in C^{\\infty}_0(\\mathbb{R}^2)$  with $E(I_N u_0) \\leq 1$, then\n",
    "there exists a $ T_{lwp}\\thicksim 1$  so that the solution\n",
    "\\begin{align*}\n",
    "u(t,x) & \\in C([0,T_{lwp}], H^s(\\mathbb{R}^2))\n",
    "\\end{align*}\n",
    "of $NLS_3^+ (\\mathbb{R}^2)$ satisfies\n",
    "\\begin{equation*}\n",
    "\\label{increment}\n",
    "E(I_N u)(t)  =  E(I_N u)(0) + O(N^{- \\frac{3}{2}+}),\n",
    "\\end{equation*}\n",
    "for all $t \\in [0, T_{lwp}]$.\n"
   ]
  },
  {
   "cell_type": "markdown",
   "metadata": {
    "slideshow": {
     "slide_type": "subslide"
    }
   },
   "source": [
    "\n",
    "\n",
    " # Ideas in the Proof of Almost Conservation\n",
    " \n",
    " *  Standard Energy Conservation Calculation:\n",
    "\\begin{align*}\n",
    " \\partial_t H(u) &= \\Re \\int_{\\mathbb{R}^2} \\overline{u_t} (|u|^2 u -\n",
    "\\Delta u) dx \\\\\n",
    "& = \\Re \\int_{\\mathbb{R}^2} \\overline{u_t} ( |u|^2 u -\n",
    "\\Delta u - i u_t) dx = 0.\n",
    "\\end{align*} \n"
   ]
  },
  {
   "cell_type": "markdown",
   "metadata": {},
   "source": [
    "\n",
    "*  For the smoothed reference evolution, we imitate....\n",
    " \\begin{align*}\n",
    "  \\partial_t H(Iu) &= \\Re \\int_{\\mathbb{R}^2} \\overline{Iu_t} (|Iu|^2 Iu -\n",
    " \\Delta Iu  - i I u_t)dx \\\\\n",
    " & = \\Re \\int_{\\mathbb{R}^2} \\overline{Iu_t} ( |Iu|^2 Iu - I (|u|^2 u)) dx \\neq 0.\n",
    " \\end{align*} \n",
    " *  The increment in modified energy involves a commutator,\n",
    " $$H(Iu)(t) - H(Iu)(0) = \\Re \\int_0^t \\int_{\\mathbb{R}^2} \\overline{Iu_t} ( |Iu|^2 Iu - I (|u|^2 u)) dx dt.\n",
    " $$\n",
    " *  Littlewood-Paley, Case-by-Case, **(Bi)linear Strichartz**, $X_{s,b}$...."
   ]
  },
  {
   "cell_type": "markdown",
   "metadata": {
    "slideshow": {
     "slide_type": "subslide"
    }
   },
   "source": [
    "\n",
    "# Remarks\n",
    "\n",
    "*  The almost conservation property\n",
    "$$  \\sup_{t \\in [0, T_{lwp}]} \\widetilde{E}[Iu(t)] \\leq\n",
    "\\widetilde{E}[Iu_0] + N^{-\\alpha}$$\n",
    "leads to GWP for \n",
    "$$\n",
    "s > s_\\alpha = \\frac{2}{2+\\alpha}.\n",
    "$$\n",
    "*  The $I$-method is a **subcritical method**. \n",
    "\n",
    "*  The $I$-method **localizes the conserved density** in\n",
    "      frequency}}.  \n",
    "\n",
    "*  There is a **multilinear corrections algorithm** for defining\n",
    "  other choices of \n",
    "  $\\widetilde{E}$ which yield a better AC property."
   ]
  },
  {
   "cell_type": "markdown",
   "metadata": {
    "slideshow": {
     "slide_type": "slide"
    }
   },
   "source": [
    "# Multilinear Correction Terms"
   ]
  },
  {
   "cell_type": "markdown",
   "metadata": {
    "collapsed": true,
    "slideshow": {
     "slide_type": "subslide"
    }
   },
   "source": [
    "\n",
    "\n",
    "## Multilinear Correction Terms\n",
    "\n",
    "* For $k \\in {\\mathbb{N}}$, define the **convolution hypersurface** \n",
    "$$ \\Sigma_k := \\{ (\\xi_1,\\ldots,\\xi_k) \\in (\\mathbb{R}^2)^k: \\xi_1 + \\ldots +\n",
    "\\xi_k = 0 \\} \\subset (\\mathbb{R}^2)^k.$$\n",
    " * For $M: \\Sigma_k \\to \\mathbb{C}$ and $u_1,\\ldots,u_k$ nice, define\n",
    "   **$k$-linear functional** \n",
    " $$ \\Lambda_k( M; u_1,\\ldots,u_k ) :=\n",
    " c_k ~\\mathbb{R}e \\int\\limits_{\\Sigma_k} M(\\xi_1,\\ldots,\\xi_k) \\widehat{u_1}(\\xi_1) \\ldots \\widehat{u_k}(\\xi_k).$$\n",
    "* For $k \\in 2{\\mathbb{N}}$ abbreviate\n",
    "$\\Lambda_k (M; u) = \\Lambda_k (M; u, \\overline{u}, \\ldots, \\overline{u}).$\n",
    "* $\\Lambda_k (M;u)$ invariant under interchange of even/odd arguments,\n",
    "$$\n",
    "M (\\xi_1,\\xi_2,\\ldots,\\xi_{k-1},\\xi_k) \\mapsto \\overline{M}(\\xi_2,\\xi_1,\\ldots,\\xi_k,\\xi_{k-1}).$$\n",
    "* We can define a symmetrization rule via group orbit."
   ]
  },
  {
   "cell_type": "markdown",
   "metadata": {},
   "source": [
    "\n",
    "## Examples\n",
    "\n",
    "\n",
    "* \n",
    "$$\n",
    "\\int\\limits_x u \\overline{u} u \\overline{u} dx = \\int (\\int e^{i x \\cdot\n",
    "  \\xi_1} \\widehat{u} (\\xi_1) d\\xi_1) \\ldots (\\int e^{i x \\cdot\n",
    "  \\xi_4} \\widehat{\\overline{u}} (\\xi_4) d\\xi_4)  dx\n",
    "$$\n",
    "$$\n",
    "= \\int_{\\xi_1, \\dots,  \\xi_4} \\left[\\int_x e^{i x \\cdot ( \\xi_1 + \\xi_2 +\n",
    "  \\xi_3 + \\xi_4)} dx\\right]  \n",
    "  \\widehat{u} (\\xi_1) \\widehat{\\overline{u}} (\\xi_2) \\widehat{u} (\\xi_3) \\widehat{\\overline{u}} (\\xi_4) \n",
    "  d \\xi_{1, \\ldots ,4}\n",
    "$$\n",
    "$$\n",
    "= \\int\\limits_{\\Sigma_4} \\widehat{u} (\\xi_1) \\widehat{\\overline{u}} (\\xi_2) \n",
    "\\widehat{u} (\\xi_3) \\widehat{\\overline{u}} (\\xi_4)\n",
    "= \\Lambda_4 (1; u).\n",
    "$$\n",
    "\n",
    "* \n",
    "$$\\Lambda_2 (-\\xi_1 \\cdot \\xi_2; u) = \\| \\nabla u \\|_{L^2}^2.$$\n",
    "\n",
    "\n",
    "\n",
    "\n",
    "Thus, $H[u] = \\Lambda_2 ( - \\xi_1 \\cdot \\xi_2; u) \\pm \\Lambda_4 (\\frac{1}{2} ; u)$."
   ]
  },
  {
   "cell_type": "markdown",
   "metadata": {
    "slideshow": {
     "slide_type": "subslide"
    }
   },
   "source": [
    "\n",
    "\n",
    "## Time Dependence of Multilinear Forms\n",
    "\n",
    "Suppose $u$ nicely solves $NLS_3^+ (\\mathbb{R}^2)$; $M$ is time\n",
    "independent, symmetric. \n",
    "\n",
    "### How would you calculate\n",
    "\n",
    "$$\n",
    "\\partial_t \\Lambda_k( M; u(t) )?\n",
    "$$\n"
   ]
  },
  {
   "cell_type": "markdown",
   "metadata": {
    "slideshow": {
     "slide_type": "subslide"
    }
   },
   "source": [
    "## Time Differentiation Formula\n",
    "\n",
    "\n",
    "$$\n",
    "\\partial_t \\Lambda_k( M; u(t) ) =\n",
    "\\Lambda_k( i M \\alpha_k; u(t) ) - \\Lambda_{k+2}( i k X(M); u(t) ) \n",
    "$$\n",
    "$$\n",
    "=\n",
    "\\Lambda_k( i M \\alpha_k; u(t) ) - \\Lambda_{k+2}( [i k X(M)]_{sym}; u(t)\n",
    ").\n",
    "$$\n",
    "Here\n",
    "$$ \\alpha_k(\\xi_1,\\ldots,\\xi_k) := -|\\xi_1|^2 + |\\xi_2|^2 - \\ldots - |\\xi_{k-1}|^2 + |\\xi_k|^2$$\n",
    "(so $\\alpha_2 = 0$ on $\\Sigma_2$) and \n",
    "$$ X(M)(\\xi_1,\\ldots,\\xi_{k+2}) := M( \\xi_{123}, \\xi_4, \\ldots, \\xi_{k+2}).$$\n",
    "We use the notation $\\xi_{ab} := \\xi_a + \\xi_b$, $\\xi_{abc} := \\xi_a +\n",
    "\\xi_b + \\xi_c$, etc.  "
   ]
  },
  {
   "cell_type": "markdown",
   "metadata": {
    "slideshow": {
     "slide_type": "subslide"
    }
   },
   "source": [
    "\n",
    "\n",
    "## AC Quantities via Multilinear Corrections\n",
    "\n",
    "\n",
    "*  Abbreviate $m(\\xi_j)$ as $m_j$. Define $\\sigma_2$ s.t. $\\| I \\nabla u \\|_{L^2}^2 = \\Lambda_2 (\\sigma_2; u):$ \n",
    "$$\\sigma_2(\\xi_1,\\xi_2) := -\n",
    "  \\frac{1}{2} \\xi_1 m_1 \\cdot \\xi_2 m_2 = \\frac{1}{2} |\\xi_1|^2 m_1^2$$\n",
    " \n",
    "* With $\\tilde \\sigma_4$ (symmetric, time independent) {{to be determined}}, set\n",
    "$$\n",
    "{\\widetilde{E}}  := \\Lambda_2( \\sigma_2 ; u ) + \\Lambda_4( \\tilde\n",
    "\\sigma_4 ; u ).\n",
    "$$\n",
    "* Using the time differentiation formula, we calculate\n",
    "$$\n",
    "\\partial_t \\widetilde E = \\Lambda_4 (  {{\\left\\{i \\tilde\n",
    "      \\sigma_4 \\alpha_4 -     i 2[ X (\\sigma_2)]_{sym} \\right\\}}} ; u) -\n",
    "\\Lambda_6  ( [i 4 X(\\tilde \\sigma_4)]_{sym}; u).\n",
    "$$\n",
    "\n",
    "\n",
    "\n",
    "We'd like to define $\\tilde \\sigma_4$ to cancel away the $\\Lambda_4$\n",
    "contribution. "
   ]
  },
  {
   "cell_type": "markdown",
   "metadata": {
    "slideshow": {
     "slide_type": "subslide"
    }
   },
   "source": [
    "\n",
    " \n",
    " ## Natural Choice of $\\sigma_4$ Fails\n",
    " \n",
    "Here is the natural choice:\n",
    " $$ \\tilde \\sigma_4 =~ \\frac{[2 i X(\\sigma_2)]_{sym}}{i \\alpha_4}.$$\n",
    "On $\\Sigma_4$, we can reexpress $\\alpha_4 = -|\\xi_1|^2 + |\\xi_2|^2\n",
    "-|\\xi_3|^2 + |\\xi_4|^2$ as\n",
    "$$\n",
    "\\alpha_4 = -2 \\xi_{12} \\cdot \\xi_{14} = -2 |\\xi_{12}| |\\xi_{14}| \\cos\n",
    "\\angle(\\xi_{12},\\xi_{14}), \n",
    "$$\n",
    "and\n",
    "$$\n",
    "[2 i X(\\sigma_2)]_{sym} = \\frac{1}{4} ( - m_1^2 |\\xi_1|^2 + m_2^2\n",
    "|\\xi_2|^2 - m_3^2 |\\xi_3|^2 + m_4^2 |\\xi_4|^2 ).\n",
    "$$\n",
    "When all the $m_j = 1$ (so $\\max_{j} |\\xi_j | < N$), $\\tilde \\sigma_4$ is\n",
    "well-defined. However, $\\alpha_4$ can also vanish when $\\xi_{12}$ and\n",
    "$\\xi_{14}$ are orthogonal. \n",
    "\n",
    "### Small Divisor Problem\n",
    "\n",
    "\n"
   ]
  },
  {
   "cell_type": "markdown",
   "metadata": {
    "slideshow": {
     "slide_type": "subslide"
    }
   },
   "source": [
    " \n",
    "## Speculation on Integrable Systems?\n",
    "\n",
    "For $NLS_3^+ (\\mathbb{R})$,\n",
    "the resonant obstruction disappears. Thus, \n",
    "$$ \\widetilde E^1 = \\Lambda_2 (\\sigma_2) + \\Lambda_4 (\\tilde \\sigma_4);$$\n",
    "$$ \\partial_t \\widetilde E^1 = - \\Lambda_6 ( [i 4 X(\\tilde \\sigma_4)]_{sym}).$$\n",
    "We can then define, with $\\tilde \\sigma_6$ to be determined,\n",
    "$$\\widetilde E^2 = \\widetilde E^1 + \\Lambda_6 (\\tilde \\sigma_6 );$$\n",
    "$$\n",
    "\\partial_t \\widetilde E^2 =  \\Lambda_6 ( {{\\{ i \\tilde \\sigma_6\n",
    "    \\alpha_6 -  [i 4 X(\\tilde \\sigma_4)]_{sym}\\} }}) + \n",
    "\\Lambda_{8}( [i 6 X(\\tilde \\sigma_6)]_{sym}).\n",
    "$$\n",
    "Let's define\n",
    "$$\n",
    "\\tilde \\sigma_6 = \\frac{[i 4 X (\\tilde \\sigma_4)]_{sym}}{i \\alpha_6}.\n",
    "$$"
   ]
  },
  {
   "cell_type": "markdown",
   "metadata": {
    "slideshow": {
     "slide_type": "subslide"
    }
   },
   "source": [
    "\n",
    "## Speculation on Integrable Systems?\n",
    "\n",
    "Thus, we formally obtain a continued-fraction-like algorithm.\n",
    "$$\n",
    "\\tilde \\sigma_6 = \\frac{\\left[i 4 X \\left ( \\frac{[2 i\n",
    "      X(\\sigma_2)]_{sym}}{i \\alpha_4}\\right)\\right]_{sym}}{i \\alpha_6}, \n",
    "$$\n",
    "$$\n",
    "\\tilde \\sigma_8 = \\frac{\\left[i 6 X \\left( \\frac{\\left[i 4 X \\left ( \\frac{[2 i\n",
    "      X(\\sigma_2)]_{sym}}{i \\alpha_4}\\right)\\right]_{sym}}{i \\alpha_6}\n",
    "\\right)\\right]_{sym}}{i \\alpha_8}, \\ldots.\n",
    "$$\n",
    "Each step gains two derivatives but costs two more factors.\n",
    "\n",
    "**Speculation:** The multipliers $\\tilde \\sigma_6, \\tilde \\sigma_8,\n",
    "\\ldots$ are well defined and lead to better AC properties. Same for\n",
    "other integrable systems."
   ]
  }
 ],
 "metadata": {
  "celltoolbar": "Slideshow",
  "kernelspec": {
   "display_name": "Python 3",
   "language": "python",
   "name": "python3"
  },
  "language_info": {
   "codemirror_mode": {
    "name": "ipython",
    "version": 3
   },
   "file_extension": ".py",
   "mimetype": "text/x-python",
   "name": "python",
   "nbconvert_exporter": "python",
   "pygments_lexer": "ipython3",
   "version": "3.4.3"
  }
 },
 "nbformat": 4,
 "nbformat_minor": 0
}
