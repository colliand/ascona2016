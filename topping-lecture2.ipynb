{
 "cells": [
  {
   "cell_type": "markdown",
   "metadata": {},
   "source": [
    "# Teichmueller harmonic map flow -- Lecture 2\n",
    "\n",
    "> [Peter Topping](http://homepages.warwick.ac.uk/~maseq/), University of Warwick\n",
    "\n",
    "#### [Ascona Winter School 2016](http://www.math.uzh.ch/pde16/index-Ascona2016.html), [(alternate link)](http://www.monteverita.org/en/90/default.aspx?idEvent=295&archive=)\n",
    "\n",
    "[extended notes on the lectures](http://homepages.warwick.ac.uk/~maseq/ASCONA/)"
   ]
  },
  {
   "cell_type": "markdown",
   "metadata": {},
   "source": [
    "1. [Lecture 1](http://nbviewer.jupyter.org/github/colliand/ascona2016/blob/master/topping-lecture1.ipynb)\n",
    "2. [Lecture 2](http://nbviewer.jupyter.org/github/colliand/ascona2016/blob/master/topping-lecture2.ipynb)\n",
    "3. [Lecture 3](http://nbviewer.jupyter.org/github/colliand/ascona2016/blob/master/topping-lecture3.ipynb)\n",
    "4. [Lecture 4](http://nbviewer.jupyter.org/github/colliand/ascona2016/blob/master/topping-lecture4.ipynb)"
   ]
  },
  {
   "cell_type": "markdown",
   "metadata": {},
   "source": [
    "\n",
    "\n",
    "## The Harmonic Map Flow\n",
    "\n",
    "[Eels-Sampson 1964](http://www.math.jhu.edu/~js/Math646/eells-sampson.pdf)\n",
    "\n",
    "$$u:(M,g) \\longmapsto (N,G)$$\n",
    "\n",
    "$$ \\frac{\\partial u}{\\partial t} = \\tau (u) = \"\\Delta u\"$$\n",
    "\n",
    "$$ \\implies \\frac{dE}{dt} = - \\int |\\tau|^2$$.\n",
    "\n"
   ]
  },
  {
   "cell_type": "markdown",
   "metadata": {},
   "source": [
    "** Theorem (Eels-Sampson, Hartman):** If $(N,g)$ has nonpositive sectional curvature, then given $u:M \\longmapsto N ~ \\exists$ smooth flow $u$ with $u(0) = u_0$ and $u(t) \\rightarrow u_\\infty$ in $C^k$ as $ t \\rightarrow \\infty$ where $u_\\infty$ is a harmonic map $M \\longmapsto N$, momostopic to $u_0$.\n",
    "\n",
    "Hartman's contribution was to show that the convergence is uniform. Hartman also showed that the destination map is \"essentially\" unique. "
   ]
  },
  {
   "cell_type": "markdown",
   "metadata": {},
   "source": [
    "Let's switch back to two dimensions but release the condition that the curvature is nonpositive. We can them embed $(N,G)$ isometrically into $\\mathbb{R}^n$ using the [Nash Embedding Theorem](https://en.wikipedia.org/wiki/Nash_embedding_theorem). \n",
    "\n",
    "The simplest thing you might do is to calcluate the Laplacian and then project it into the direction of the tension field. Harmonic map flow:\n",
    "$$\n",
    "\\frac{\\partial u}{\\partial t} = (\\Delta u)^T.\n",
    "$$\n",
    "\n",
    "The reason for doing this embedding is that it allows us to beging talking about rough embeddings right away. The embedding allows us to discuss Sobolev regularity, for example.\n",
    "\n",
    "**Theorem (Struwe 85):** Given $ u \\in W^{1,p}(M,N)$ there exists weak solution $u \\in W^{1,2}_{loc} (M \\times [0, \\infty), N)$ which is smooth except at finitely many points $S_1 \\subset M \\times (0, \\infty)$ such that \n",
    "\n",
    "1. $u(0) = u_0$,\n",
    "2. $E(u(t)) \\searrow$ in $t$\n",
    "3. There exists a sequence of times $t_i \\rightarrow \\infty$ and a smooth harmonic map $u_\\infty : M \\rightarrow N$ such that $u(t_i) \\rightharpoonup u_\\infty$ in $W^{1,2} (M,N)$ and $u(t_i) \\rightarrow u_\\infty$ in $W^{2,2}_{loc} (M\\backslash S_2, N)$ finite set."
   ]
  },
  {
   "cell_type": "markdown",
   "metadata": {},
   "source": [
    "We can't omit the $S_1, S_2$ singular sets.\n",
    "\n",
    "**Theorem (Eels-Wood):** There does not exist a harmonic map of degree 1 from $T^2 \\longmapsto S^2$.\n",
    "\n",
    "Maps like this exist but they can not be deformed into harmonic maps."
   ]
  },
  {
   "cell_type": "markdown",
   "metadata": {},
   "source": [
    "At points in $S_1$ and $S_2$, we encounter the phenomena of **bubbling**. A quantum of energy would be flowing into a small region of space. There is only one strategy to try and understand what's going on in this scenario: rescale!\n"
   ]
  },
  {
   "cell_type": "markdown",
   "metadata": {},
   "source": [
    "**Theorem (Struwe):** Suppose $u$ as in preceding theorem. Then WLOG $\\{ t_i \\}$ also satisfies:\n",
    "$\\forall ~x_0 \\in S_2$, when we pick local isothermal coordinates near $x_0$ there exists rescaling points $a_i \\rightarrow 0 \\subset ~\\mathbb{R}^2$ and scales $\\lambda_i \\searrow 0$ and nonconstant harmonic map $\\omega: S^2 \\longmapsto (N,G)$ such that $u(a_i + \\lambda_i y, t_i) \\longmapsto \\omega (y)$ in $W^{2,2}_{loc} (\\mathbb{R}^2, N).$"
   ]
  },
  {
   "cell_type": "markdown",
   "metadata": {},
   "source": [
    "You can also perform this rescaled bubble analysis at finite time. "
   ]
  },
  {
   "cell_type": "markdown",
   "metadata": {},
   "source": [
    "That's a way of extracting a bubble. The energy will be lost into the bubble. The next part of the story involves a conisderation of different rescaling centers and scales which may capture other mechanisms for the loss of energy. We know by the Eels-Wood result that we can't have $S_1$ and $S_2$ both be empty. Some examples by Cheng-Ding and others show that the various possible scenarios are actually realized. "
   ]
  },
  {
   "cell_type": "markdown",
   "metadata": {},
   "source": [
    "**Consequence:** If there does not exist a bubble in $(N,g)$ then the flow is globally smooth and converges to $u_\\infty$ uniformly.\n",
    "\n",
    "**Lemma:** There does not exist a non-constant harmonic map $S^2 \\rightarrow (N,G)$ if $(N,G)$ has nonpositive curvature.\n",
    "\n",
    "Why? Suppose you do have such a map. Take your target and lift it to the universal cover. You can then lift the map so this gives a nonconstant harmonic map from $S^2$ into the universal cover of a nonpositively curved manifold. On such a manifold, the distnace from any point defines a convex function. You can compose the distance function with the harmonic map and then deduce, using the maximum principle, that the harmonic map must be constant."
   ]
  },
  {
   "cell_type": "markdown",
   "metadata": {},
   "source": [
    "**Theorem:** Suppose the closed target manifold satisfies $\\Pi_2 (N) \\neq \\{0 \\}$. Then $\\forall ~G$ there exists a BMI (branched minimal immersion) with $S^2 \\longmapsto (N, G)$.\n",
    "\n",
    "**Proof:** Take a nontrivial $u_0: S^2 \\longmapsto N$. Flow using the harmonic map flow. Then, there is a dichotomy. Either $S_1 = \\emptyset, ~S_2 = \\emptyset$ and $u_\\infty$ is that BMI, OR a bubble develops and $\\omega$ is that BMI."
   ]
  },
  {
   "cell_type": "markdown",
   "metadata": {},
   "source": [
    "You can often find harmonic maps from $S^2$. What would you do if you want to build a high genus harmonic map? How can we find high genus branched minimal immersions?\n",
    "\n",
    "## Finding higher genus BMIs"
   ]
  },
  {
   "cell_type": "markdown",
   "metadata": {},
   "source": [
    "Now, we need to look for critical points of $E(u,g)$. \n",
    "\n",
    "* try gradient flow for $E(u,g)$. What does this mean? $L^2$-gradient flow? Move $u$ in the direction of the tension field and the $g$ should move in the direction of $\\Re( \\Phi(u,g) )$. There's maybe a theory here but it's tricky and hard to analyze. You could normalize by adding a negative Ricci term...seems bad.\n",
    "* We proceed differerntly. Exploit the conformal invariance of the energy $E(u,g) = E(u, fg)$ with $f>0$. We can therefore choose a nice conformal representative of $g$. This allows us to restrict $g$ to metrics with constant curvature. We can even do a bit better than that...super important result\n",
    "\n",
    "**Lemma:** Any surface $(N,g)$ can be conformally deformed to a surface of constant Gauss curvature with value $+1, 0, -1$. $M=S^2$ corresponds to case +1. $M=\\mathbb{T}^2$ corresponds to case 0. $genus(M) \\geq 2 $ is in the case -1.\n",
    "\n",
    "**Proof of Lemma:** Run Ricci flow. $\\frac{\\partial g}{\\partial t} = (k_0 - k) g$ where $k_0 = \\{ +1, 0 , -a \\}$. \n"
   ]
  },
  {
   "cell_type": "markdown",
   "metadata": {},
   "source": [
    "Idea of the Teichmller Harmonic map flow is to restrict $g$ to $\\mathcal{M}_c$. The next task is to begin to understand this set of constant curvature metrics."
   ]
  },
  {
   "cell_type": "code",
   "execution_count": null,
   "metadata": {
    "collapsed": true
   },
   "outputs": [],
   "source": []
  }
 ],
 "metadata": {
  "kernelspec": {
   "display_name": "Python 3",
   "language": "python",
   "name": "python3"
  },
  "language_info": {
   "codemirror_mode": {
    "name": "ipython",
    "version": 3
   },
   "file_extension": ".py",
   "mimetype": "text/x-python",
   "name": "python",
   "nbconvert_exporter": "python",
   "pygments_lexer": "ipython3",
   "version": "3.4.3"
  }
 },
 "nbformat": 4,
 "nbformat_minor": 0
}
