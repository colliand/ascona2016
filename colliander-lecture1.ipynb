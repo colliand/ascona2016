{
 "cells": [
  {
   "cell_type": "markdown",
   "metadata": {
    "slideshow": {
     "slide_type": "slide"
    }
   },
   "source": [
    "# Nonlinear Schrödinger as a Dynamical System\n",
    "\n",
    "> #### [J. Colliander](http://colliand.com) ([UBC](http://www.math.ubc.ca))\n",
    "\n",
    "#### [Ascona Winter School 2016](http://www.math.uzh.ch/pde16/index-Ascona2016.html), [(alternate link)](http://www.monteverita.org/en/90/default.aspx?idEvent=295&archive=)\n",
    "\n"
   ]
  },
  {
   "cell_type": "markdown",
   "metadata": {
    "slideshow": {
     "slide_type": "subslide"
    }
   },
   "source": [
    "## Lectures\n",
    "\n",
    "1. **[Introduction](http://nbviewer.jupyter.org/github/colliand/ascona2016/blob/master/colliander-lecture1.ipynb)**\n",
    "2. [Conservation](http://nbviewer.jupyter.org/github/colliand/ascona2016/blob/master/colliander-lecture2.ipynb)\n",
    "3. [Monotonicity](https://github.com/colliand/ascona2016/blob/master/colliander-lecture3.ipynb)\n",
    "4. Research Frontier\n",
    "\n",
    "[source code](https://github.com/colliand/ascona2016)\n",
    "\n",
    "***"
   ]
  },
  {
   "cell_type": "markdown",
   "metadata": {
    "slideshow": {
     "slide_type": "subslide"
    }
   },
   "source": [
    "## Overview of Lecture 1\n",
    "\n",
    "* Initial Value Problem for NLS\n",
    "* Conserved Quantities\n",
    "* Well-posedness Theory"
   ]
  },
  {
   "cell_type": "markdown",
   "metadata": {
    "slideshow": {
     "slide_type": "slide"
    }
   },
   "source": [
    "# Initial Value Problem for NLS"
   ]
  },
  {
   "cell_type": "markdown",
   "metadata": {
    "slideshow": {
     "slide_type": "subslide"
    }
   },
   "source": [
    "# Initial Value Problem for NLS\n",
    "\n",
    "$$\n",
    "\\begin{equation*}\n",
    "\\tag{$NLS^{\\pm}_p (\\Omega)$}\n",
    " \\left\\{\n",
    " \\begin{matrix}\n",
    " (i \\partial_t  + \\Delta) u = \\pm |u|^{p-1} u \\\\\n",
    " u(0,x) = u_0 (x), ~ x \\in \\Omega.\n",
    " \\end{matrix}\n",
    " \\right.\n",
    "\\end{equation*}\n",
    "$$"
   ]
  },
  {
   "cell_type": "markdown",
   "metadata": {
    "slideshow": {
     "slide_type": "subslide"
    }
   },
   "source": [
    "## Studies explore interplay between:\n",
    "\n",
    "* Dispersion\n",
    "* Nonlinearity"
   ]
  },
  {
   "cell_type": "markdown",
   "metadata": {
    "slideshow": {
     "slide_type": "fragment"
    }
   },
   "source": [
    "Dilation invariance quantifies the balance between these effects."
   ]
  },
  {
   "cell_type": "markdown",
   "metadata": {
    "slideshow": {
     "slide_type": "subslide"
    }
   },
   "source": [
    "## Dilation Invariance\n",
    "\n",
    "One solution $u$ generates parametrized family $\\{u^\\lambda\\}_{\\lambda > 0}$ of solutions:\n",
    "\n",
    "$$u:[0,T) \\times \\mathbb{R}^d_x \\rightarrow \\mathbb{C} ~{\\mbox{solves}}~ NLS_p^{\\pm}(\\mathbb{R}^d)$$ \n",
    "\n",
    "$${\\iff}$$\n",
    "\n",
    "$$u^\\lambda: [0,\\lambda^2 T )\\times \\mathbb{R}^d_x \\rightarrow \\mathbb{C} ~{\\mbox{solves}}~ NLS_p^{\\pm}(\\mathbb{R}^d)$$ \n",
    "where\n",
    "$$\n",
    "u^\\lambda (\\tau, y) = \\lambda^{-2/(p-1)} u( \\lambda^{-2} \\tau, \\lambda^{-1} y).\n",
    "$$\n"
   ]
  },
  {
   "cell_type": "markdown",
   "metadata": {
    "slideshow": {
     "slide_type": "fragment"
    }
   },
   "source": [
    "Norms which are invariant under $u \\longmapsto u_\\lambda$ are **critical**. "
   ]
  },
  {
   "cell_type": "markdown",
   "metadata": {
    "slideshow": {
     "slide_type": "subslide"
    }
   },
   "source": [
    "## Critical Regularity\n"
   ]
  },
  {
   "cell_type": "markdown",
   "metadata": {
    "slideshow": {
     "slide_type": "fragment"
    }
   },
   "source": [
    "\n",
    "In the $L^2$-based Sobolev scale,\n",
    "$$\n",
    "\\| D^s u^\\lambda (t) \\|_{L^2} = \\lambda^{-\\frac{2}{p-1} - s + \\frac{d}{2}} \\| D^s u (t)\\|_{L^2}.\n",
    "$$\n",
    "\n",
    "\n"
   ]
  },
  {
   "cell_type": "markdown",
   "metadata": {
    "slideshow": {
     "slide_type": "fragment"
    }
   },
   "source": [
    "The **critical Sobolev index** for $NLS_p^{\\pm}(\\mathbb{R}^d)$ is\n",
    "$$\n",
    "s_c := \\frac{d}{2} - \\frac{2}{p-1}.\n",
    "$$"
   ]
  },
  {
   "cell_type": "markdown",
   "metadata": {
    "slideshow": {
     "slide_type": "subslide"
    }
   },
   "source": [
    "## Critical Regularity Regimes"
   ]
  },
  {
   "cell_type": "markdown",
   "metadata": {
    "slideshow": {
     "slide_type": "fragment"
    }
   },
   "source": [
    "\n",
    "\n",
    "| critical Sobolev index   | Regime                      | \n",
    "|:---------------:|:-------------------------------:| \n",
    "| $ s_c < 0$      | mass subcritical                |\n",
    "| $0 < s_c < 1$   | mass super/energy subcritical   |  \n",
    "| $s_c = 1$       | energy critical                 |  \n",
    "| $1 < s_c < \\frac{d}{2}$| energy supercritical     |\n",
    "\n",
    "\n",
    "\n"
   ]
  },
  {
   "cell_type": "markdown",
   "metadata": {
    "slideshow": {
     "slide_type": "subslide"
    }
   },
   "source": [
    "\n",
    "### The spatial domain $\\Omega$?\n",
    "\n",
    "\n",
    "* Infinite measure space like $\\mathbb{R}^d$ \n",
    "* Finite measure space like $\\mathbb{T}^d$"
   ]
  },
  {
   "cell_type": "markdown",
   "metadata": {
    "slideshow": {
     "slide_type": "subslide"
    }
   },
   "source": [
    "### The Choice of Sign?\n",
    " \n",
    "* $+$ **defocusing**\n",
    "* $-$ **focusing**\n",
    "\n",
    "Large data dynamics are completely different."
   ]
  },
  {
   "cell_type": "markdown",
   "metadata": {
    "slideshow": {
     "slide_type": "fragment"
    }
   },
   "source": [
    "> [numerical simulations of $NLS_5^+ (\\mathbb{R}^5)$](https://wwejubwfy.s3.amazonaws.com/chirped-data-NLS5R5-simulation.pdf)"
   ]
  },
  {
   "cell_type": "markdown",
   "metadata": {
    "slideshow": {
     "slide_type": "slide"
    }
   },
   "source": [
    "# Conserved Quantities\n",
    "\n"
   ]
  },
  {
   "cell_type": "markdown",
   "metadata": {
    "slideshow": {
     "slide_type": "subslide"
    }
   },
   "source": [
    "# Conserved Quantities\n",
    "\n",
    "$$\n",
    "\\begin{align*}\n",
    "{\\mbox{Mass}}& = \\| u \\|_{L^2_x}^2 = \\int_{\\mathbb{R}^d} |u(t,x)|^2 dx. \\\\\n",
    "{\\mbox{Momentum}}& = {\\textbf{p}}(u) = 2 \\Im \\int_{\\mathbb{R}^2} {\\overline{u}(t)} \\nabla u (t)\n",
    "dx. \\\\\n",
    "{\\mbox{Energy}} & = H[u(t)] = \\frac{1}{2} \\int_{\\mathbb{R}^2} |\\nabla u(t) |^2 dx {\\pm}  \\frac{2}{p+1} |u(t)|^{p+1}  dx .\n",
    "\\end{align*}\n",
    "$$"
   ]
  },
  {
   "cell_type": "markdown",
   "metadata": {
    "slideshow": {
     "slide_type": "subslide"
    }
   },
   "source": [
    "\n",
    "## Remarks\n",
    "\n",
    "* Conserved quantities constrain the dynamics.\n",
    "* NLS defines a flow on a sphere in $L^2$.\n",
    "* Energy vividly reveals **focusing vs. defocusing** difference.\n",
    "* Mass is $L^2$; Momentum scales like $H^{1/2}$; Energy involves $H^1$.\n",
    "* Local conservation laws express **how** a quantity is\n",
    "  conserved: \n",
    "  $\\partial_t |u|^2= \\nabla \\cdot 2 \\Im (\\overline{u}\n",
    "  \\nabla u)$. "
   ]
  },
  {
   "cell_type": "markdown",
   "metadata": {
    "slideshow": {
     "slide_type": "subslide"
    }
   },
   "source": [
    "# Variations on Conserved Quantities?"
   ]
  },
  {
   "cell_type": "markdown",
   "metadata": {
    "slideshow": {
     "slide_type": "subslide"
    }
   },
   "source": [
    "## Conserved ##\n",
    "$$ \\partial_t Q[u] = 0.$$"
   ]
  },
  {
   "cell_type": "markdown",
   "metadata": {
    "slideshow": {
     "slide_type": "fragment"
    }
   },
   "source": [
    "* Energy/Compactness methods for building solutions.\n",
    "* Globalizing control to extend local-in-time solutions."
   ]
  },
  {
   "cell_type": "markdown",
   "metadata": {
    "slideshow": {
     "slide_type": "subslide"
    }
   },
   "source": [
    " \n",
    "## Almost Conserved##\n",
    "$$\\big| \\partial_t Q[u] \\big| ~\\mbox{is small}.$$\n",
    "\n"
   ]
  },
  {
   "cell_type": "markdown",
   "metadata": {
    "slideshow": {
     "slide_type": "fragment"
    }
   },
   "source": [
    "* Bourgain's High/Low Frequency Decomposition\n",
    "* $I$-Method\n",
    "* Multilinear Correction Terms\n",
    "* Applications"
   ]
  },
  {
   "cell_type": "markdown",
   "metadata": {
    "slideshow": {
     "slide_type": "subslide"
    }
   },
   "source": [
    "## Monotone ## \n",
    "$$\\partial_t Q[u] > 0.$$"
   ]
  },
  {
   "cell_type": "markdown",
   "metadata": {
    "slideshow": {
     "slide_type": "fragment"
    }
   },
   "source": [
    "* Virital identity $\\implies$ blow-up.\n",
    "* Morawetz-type inequalities $\\implies$ decay."
   ]
  },
  {
   "cell_type": "markdown",
   "metadata": {
    "slideshow": {
     "slide_type": "slide"
    }
   },
   "source": [
    "# Well-posedness Theory"
   ]
  },
  {
   "cell_type": "markdown",
   "metadata": {
    "slideshow": {
     "slide_type": "subslide"
    }
   },
   "source": [
    "# Local Well-posedness Theory\n",
    "\n",
    "* Fixed point argument based on Contraction Mapping\n",
    "* Show the \"Picard iterates\" converge\n",
    "* Key innovation for the analysis: identify the right space!"
   ]
  },
  {
   "cell_type": "markdown",
   "metadata": {
    "slideshow": {
     "slide_type": "subslide"
    }
   },
   "source": [
    "# Free Schrödinger Evolution"
   ]
  },
  {
   "cell_type": "markdown",
   "metadata": {
    "slideshow": {
     "slide_type": "fragment"
    }
   },
   "source": [
    "$$\n",
    "\\begin{equation*}\n",
    "\\tag{$LS(\\mathbb{R}^d)$}\n",
    " \\left\\{\n",
    " \\begin{matrix}\n",
    " (i \\partial_t  + \\Delta) u = 0 \\\\\n",
    " u(0,x) = u_0 (x).\n",
    " \\end{matrix}\n",
    " \\right.\n",
    "\\end{equation*}\n",
    "$$"
   ]
  },
  {
   "cell_type": "markdown",
   "metadata": {
    "slideshow": {
     "slide_type": "fragment"
    }
   },
   "source": [
    "## Explicit Solution Formula\n",
    "\n",
    "$$ u_0 \\longmapsto u(t,x) = e^{it \\Delta} u_0$$"
   ]
  },
  {
   "cell_type": "markdown",
   "metadata": {
    "slideshow": {
     "slide_type": "subslide"
    }
   },
   "source": [
    "## Explicit Solution Formula"
   ]
  },
  {
   "cell_type": "markdown",
   "metadata": {
    "slideshow": {
     "slide_type": "fragment"
    }
   },
   "source": [
    "\n",
    "\n",
    "* Fourier Multiplier Representation:\n",
    "$$\n",
    "e^{it \\Delta} u_0 (x) = c_\\pi\\int_{\\mathbb{R}^d} e^{i x \\cdot \\xi} e^{-i t |\\xi|^2}\n",
    "\\widehat{u_0} (\\xi) d\\xi.\n",
    "$$\n",
    "* Convolution Representation:\n",
    "$$\n",
    "e^{it \\Delta} u_0 (x) = k_\\pi \\frac{1}{(it)^{d/2}} \\int_{\\mathbb{R}^d} e^{i\n",
    "  \\frac{|x-y|^2}{4t}} u_0 (y) dy.\n",
    "$$"
   ]
  },
  {
   "cell_type": "markdown",
   "metadata": {
    "slideshow": {
     "slide_type": "subslide"
    }
   },
   "source": [
    "## Estimates for Schrödinger Propagator $e^{it \\Delta} u_0$"
   ]
  },
  {
   "cell_type": "markdown",
   "metadata": {
    "slideshow": {
     "slide_type": "fragment"
    }
   },
   "source": [
    "* Fourier Multiplier Representation $\\implies$ Unitary in $H^s$:\n",
    "$$\n",
    "\\| D_x^s e^{it \\Delta} u_0 \\|_{L^2_x} = \\| D_x^s u_0 \\|_{L^2_x}.\n",
    "$$"
   ]
  },
  {
   "cell_type": "markdown",
   "metadata": {
    "slideshow": {
     "slide_type": "fragment"
    }
   },
   "source": [
    "* Convolution Representation $\\implies$ Dispersive estimate:\n",
    "$$\n",
    "\\| e^{it \\Delta} u_0 \\|_{L^\\infty_x} \\leq \\frac{C}{t^{d/2}} \\| u_0 \\|_{L^1_x}.\n",
    "$$"
   ]
  },
  {
   "cell_type": "markdown",
   "metadata": {
    "slideshow": {
     "slide_type": "fragment"
    }
   },
   "source": [
    "* Spacetime estimates? **Strichartz estimates** hold, for example,\n",
    "$$\n",
    "\\| e^{it \\Delta} u_0 \\|_{L^4 ( \\mathbb{R}_t \\times \\mathbb{R}^2_x)} \\leq C \n",
    "\\| u_0  \\|_{L^2 (\\mathbb{R}^2_x)}.\n",
    " $$"
   ]
  },
  {
   "cell_type": "markdown",
   "metadata": {
    "slideshow": {
     "slide_type": "subslide"
    }
   },
   "source": [
    "# Schrödinger Evolution with Forcing"
   ]
  },
  {
   "cell_type": "markdown",
   "metadata": {
    "slideshow": {
     "slide_type": "fragment"
    }
   },
   "source": [
    "$$\n",
    "\\begin{equation*}\n",
    " \\left\\{\n",
    " \\begin{matrix}\n",
    " (i \\partial_t  + \\Delta) u = F \\\\\n",
    " u(0,x) = u_0 (x).\n",
    " \\end{matrix}\n",
    " \\right.\n",
    "\\end{equation*}\n",
    "$$"
   ]
  },
  {
   "cell_type": "markdown",
   "metadata": {
    "slideshow": {
     "slide_type": "fragment"
    }
   },
   "source": [
    "### Strichartz Estimates\n",
    "\n",
    "$$ \\| u \\|_{L^q_t L^r_x (\\mathbb{R}_t \\times \\mathbb{R}^d_x )}  \\leq C \\| u_0 \\|_{L^2_x} \n",
    "+ \\| F \\|_{L^{Q'}_t L^{R'}_x(\\mathbb{R}_t \\times \\mathbb{R}^d_x )}.\n",
    "$$\n",
    "***\n"
   ]
  },
  {
   "cell_type": "markdown",
   "metadata": {
    "slideshow": {
     "slide_type": "fragment"
    }
   },
   "source": [
    "Admissibility for *independent* pairs $(q,r), (Q,R)$\n",
    "$$\n",
    "\\frac{2}{q} + \\frac{d}{r} = \\frac{d}{2}, ~ q > 2.\n",
    "$$\n",
    "The $'$ denotes Hölder dual exponent."
   ]
  },
  {
   "cell_type": "markdown",
   "metadata": {
    "slideshow": {
     "slide_type": "subslide"
    }
   },
   "source": [
    "# Local-in-time theory for $NLS^{\\pm}_3 (\\mathbb{R}^2)$"
   ]
  },
  {
   "cell_type": "markdown",
   "metadata": {
    "slideshow": {
     "slide_type": "fragment"
    }
   },
   "source": [
    "* $\\forall ~u_0 \\in L^2 (\\mathbb{R}^2)~\\exists ~T_{lwp} ( u_0 ) $ determined by \n",
    "$$\n",
    "\\| e^{it \\Delta} u_0 \\|_{L^4_{tx}  ([0,T_{lwp} ] \\times \\mathbb{R}^2)} <\n",
    "\\frac{1}{100} ~{\\mbox{such that}}~\n",
    "$$\n"
   ]
  },
  {
   "cell_type": "markdown",
   "metadata": {},
   "source": [
    "$\\exists$ unique $u \\in C([0, T_{lwp} ]; L^2 ) \\cap L^4_{tx} ([0,T_{lwp}] \\times \\mathbb{R}^2)$ solving $NLS_3^{+} (\\mathbb{R}^2)$."
   ]
  },
  {
   "cell_type": "markdown",
   "metadata": {
    "slideshow": {
     "slide_type": "fragment"
    }
   },
   "source": [
    "\n",
    "* $\\forall ~ u_0 \\in H^s (\\mathbb{R}^2), s>0$, $T_{lwp} \\thicksim \\| u_0  \\|_{H^s}^{-\\frac{2}{s}}$ and regularity persists: $u \\in C([0,T_{lwp}]; H^s (\\mathbb{R}^2))$."
   ]
  },
  {
   "cell_type": "markdown",
   "metadata": {
    "slideshow": {
     "slide_type": "fragment"
    }
   },
   "source": [
    "* Define the **maximal forward existence time** $T^* (u_0)$ by \n",
    "$$\n",
    "\\| u \\|_{L^4_{tx} ([0,T^* -\\delta] \\times \\mathbb{R}^2) }< \\infty\n",
    "$$\n",
    "for all $\\delta > 0$ but diverges to $\\infty$ as $\\delta \\searrow 0$."
   ]
  },
  {
   "cell_type": "markdown",
   "metadata": {
    "slideshow": {
     "slide_type": "fragment"
    }
   },
   "source": [
    "* $\\exists ~$ **small data scattering threshold** $\\mu_0 > 0$\n",
    "$$\n",
    "\\| u_0 \\|_{L^2} < \\mu_0 \\implies \\|u \\|_{L^4_{tx} (\\mathbb{R} \\times \\mathbb{R}^2)}  < 2 \\mu_0.\n",
    "$$"
   ]
  },
  {
   "cell_type": "markdown",
   "metadata": {
    "slideshow": {
     "slide_type": "subslide"
    }
   },
   "source": [
    "# $H^1$ Global-in-time theory for $NLS^{+}_3 (\\mathbb{R}^2)$"
   ]
  },
  {
   "cell_type": "markdown",
   "metadata": {
    "slideshow": {
     "slide_type": "fragment"
    }
   },
   "source": [
    "\n",
    "* $\\forall ~ u_0 \\in H^1 (\\mathbb{R}^2), s>0$, $T_{lwp} \\thicksim \\| u_0  \\|_{H^1}^{-2}$ and regularity persists: $u \\in C([0,T_{lwp}]; H^1 (\\mathbb{R}^2))$."
   ]
  },
  {
   "cell_type": "markdown",
   "metadata": {
    "slideshow": {
     "slide_type": "fragment"
    }
   },
   "source": [
    "* Conserved Quantities $\\implies ~T_{lwp} > C(u_0)$\n",
    "$$\n",
    "{\\mbox{Energy}}  = H[u(t)] = \\frac{1}{2} \\int_{\\mathbb{R}^2} |\\nabla u(t) |^2 dx +  \\frac{2}{p+1} |u(t)|^{p+1}\n",
    "$$\n",
    "$$\n",
    "{\\mbox{Mass}} = \\| u \\|_{L^2_x}^2 = \\int_{\\mathbb{R}^d} |u(t,x)|^2 dx\n",
    "$$"
   ]
  },
  {
   "cell_type": "markdown",
   "metadata": {
    "slideshow": {
     "slide_type": "fragment"
    }
   },
   "source": [
    "* Globalize by iteration using $ ~T_{lwp} > C(u_0)$.\n"
   ]
  }
 ],
 "metadata": {
  "celltoolbar": "Slideshow",
  "kernelspec": {
   "display_name": "Python 3",
   "language": "python",
   "name": "python3"
  },
  "language_info": {
   "codemirror_mode": {
    "name": "ipython",
    "version": 3
   },
   "file_extension": ".py",
   "mimetype": "text/x-python",
   "name": "python",
   "nbconvert_exporter": "python",
   "pygments_lexer": "ipython3",
   "version": "3.4.3"
  }
 },
 "nbformat": 4,
 "nbformat_minor": 0
}
