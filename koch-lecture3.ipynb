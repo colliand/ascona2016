{
 "cells": [
  {
   "cell_type": "markdown",
   "metadata": {},
   "source": [
    "...continuing the discussion of the stationary Euler equation.\n",
    "\n",
    "$$\n",
    "\\frac{1}{2}  \\partial_2 ( (\\partial_1 \\Phi)^2 - (\\partial_2 \\Phi)^2 ) - \\partial_1 (\\partial_1 \\Phi \\partial_2 \\Phi) + \\partial_2 e(\\Phi)= 0$$\n",
    "\n",
    "$ \\partial_2 \\Phi > k >0, ~ \\Phi \\in C^{0,1}$ and bounded."
   ]
  },
  {
   "cell_type": "markdown",
   "metadata": {},
   "source": [
    "**Transformation:** $ x \\longmapsto y - (x, \\Phi(x))$, bilipschitz.  \n",
    "$v(y) = x_2$  \n",
    "want: $v$ analytic in $y_2$."
   ]
  },
  {
   "cell_type": "markdown",
   "metadata": {},
   "source": [
    "...ack, I left my glasses at the front of the lecture hall. I can't see the board so well..."
   ]
  },
  {
   "cell_type": "markdown",
   "metadata": {},
   "source": [
    "Interesting discussion....ah! there was an omitted derivative and agreement ensues."
   ]
  },
  {
   "cell_type": "markdown",
   "metadata": {},
   "source": [
    "## Schauder Estimates\n"
   ]
  },
  {
   "cell_type": "code",
   "execution_count": null,
   "metadata": {
    "collapsed": true
   },
   "outputs": [],
   "source": []
  }
 ],
 "metadata": {
  "kernelspec": {
   "display_name": "Python 3",
   "language": "python",
   "name": "python3"
  },
  "language_info": {
   "codemirror_mode": {
    "name": "ipython",
    "version": 3
   },
   "file_extension": ".py",
   "mimetype": "text/x-python",
   "name": "python",
   "nbconvert_exporter": "python",
   "pygments_lexer": "ipython3",
   "version": "3.4.3"
  }
 },
 "nbformat": 4,
 "nbformat_minor": 0
}
