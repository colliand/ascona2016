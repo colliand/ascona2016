{
 "cells": [
  {
   "cell_type": "markdown",
   "metadata": {
    "slideshow": {
     "slide_type": "slide"
    }
   },
   "source": [
    "# Nonlinear Schrödinger as a Dynamical System\n",
    "\n",
    "> #### [J. Colliander](http://colliand.com) ([UBC](http://www.math.ubc.ca))\n",
    "\n",
    "#### [Ascona Winter School 2016](http://www.math.uzh.ch/pde16/index-Ascona2016.html), [(alternate link)](http://www.monteverita.org/en/90/default.aspx?idEvent=295&archive=)"
   ]
  },
  {
   "cell_type": "markdown",
   "metadata": {
    "slideshow": {
     "slide_type": "subslide"
    }
   },
   "source": [
    "## Lectures\n",
    "\n",
    "1. [Introduction](http://nbviewer.jupyter.org/github/colliand/ascona2016/blob/master/colliander-lecture1.ipynb)\n",
    "2. [Conservation](http://nbviewer.jupyter.org/github/colliand/ascona2016/blob/master/colliander-lecture2.ipynb)\n",
    "3. [Monotonicity](http://nbviewer.jupyter.org/github/colliand/ascona2016/blob/master/colliander-lecture3.ipynb)\n",
    "4. **[Research Frontier](http://nbviewer.jupyter.org/github/colliand/ascona2016/blob/master/colliander-lecture4.ipynb)**\n",
    "\n",
    "\n",
    "\n",
    "###  https://github.com/colliand/ascona2016\n",
    "\n",
    "\n",
    "***"
   ]
  },
  {
   "cell_type": "markdown",
   "metadata": {
    "slideshow": {
     "slide_type": "subslide"
    }
   },
   "source": [
    "## Overview of Lecture 4\n",
    "\n",
    "* Review of the main issue: understand the dynamics.\n",
    "* Critical Scattering Conjecture?\n",
    "    * Robust Methods for Global Well-posedness?\n",
    "    * Partial Regularity?\n",
    "    * High Regularity Globalizing Estimates?"
   ]
  },
  {
   "cell_type": "markdown",
   "metadata": {
    "slideshow": {
     "slide_type": "subslide"
    }
   },
   "source": [
    "# Initial Value Problem for NLS\n",
    "\n",
    "$$\n",
    "\\begin{equation*}\n",
    "\\tag{$NLS^{\\pm}_p (\\Omega)$}\n",
    " \\left\\{\n",
    " \\begin{matrix}\n",
    " (i \\partial_t  + \\Delta) u = \\pm |u|^{p-1} u \\\\\n",
    " u(0,x) = u_0 (x), ~ x \\in \\Omega.\n",
    " \\end{matrix}\n",
    " \\right.\n",
    "\\end{equation*}\n",
    "$$"
   ]
  },
  {
   "cell_type": "markdown",
   "metadata": {
    "slideshow": {
     "slide_type": "fragment"
    }
   },
   "source": [
    "## What happens?"
   ]
  },
  {
   "cell_type": "markdown",
   "metadata": {
    "slideshow": {
     "slide_type": "subslide"
    }
   },
   "source": [
    "## Dilation Invariance\n",
    "\n",
    "One solution $u$ generates parametrized family $\\{u^\\lambda\\}_{\\lambda > 0}$ of solutions:\n",
    "\n",
    "$$u:[0,T) \\times \\mathbb{R}^d_x \\rightarrow \\mathbb{C} ~{\\mbox{solves}}~ NLS_p^{\\pm}(\\mathbb{R}^d)$$ \n",
    "\n",
    "$${\\iff}$$\n",
    "\n",
    "$$u^\\lambda: [0,\\lambda^2 T )\\times \\mathbb{R}^d_x \\rightarrow \\mathbb{C} ~{\\mbox{solves}}~ NLS_p^{\\pm}(\\mathbb{R}^d)$$ \n",
    "where\n",
    "$$\n",
    "u^\\lambda (\\tau, y) = \\lambda^{-2/(p-1)} u( \\lambda^{-2} \\tau, \\lambda^{-1} y).\n",
    "$$"
   ]
  },
  {
   "cell_type": "markdown",
   "metadata": {
    "slideshow": {
     "slide_type": "subslide"
    }
   },
   "source": [
    "## Critical Regularity Regimes\n",
    "\n",
    "\n",
    "\n",
    "| critical Sobolev index   | Regime                      | \n",
    "|:---------------:|:-------------------------------:| \n",
    "| $ s_c < 0$      | mass subcritical                |\n",
    "| $0 < s_c < 1$   | mass super/energy subcritical   |  \n",
    "| $s_c = 1$       | energy critical                 |  \n",
    "| $1 < s_c < \\frac{d}{2}$| energy supercritical     |"
   ]
  },
  {
   "cell_type": "markdown",
   "metadata": {
    "slideshow": {
     "slide_type": "slide"
    }
   },
   "source": [
    "# Critical Scattering Conjecture?"
   ]
  },
  {
   "cell_type": "markdown",
   "metadata": {
    "slideshow": {
     "slide_type": "fragment"
    }
   },
   "source": [
    "\n",
    "\n",
    "$ H^{s_c} ({\\mathbb{R}}^d) \\ni u_0 \\longmapsto u$ solves defocusing $NLS_p^{\\pm}(\\mathbb{R}^d)$ globally in time with globally bounded spacetime Strichartz size.\n",
    "\n"
   ]
  },
  {
   "cell_type": "markdown",
   "metadata": {
    "slideshow": {
     "slide_type": "fragment"
    }
   },
   "source": [
    "$ \\implies $ the behavior of $u(t)$ is described by associated linear evolutions as $ t \\rightarrow \\pm \\infty$."
   ]
  },
  {
   "cell_type": "markdown",
   "metadata": {
    "slideshow": {
     "slide_type": "subslide"
    }
   },
   "source": [
    "## Status of Critical Scattering?"
   ]
  },
  {
   "cell_type": "markdown",
   "metadata": {
    "slideshow": {
     "slide_type": "fragment"
    }
   },
   "source": [
    "* Energy Critical ($s_c = 1$): $\\checkmark$ "
   ]
  },
  {
   "cell_type": "markdown",
   "metadata": {
    "slideshow": {
     "slide_type": "fragment"
    }
   },
   "source": [
    "* Mass Critical ($s_c = 0$): $\\checkmark$"
   ]
  },
  {
   "cell_type": "markdown",
   "metadata": {
    "slideshow": {
     "slide_type": "fragment"
    }
   },
   "source": [
    "* $0 < s_c < 1$: OPEN"
   ]
  },
  {
   "cell_type": "markdown",
   "metadata": {
    "slideshow": {
     "slide_type": "fragment"
    }
   },
   "source": [
    "* Energy Supercritical ($s_c > 1$): OPEN"
   ]
  },
  {
   "cell_type": "markdown",
   "metadata": {
    "slideshow": {
     "slide_type": "subslide"
    }
   },
   "source": [
    "## Remarks\n",
    "\n",
    "* Conditional results under critical norm bounds\n",
    "$$\\sup_t \\| u(t) \\|_{H^{s_c}} < \\infty.$$\n",
    "* Interesting analogies with global issue for Navier-Stokes.\n",
    "* Corresponding problems for NLW might be resolved first.\n",
    "* $H^{1/2}$-Critical seems most tractable, e.g. $NLS_3^+ ({\\mathbb{R}}^3)$."
   ]
  },
  {
   "cell_type": "markdown",
   "metadata": {
    "slideshow": {
     "slide_type": "slide"
    }
   },
   "source": [
    "## Robust GWP Methods down to $s_c + \\epsilon$?"
   ]
  },
  {
   "cell_type": "markdown",
   "metadata": {
    "slideshow": {
     "slide_type": "subslide"
    }
   },
   "source": [
    "## Local to Global via Almost Conservation\n",
    "\n",
    "The almost conservation property\n",
    "$$ \\widetilde{E}[Iu_0] + N^{-\\alpha}$$\n",
    "led to GWP for \n",
    "$$\n",
    "s > s_\\alpha = \\frac{2}{2+\\alpha}.\n",
    "$$"
   ]
  },
  {
   "cell_type": "markdown",
   "metadata": {
    "slideshow": {
     "slide_type": "subslide"
    }
   },
   "source": [
    "## Better Bootstraps?\n",
    "\n",
    "* Bootstrap arguments using Morawetz control generated improvements.\n",
    "* Precise bootstraps with Raphaël led to results for $s > s_c$.\n",
    "* **Q:** Could improved bootstraps lead to robust method to prove global regularity for $s>s_c$?"
   ]
  },
  {
   "cell_type": "markdown",
   "metadata": {
    "slideshow": {
     "slide_type": "slide"
    }
   },
   "source": [
    "# Partial Regularity? "
   ]
  },
  {
   "cell_type": "markdown",
   "metadata": {
    "slideshow": {
     "slide_type": "fragment"
    }
   },
   "source": [
    "![ckn](https://wwejubwfy.s3.amazonaws.com/1982_Caffarelli_Partial_regularity_of_suitable_weak_Comm._Pure_Appl._Math.pdf-2016-01-14-21-18-08.jpg)\n"
   ]
  },
  {
   "cell_type": "markdown",
   "metadata": {
    "slideshow": {
     "slide_type": "subslide"
    }
   },
   "source": [
    "## Notations for $NLS_p^+ (\\mathbb{R}^d)$.\n",
    "\n",
    "$$\n",
    "u_\\lambda (t,x) = [\\frac{1}{\\lambda}]^{\\frac{2}{p-1}} u(\\frac{t}{\\lambda^2}, \\frac{x}{\\lambda}).\n",
    "$$\n",
    "Exponents appearing in dilation invariant spaces used in the study of $NLS_p$:\n",
    " $$ s_c = \\frac{d}{2} - \\frac{2}{p-1}, ~\\mbox{(Scaling invariant Sobolev index)} $$\n",
    " $$ \\frac{2}{q} + \\frac{d}{r} = \\frac{2}{p-1}, ~(H^{s_c} ~\\mbox{admissible Strichartz pairs} ~(q,r))$$\n",
    " $$ \\frac{d}{p_c} = \\frac{2}{p-1}, ~\\mbox{(Scaling invariant spatial Lebesgue space exponent)}$$\n",
    " $$ \\frac{2+d}{q_c} = \\frac{2}{p-1}, ~\\mbox{(Diagonal scaling invariant Strichartz exponent)}.$$"
   ]
  },
  {
   "cell_type": "markdown",
   "metadata": {
    "slideshow": {
     "slide_type": "subslide"
    }
   },
   "source": [
    "## The Singular Set"
   ]
  },
  {
   "cell_type": "markdown",
   "metadata": {
    "slideshow": {
     "slide_type": "fragment"
    }
   },
   "source": [
    "* Spacetime point $z_0 = (t_0, x_0) \\in \\mathbb{R} \\times {\\mathbb{R}}^d.$ \n",
    "* $Q_\\lambda$ denote the parabolic box of scale $\\lambda$ behind $z_0$\n",
    "$$\n",
    "\\{(t,x) \\in \\mathbb{R}^{1+d}: 0< t_0 - t < \\lambda^2, |x - x_0| < \\lambda\\}.\n",
    "$$\n"
   ]
  },
  {
   "cell_type": "markdown",
   "metadata": {
    "slideshow": {
     "slide_type": "fragment"
    }
   },
   "source": [
    "\n",
    "**Definition:** A spacetime point $z_0$ is called a **singular point** for a weak solution $u$ of $NLS_p$ if\n",
    "$$\n",
    "\\lim_{\\lambda \\searrow 0} \\int_{Q_\\lambda} |u|^{q_c} dx dt = + \\infty.\n",
    "$$\n",
    "Points which are not singular are called **regular** points. The set of all singular points is denoted $\\Sigma$.\n",
    "The diagonal Strichartz norm diverges on all parabolic boxes behind a singular point. Points which are not singular are called **regular points** for $u$.\n"
   ]
  },
  {
   "cell_type": "markdown",
   "metadata": {
    "slideshow": {
     "slide_type": "subslide"
    }
   },
   "source": [
    "## Concentration Statement? \n",
    "**Singular Point $\\implies$ Consistent $L^{q_c}_{t,x}$ Concentration:**\n",
    "If $z_0$ is a singular point for the weak solution $u$ then $z_0$ is also a point of (scaling consistent) concentration. That is, there exists $\\epsilon_0 > 0$ (a constant independent of $z_0$) and a sequence of scales $\\lambda_j \\searrow 0$ satisfying\n",
    "$$\n",
    "\\int_{Q_{\\lambda_j}} |P_{< \\frac{1}{\\lambda_j}} u|^{q_c} dx dt > \\epsilon_0.\n",
    "$$\t\n",
    "\n"
   ]
  },
  {
   "cell_type": "markdown",
   "metadata": {
    "slideshow": {
     "slide_type": "fragment"
    }
   },
   "source": [
    "The converse would be an \"$\\epsilon$-regularity\" statement."
   ]
  },
  {
   "cell_type": "markdown",
   "metadata": {
    "slideshow": {
     "slide_type": "fragment"
    }
   },
   "source": [
    "## Parabolic Hausdorff Dimension of $\\Sigma$?\n",
    "\n",
    "Absorption of Interaction Morawetz $\\implies {\\mbox{dim}}_{\\mathscr{P}} \\Sigma \\leq 4 (s_c - \\frac{1}{4})$"
   ]
  },
  {
   "cell_type": "markdown",
   "metadata": {
    "slideshow": {
     "slide_type": "slide"
    }
   },
   "source": [
    "## High Regularity Globalizing Estimates?\n",
    "\n"
   ]
  },
  {
   "cell_type": "markdown",
   "metadata": {
    "slideshow": {
     "slide_type": "fragment"
    }
   },
   "source": [
    "Consider the $H^2$-critical problem \n",
    "$$\n",
    "\\begin{equation*}\n",
    "\\tag{$NLS^{\\pm}_5 (\\mathbb{R}^d)$}\n",
    " \\left\\{ \n",
    " \\begin{matrix}\n",
    " (i \\partial_t  + \\Delta) u = \\pm |u|^{4} u \\\\ \n",
    " u(0,x)  = u_0 (x), ~ x \\in \\mathbb{R}^5.\n",
    " \\end{matrix}\n",
    " \\right.\n",
    "\\end{equation*}\n",
    "$$\n"
   ]
  },
  {
   "cell_type": "markdown",
   "metadata": {
    "slideshow": {
     "slide_type": "fragment"
    }
   },
   "source": [
    "Assume $u_0$ is nice (smooth, compactly supported). Can one prove that\n",
    "$$\n",
    "\\sup_t \\| u(t) \\|_{H^k (\\mathbb{R}^5)} < \\infty?\n",
    "$$"
   ]
  },
  {
   "cell_type": "markdown",
   "metadata": {
    "slideshow": {
     "slide_type": "fragment"
    }
   },
   "source": [
    "Possible ingredients: Almost conservation techniques, a priori spacetime estimates, Gronwall estimate, contradiction arguments, ...?"
   ]
  },
  {
   "cell_type": "markdown",
   "metadata": {
    "slideshow": {
     "slide_type": "subslide"
    }
   },
   "source": [
    "# Thank you!\n",
    "\n",
    "![alpenglow](https://wwejubwfy.s3.amazonaws.com/friday-morning-ascona.jpg)\n"
   ]
  }
 ],
 "metadata": {
  "celltoolbar": "Slideshow",
  "kernelspec": {
   "display_name": "Python 3",
   "language": "python",
   "name": "python3"
  },
  "language_info": {
   "codemirror_mode": {
    "name": "ipython",
    "version": 3
   },
   "file_extension": ".py",
   "mimetype": "text/x-python",
   "name": "python",
   "nbconvert_exporter": "python",
   "pygments_lexer": "ipython3",
   "version": "3.4.3"
  }
 },
 "nbformat": 4,
 "nbformat_minor": 0
}
