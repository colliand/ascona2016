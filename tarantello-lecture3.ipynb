{
 "cells": [
  {
   "cell_type": "markdown",
   "metadata": {},
   "source": [
    "\n",
    "# Recent developments in the study of self-dual Chern-Simons vortices\n",
    "\n",
    "> #### [Gabriella Tarantello](http://www.mat.uniroma2.it/~tarantel/), Università di Roma \"Tor Vergata\"\n",
    "\n",
    "#### [Ascona Winter School 2016](http://www.math.uzh.ch/pde16/index-Ascona2016.html), [(alternate link)](http://www.monteverita.org/en/90/default.aspx?idEvent=295&archive=)\n",
    "\n",
    "Book: [Selfdual Gauge Field Vortices, Birkhauser 2008](http://www.springer.com/gb/book/9780817643102)\n",
    "\n",
    "1. [Lecture 1](http://nbviewer.jupyter.org/github/colliand/ascona2016/blob/master/topping-lecture1.ipynb)\n",
    "2. [Lecture 2](http://nbviewer.jupyter.org/github/colliand/ascona2016/blob/master/topping-lecture2.ipynb)\n",
    "3. [Lecture 3](http://nbviewer.jupyter.org/github/colliand/ascona2016/blob/master/topping-lecture3.ipynb)\n",
    "4. [Lecture 4](http://nbviewer.jupyter.org/github/colliand/ascona2016/blob/master/topping-lecture4.ipynb)\n",
    "\n",
    "[source](https://github.com/colliand/ascona2016)"
   ]
  },
  {
   "cell_type": "markdown",
   "metadata": {},
   "source": [
    "...since we've been talking about bubbling, I'm going to show you how bubbling also occurs in the theory of vortices.\n",
    "\n",
    "This morning, we focused on planar Chern-Simons vortices (topological type). This amounted to proving the following...\n",
    "\n",
    "**Theorem:** The problem:\n",
    "$$ -\\Delta u = \\frac{4}{k^2} e^u (1 - e^u) - 4 \\pi \\sum_{j=1}^N \\delta_{p_j}$$\n",
    "with boundary condition $1 -e^u \\in L^1 (\\mathbb{R}^2) \\iff u \\rightarrow 0$ as $|x| \\rightarrow +\\infty$  \n",
    "admits a unique solution for fixed $\\{ p_1, \\dots, p_N \\}$ repeated with multiplicity $\\implies$ vortex configuration given as a minimizer of the energy with (Higgs field) $\\phi$ with fixed degree = $N$. \n",
    "\n",
    "We also have in this case that the total energy $\\frac{4}{k^2} \\int_{\\mathbb{R}^2} e^u (1 - e^u) = 4 \\pi N$, so quantized. "
   ]
  },
  {
   "cell_type": "markdown",
   "metadata": {},
   "source": [
    "### Nontopological vortices:\n",
    "\n",
    "$$ -\\Delta u = ... $$\n",
    "with the (different) boundary condition $e^u \\in L^1 (\\mathbb{R}^2) \\implies u \\rightarrow - \\infty \\implies e^u \\rightarrow 0$ which in turn tells me that $|\\phi|$ admits a zero at $\\infty$. \n",
    "\n",
    "$\\implies$ total energy $ = \\frac{4}{k^2} \\int_{\\mathbb{R}^2} e^u (1 - e^u)$ is no longer quantized by the parameter $N$. We typically call this integral $\\beta$ and we investigate for which $beta$ we can perform an analysis. We have $^u \\rightarrow 0$ but the convergence to zero is like $|x|^{2N - \\frac{\\beta}{2\\pi}}$. The decay of $u$ is connected to the value of $\\beta$. \n",
    "\n",
    "We have a nice ansatz: $u = v + \\sum_{j=1}^N \\ln |x - p_j|^2.$ We can determine that $\\beta > 4 \\pi (N+1)$. In fact, this is not sharp and the right size is $\\beta > 8 \\pi (N+1)$. The range of $\\beta$ is big. For each such beta, we know there is a solution."
   ]
  },
  {
   "cell_type": "markdown",
   "metadata": {},
   "source": [
    "Tomorrow will focus on the nontopological vortex case. Today, we will focus our efforts on the topological case. "
   ]
  },
  {
   "cell_type": "markdown",
   "metadata": {},
   "source": [
    "***\n",
    "\n",
    "$$ -\\Delta u = \\frac{4}{k^2} e^u (1 - e^u) - 4 \\pi \\sum_{j=1}^N \\delta_{p_j}$$ \n",
    "in $(M,g)$ where $M$ is a closed surface. There is again an analogous situation with two different boundary conditions leading to \"toplogical\" and \"nontopological\" solutions.\n",
    "\n",
    "* $u = w+c$\n",
    "* $\\int w d \\sigma_g = 0$\n",
    "* $C = \\frac{1}{|M|} \\int_M u$"
   ]
  },
  {
   "cell_type": "markdown",
   "metadata": {},
   "source": [
    "...moving fast..discussing constraint equations...I'm not keeping up with the typing...reverse Hölder inequality....leads to a necessary condition for existence:\n",
    "$$ \\frac{4 \\pi N k^2}{|M|} \\leq 1.$$"
   ]
  },
  {
   "cell_type": "markdown",
   "metadata": {},
   "source": [
    "**Theorem:** There exists a critical $k_c >0$ (depending upon various parameter) such that the Chern-Simons Vortex equation admits a solution on $M  \\iff  0 < k \\leq k_c$. Furthermore, $0<k\\leq k_c$ the problem admits two solutions $u_{\\pm}$ such that\n",
    "\n",
    "1. $u_+$ is local minimum where $u_+ = w_+ + c_+$ with $c_+$ solving the constraint condition with the + sign. In the limit $k \\rightarrow 0^+, C_+ \\rightarrow 0$ and $w_+ \\rightarrow w_0$ pointwise.\n",
    "2. (The other solutions is a mountain pass.) $u_- = w_- + c_-$ where $c_-$ satisfies the constraint with the minus sign... [K. Choi 2008]"
   ]
  },
  {
   "cell_type": "markdown",
   "metadata": {},
   "source": [
    "...I got tired of typing... "
   ]
  },
  {
   "cell_type": "code",
   "execution_count": null,
   "metadata": {
    "collapsed": true
   },
   "outputs": [],
   "source": []
  }
 ],
 "metadata": {
  "kernelspec": {
   "display_name": "Python 3",
   "language": "python",
   "name": "python3"
  },
  "language_info": {
   "codemirror_mode": {
    "name": "ipython",
    "version": 3
   },
   "file_extension": ".py",
   "mimetype": "text/x-python",
   "name": "python",
   "nbconvert_exporter": "python",
   "pygments_lexer": "ipython3",
   "version": "3.4.3"
  }
 },
 "nbformat": 4,
 "nbformat_minor": 0
}
