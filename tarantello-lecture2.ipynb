{
 "cells": [
  {
   "cell_type": "markdown",
   "metadata": {},
   "source": [
    "\n",
    "# Recent developments in the study of self-dual Chern-Simons vortices\n",
    "\n",
    "> #### [Gabriella Tarantello](http://www.mat.uniroma2.it/~tarantel/), Università di Roma \"Tor Vergata\"\n",
    "\n",
    "#### [Ascona Winter School 2016](http://www.math.uzh.ch/pde16/index-Ascona2016.html), [(alternate link)](http://www.monteverita.org/en/90/default.aspx?idEvent=295&archive=)\n",
    "\n",
    "Book: [Selfdual Gauge Field Vortices, Birkhauser 2008](http://www.springer.com/gb/book/9780817643102)\n",
    "\n",
    "1. [Lecture 1](http://nbviewer.jupyter.org/github/colliand/ascona2016/blob/master/topping-lecture1.ipynb)\n",
    "2. [Lecture 2](http://nbviewer.jupyter.org/github/colliand/ascona2016/blob/master/topping-lecture2.ipynb)\n",
    "3. [Lecture 3](http://nbviewer.jupyter.org/github/colliand/ascona2016/blob/master/topping-lecture3.ipynb)\n",
    "4. [Lecture 4](http://nbviewer.jupyter.org/github/colliand/ascona2016/blob/master/topping-lecture4.ipynb)\n",
    "\n",
    "[source](https://github.com/colliand/ascona2016)"
   ]
  },
  {
   "cell_type": "markdown",
   "metadata": {},
   "source": [
    "(chalk talk)\n",
    "\n",
    "Yesterday, we derived the elliptic PDE you want to analyze to identify Chern-Simons Abelian Vortices.\n",
    "\n",
    "## Chern-Simons Abelian Vortex Equation\n",
    "\n",
    "* Recall $$ u: e^u = |\\phi|^2$$\n",
    "* $\\phi: \\mathbb{C} \\longmapsto \\mathbb{C}$.\n",
    "* $k>0$ be the Chern-Simons parameter.\n",
    "* $\\{ p_j\\}_{j=1, \\dots, N} $ (with multiplicity) are the zeros of $\\phi(z) = e^{\\frac{u}{2} (z) + i \\sum_{j=1}^N Arg(z - p_j)}.$$\n",
    "* $(A_1, A_2), ~ A_j: \\mathbb{R}^2 \\longmapsto \\mathbb{R}.\n",
    "* $D_1 \\phi + i D_2 \\phi = 0, ~  D_j = \\partial_j + i A_j, ~ j = 1,2.$\n",
    "* $F_{12} = \\frac{2}{k^2} |\\phi|^2 (1 - |\\phi|^2)$\n",
    "* $A_0 = \\frac{2}{k} (1 - |\\phi|^2), ~A_0 |\\phi|^2 = \\rho_0$\n",
    "* Gauss Law: $k F_{12} = 2 \\rho_0 = 2 A_0 |\\phi|^2$\n",
    "\n",
    "$$ -\\Delta u = \\frac{4}{k^2} e^u (1 - e^u) - 4 \\pi \\sum_{j=1}^N \\delta_{p_j}.$$\n",
    "\n",
    "Substituting the forumula for $\\phi$ into the d-bar style equation reveals\n",
    "$$A_1 = \\partial_2 u + \\partial_1 \\sum_{j=1}^N Arg (z - p_j)$$\n",
    "$$A_2 = -\\partial_1 u + \\partial_2 \\sum_{j=1}^N Arg (z - p_j)$$\n",
    "\n"
   ]
  },
  {
   "cell_type": "markdown",
   "metadata": {},
   "source": [
    "You can check that $A_1, A_2$ are smooth through the points $p_j$. \n",
    "\n",
    "You can observe that \n",
    "$$e^u = |\\phi(z)|^2 \\thicksim |z - p_j|^2, ~ {\\mbox{as}}! z \\rightarrow p_j$$ \n",
    "\n",
    "This produces the log.\n",
    "$$ u = 2 \\ln |z - p_j | + O(1), ~  {\\mbox{as}}! z \\rightarrow p_j$$ \n",
    "\n",
    "$$\\Delta u = 4 \\pi \\delta_{p_j}$$"
   ]
  },
  {
   "cell_type": "markdown",
   "metadata": {},
   "source": [
    "## Energy\n",
    "\n",
    "I want to next say what is the energy corresponding to these objects. The energy density, obtained by the completing the square procedure...\n",
    "$$\n",
    "\\mathcal{E} = |\\phi|^2 ( A_0 + (|\\phi|^2 -1))^2 + |D_1 \\phi = i D_2 \\phi|^2 + F_{12} + ~{\\mbox{divergence terms}}.\n",
    "$$\n",
    "Here $\\mathcal{E}$ is the energy density and $F_{12}$ is the magnetic field.\n",
    "\n",
    "The total energy is given by the integral of the energy density:\n",
    "$$\n",
    "E = \\int \\mathcal{E} = \\int F_{12} = ~{\\mbox{total magnetic flux}}.$$\n",
    "Recall the formula for $F_{12}$ above to observe that\n",
    "$$ \n",
    "E = \\frac{2}{k^2} \\int e^u (1 - e^u).\n",
    "$$\n",
    "This shows us again that $e^u$ gives us *everything*."
   ]
  },
  {
   "cell_type": "markdown",
   "metadata": {},
   "source": [
    "***\n",
    "The preceding discussion concerns the abelian case. The equations are scalar. The non-abelian case will involve a system and other complications. We will stay in this context, as a model example, and explore the boundary conditions.\n",
    "***"
   ]
  },
  {
   "cell_type": "markdown",
   "metadata": {},
   "source": [
    "## Boundary Conditions\n",
    "\n",
    "We will start by discussing the *planar case*. That is, we study this system on $\\mathbb{R}^2$. This will yield a vortex. You will want this vortex to carry finite energy. This means we will want to have $e^u (1 - e^u) \\in L^1 (\\mathbb{R}^2).$ This ramifies into two possible scenarios so there are two types of vortices in the planar case. The conditions are $u \\rightarrow 0$ as we go to infinity (**Class 1**) in the plane or $u \\rightarrow - \\infty$ as we go to infinity (**Class 2**) in the plane. \n",
    "\n",
    "The (Laplace-like) Chern-Simons Vortex equation and the integrability conition imply that $u<0$. This involved an analysis of the $L^1$ condition. Physically, $|\\phi|^1 = 1$ corresponds to the material in the superconducting state. The fact that $u<0$ reveals therefore that the vortices are not in pure superconducting state. So, this makes good sense.\n",
    "\n",
    "We can prove in Class 1 that $1 - e^u$ goes to 0 exponentially fast. As a consequence of this fact, if you integrate the equation over a large ball \n",
    "$$\\int_{B_R} \\Delta u = \\frac{4}{k^2} \\int_{B_R} e^u (1 - e^u) - 4 \\pi N.$$\n",
    "the left side goes to zero by converting to a boundary integral. This reveals that the **total energy is quantized.**\n",
    "\n",
    "These solutions are called **topological vortices**. They are topological in the sense that they are energy minimizers among the \"topological\" class of $\\phi$ with degree of $\\phi$ equal to $N$.\n",
    "\n",
    "**Fact1:** The solution of the Chern-Simons Vortex equations are uniquely determined by the position of the $\\{p_1, \\dots, p_N \\}$. \n",
    "\n",
    "**Q (Struwe):** Is the uniqueness easy to see?\n",
    "\n",
    "> A: No, it requires a delicate estimate. It proceeds by a contradiction argument. If nonuniqueness held, you could scale it to create a blowup of two sequences of solutions arriving at the same limiting solution which would have some degeneracy problem. You perform the argument by contradiction with a scaling and nondegeneracy argument. "
   ]
  },
  {
   "cell_type": "markdown",
   "metadata": {},
   "source": [
    "## Special Case\n",
    "\n",
    "Look at the special case where $p_1 = p_2 = \\dots p_N = 0.$ We have to find the solution of the problem\n",
    "$$ \n",
    "-\\Delta u = \\frac{4}{k^2} e^u (1 - e^u) - 4 \\pi N \\delta_0\n",
    "$$\n",
    "with the condition that $u \\rightarrow 0$ at spatial infinity.\n",
    "\n",
    "You use the *moving plane method* to show that necessarily $u$ is radial around 0. This collapses the problem to an ODE and you show uniqueness. This involves studying the radial ODE as an initial value problem and you show there is only one solution that satisfies the decay requirement."
   ]
  },
  {
   "cell_type": "markdown",
   "metadata": {},
   "source": [
    "## \"Scaling\"\n",
    "\n",
    "I look at $u \\longmapsto u( \\frac{1}{\\epsilon} x) + 2 \\ln (\\frac{1}{\\epsilon}) = {\\widetilde{u}}$. We calculate\n",
    "$$ -\\Delta {\\widetilde{u}} = \\frac{4}{k^2} ( \\frac{1}{\\epsilon^2} e^u - \\frac{1}{\\epsilon^2} e^{2u}) - 4 \\pi \\sum \\delta_{\\epsilon p_j}.$$\n",
    "\n",
    "(fast moves with chalk...some balancing and recasting....$\\epsilon \\rightarrow 0$ limit reveals a degeneracy with the vortices converging toward the origin which we know is unique from the radial argument above."
   ]
  },
  {
   "cell_type": "markdown",
   "metadata": {},
   "source": [
    "## How do you prove *existence*?\n",
    "\n",
    "You take the Chern-Simons Vortex equation with the decay at spatial infinity condition and you regularize it a bit to convert it into a variational problem. You reformulate the original problem to find a new problem that can be approached as a minimization problem using standard variational calculus methods."
   ]
  },
  {
   "cell_type": "code",
   "execution_count": null,
   "metadata": {
    "collapsed": true
   },
   "outputs": [],
   "source": []
  }
 ],
 "metadata": {
  "kernelspec": {
   "display_name": "Python 3",
   "language": "python",
   "name": "python3"
  },
  "language_info": {
   "codemirror_mode": {
    "name": "ipython",
    "version": 3
   },
   "file_extension": ".py",
   "mimetype": "text/x-python",
   "name": "python",
   "nbconvert_exporter": "python",
   "pygments_lexer": "ipython3",
   "version": "3.4.3"
  }
 },
 "nbformat": 4,
 "nbformat_minor": 0
}
