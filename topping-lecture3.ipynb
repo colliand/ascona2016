{
 "cells": [
  {
   "cell_type": "markdown",
   "metadata": {},
   "source": [
    "# Teichmueller harmonic map flow\n",
    "\n",
    "> [Peter Topping](http://homepages.warwick.ac.uk/~maseq/), University of Warwick\n",
    "\n",
    "#### [Ascona Winter School 2016](http://www.math.uzh.ch/pde16/index-Ascona2016.html), [(alternate link)](http://www.monteverita.org/en/90/default.aspx?idEvent=295&archive=)\n",
    "\n",
    "[extended notes on the first lecture](http://homepages.warwick.ac.uk/~maseq/ASCONA/THMF_lectures_ascona_1.pdf)"
   ]
  },
  {
   "cell_type": "markdown",
   "metadata": {},
   "source": [
    "**Summary of Last Time**\n",
    "\n",
    "We want to evolve $(u,g)$ to critcal point of $E(u,g)$, so $u:(M,g) \\longmapsto (N,G)$ is a BMI. $L^2$-gradient flow would be:\n",
    "$$\n",
    "\\frac{\\partial u}{\\partial t} = \\tau_g (u); ~\\frac{\\partial g}{\\partial t} = \\Re (\\Phi (u,g) )\n",
    "$$\n",
    "where $\\Phi$ was the Hopf differential.\n",
    "\n",
    "Now we want to constrain $g \\in {\\mathcal{M}}_c = \\{ \\mbox{constant curvature metrics:} -1, 0 , +1 \\}$.\n",
    "\n",
    "We need to understand the tangent space to the space of constant curvature metrics at $g$, so $T_g {\\mathcal{M}}_c$."
   ]
  },
  {
   "cell_type": "markdown",
   "metadata": {},
   "source": [
    "**Lemma:** Suppose $ h \\in \\Gamma (Sym^2 T^* M)$. Then there exists a vector field $X$ and $h \\in \\Gamma (Sym^2 T^* M)$ that isa divergence free $\\delta h_0 = 0$. $(\\delta h_0 = -tr \\nabla h_0)$. This gives an $L^2$ decomposition:\n",
    "$$\n",
    "h = h_0 + {\\mathcal{L}}_X g.\n",
    "$$\n",
    "\n",
    "You would prove this by following the usual arguments for the corresponding decomposition in vector calculus. The (straightforward) proof is available in the notes. This works in any dimension. Let's restrict to two dimensions and refine a bit."
   ]
  },
  {
   "cell_type": "markdown",
   "metadata": {},
   "source": [
    "**Lemma:** Suppse $g(s)$ is a 1-parameter family in $\\mathcal{M}_c$. Set $h = \\frac{\\partial g}{\\partial s} |_{s=0}$. Then there exists a vector field $X$, plus an $h_0 \\in \\Gamma$ with $\\delta h_0 = 0$ PLUS $tr h_0 = 0$ such that $h = h_0 + {\\mathcal{L}}_X$. \n",
    "\n",
    "The fact that the trace vanishes means that moving the metric in this direction leaves the volume element unchanged. (Details are in the notes.)"
   ]
  },
  {
   "cell_type": "markdown",
   "metadata": {},
   "source": [
    "Tensors that satisfy the conditions of the Lemma are often called **transverse traceless** tensors."
   ]
  },
  {
   "cell_type": "markdown",
   "metadata": {},
   "source": [
    "**Lemma:** The space $\\{ {\\mbox{ transverse traceless tensors }} \\} = \\{ Re( \\Psi):  \\Psi ~{\\mbox{ is a holomorphic quadratic differentials}} \\} = {\\mathcal{H}}$.\n",
    "\n",
    "This can be proven quite easily using the complex notation introduced in the first lecture. This is classical stuff. One refernce I liked was the book by Tromba in the ETH lecture series on Teichmuller theory. This is all in the notes."
   ]
  },
  {
   "cell_type": "markdown",
   "metadata": {},
   "source": [
    "### Conclusion\n",
    "\n",
    "$$T_g {\\mathcal{M}}_c = \\Re ({\\mathcal{H}}) \\oplus \\{ {\\mathcal{L}}_X g \\}$$\n",
    "\n",
    "The second factor is infinite dimensional but this direction does not change the geometry. The first factor is finite dimensional with dimension determined by the genus. You can infer that dimension from the Riemann-Roch theorem. But you can also see that more vividly if you understand the space of hyperbolic metrics. The dimension is $3 (\\chi -1)$ where $\\chi$ is the genus."
   ]
  },
  {
   "cell_type": "markdown",
   "metadata": {},
   "source": [
    "**Defintion:** The **Teichmuller Harmonic Map Flow (THMF)**\n",
    "$$\n",
    "\\frac{\\partial u}{\\partial t} = \\tau_g (u), \\partial{g}{\\partial t} = \\Re (P_g (\\Phi (u,g) )$$\n",
    "where $P_g$ is the $L^2$-projection onto the sapce of holomorphic quadratic differential equations.\n",
    "\n",
    "The way we originally came to this equation was through a more geometric argument. \n",
    "\n",
    "**Q (Tarantello):** Are there manifolds where the hopf differntiable is holomorphic?\n",
    "\n",
    ">A: Yes, this corresponds to the situation where $u$ is harmonic."
   ]
  },
  {
   "cell_type": "markdown",
   "metadata": {},
   "source": [
    "Interesting description of the foliation of the horizontal directions in the tangent space in case of zero genus. For higher dimensions, this foliation is not available. \n",
    "\n",
    "As we move along this flow, $g$ traces a path in $\\mathcal{M}_c$ but $g$ might degenerate by the injectivity radius going to 0. (He draws a genus two surface and highlights a neck that could shrink to zero.)"
   ]
  },
  {
   "cell_type": "markdown",
   "metadata": {},
   "source": [
    "The analog of Struwe's theory for harmonic map flows is going to hold (at least initially) for this flow. In genus zero, this will be the harmonic map flow. In genus 1, AUTHORS-I-DIDN'T-CATCH established this theory.\n",
    "\n",
    "**Theorem (Rupflin):** For any initial data $(u_0, g_0) \\in \\mathcal{M}_{-1} = \\{ {\\mbox{hyperbolic metrics}} \\}$ there exists a weak solution to $THMF$ with bubbling on a maximal time interval $[0,T), ~0<T \\leq \\infty$. If $T <\\infty$ then the injectivity radius goes to zero.\n",
    "\n",
    "[Melanie Rupflin](http://www.math.uni-leipzig.de/~rupflin/Research.html)"
   ]
  },
  {
   "cell_type": "markdown",
   "metadata": {},
   "source": [
    "What happens if the injectivity radius is bounded from below?\n",
    "\n",
    "**Theorem (Rupflin and Topping):** If the injectivity radius $\\geq \\epsilon > 0$ (so $T=\\infty$) then there exists a sequence of times $t_i \\rightarrow \\infty$ and \n",
    "* a sequence of orientation preserving diffeomorphisms $f_i : M \\rightarrow M$ (not necessarily homotopic to the identity, could twist the manifold a lot)\n",
    "* hyperbolic metric ${\\overline{g}}$ on $M$\n",
    "* weakly conformal harmonic map ${\\overline{u}}: (M, {\\overline{g}}) \\rightarrow (N,G)$\n",
    "* finite set $S \\in M$\n",
    "\n",
    "such that\n",
    "1. $f^*_i g (t_i) \\rightarrow {\\overline{g}} $ (Mumford compactness)\n",
    "2. $u(t_i) f_i \\rightharpoonup {\\overline{u}}$ weakly in $W^{1,2} (M,N)$ and strongly in $W^{1,2}_{loc} (M \\backslash S, N), ~p>2$\n",
    "3. If $\\Pi_2 (N) = \\{ 0 \\}$ then ${\\overline{u}}$ is homotopic to $u_0$."
   ]
  },
  {
   "cell_type": "markdown",
   "metadata": {},
   "source": [
    "**Open Question:** Can the diffeomorphisms $f_i$ \"diverge\"? This is a statement that needs qualifying... The space of diffeomorphisms is an infinite dimensional space. But you can work modulo diffeos isotopic to the identity. You can take your domain and chop it along geodesics and twist by 360 degress along the cuts...and in this way you can generate more and more complicated diffeos. The question is basically can this actually happen? Another version of the question... are the $f_i$'s all homotopic?"
   ]
  },
  {
   "cell_type": "markdown",
   "metadata": {},
   "source": [
    "**Q (Struwe):** Is there an example that shows the $f_i$ are necessary?\n",
    "\n",
    ">A: (I didn't really understand...my sense was yes.)\n",
    "\n",
    "**Q (Tarantello):** Can you describe the bubbles?\n",
    "\n",
    ">A: Yes, they look just like the harmonic map bubbles.\n",
    "\n",
    "**Q (Koch):** Do you have compactness results?\n",
    "\n",
    ">A: Yes, these results are equipped with the natural compactness property.\n",
    "\n"
   ]
  },
  {
   "cell_type": "markdown",
   "metadata": {},
   "source": [
    "Is there a setting where we can guarantee that the injectivity radius is bounded from below?\n",
    "\n",
    "One case where we can guarantee that the injectivity radius $\\geq \\epsilon > 0$ holds is if $u_0$ is \"incompressible\". This notion is defined in terms of some topological conditions...mentions a forthcoming \"collar lemma\".\n",
    "\n",
    "**Corollary:** If incompressible...(some disucssion about $\\Pi_1$)...and $\\Pi_2 (N) = \\{ 0 \\}$ then there exists BMI ${\\overline{u}}$ homotopic to $u_0$.\n",
    "\n",
    "This theorem provides a different flow-based approach to some important results from the 1980s.\n",
    "\n",
    "\n",
    "(Schoen-Yau)\n",
    "\n",
    "(Sacks-Uhlenbeck)"
   ]
  },
  {
   "cell_type": "markdown",
   "metadata": {},
   "source": [
    "**Q:** What is *incompressible*?\n",
    "\n",
    "> A: It is a statement that prevents trivialization of the topology. The topology is not contracted away by the map. "
   ]
  }
 ],
 "metadata": {
  "kernelspec": {
   "display_name": "Python 3",
   "language": "python",
   "name": "python3"
  },
  "language_info": {
   "codemirror_mode": {
    "name": "ipython",
    "version": 3
   },
   "file_extension": ".py",
   "mimetype": "text/x-python",
   "name": "python",
   "nbconvert_exporter": "python",
   "pygments_lexer": "ipython3",
   "version": "3.4.3"
  }
 },
 "nbformat": 4,
 "nbformat_minor": 0
}
