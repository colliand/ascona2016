{
 "cells": [
  {
   "cell_type": "markdown",
   "metadata": {
    "slideshow": {
     "slide_type": "slide"
    }
   },
   "source": [
    "# Nonlinear Schrödinger as a Dynamical System\n",
    "\n",
    "> #### [J. Colliander](http://colliand.com) ([UBC](http://www.math.ubc.ca))\n",
    "\n",
    "#### [Ascona Winter School 2016](http://www.math.uzh.ch/pde16/index-Ascona2016.html), [(alternate link)](http://www.monteverita.org/en/90/default.aspx?idEvent=295&archive=)\n",
    "\n"
   ]
  },
  {
   "cell_type": "markdown",
   "metadata": {
    "slideshow": {
     "slide_type": "subslide"
    }
   },
   "source": [
    "## Lectures\n",
    "\n",
    "1. [Introduction](http://nbviewer.jupyter.org/github/colliand/ascona2016/blob/master/colliander-lecture1.ipynb)\n",
    "2. [Conservation](http://nbviewer.jupyter.org/github/colliand/ascona2016/blob/master/colliander-lecture2.ipynb)\n",
    "3. **[Monotonicity](http://nbviewer.jupyter.org/github/colliand/ascona2016/blob/master/colliander-lecture3.ipynb)**\n",
    "4. [Research Frontier](http://nbviewer.jupyter.org/github/colliand/ascona2016/blob/master/colliander-lecture4.ipynb)\n",
    "\n",
    "\n",
    "\n",
    "###  https://github.com/colliand/ascona2016\n",
    "\n",
    "\n",
    "***\n"
   ]
  },
  {
   "cell_type": "markdown",
   "metadata": {
    "slideshow": {
     "slide_type": "subslide"
    }
   },
   "source": [
    "## Overview of Lecture 3\n",
    "\n",
    "* Generalized Virial Identity\n",
    "* A Priori Spacetime Estimates\n",
    "    * Lin-Strauss Morawetz Estimate\n",
    "    * Interaction Morawetz Estimates"
   ]
  },
  {
   "cell_type": "markdown",
   "metadata": {
    "slideshow": {
     "slide_type": "subslide"
    }
   },
   "source": [
    "# Variations on Conserved Quantities?\n",
    "\n",
    "## Monotone ## \n",
    "$$\\partial_t Q[u] > 0.$$"
   ]
  },
  {
   "cell_type": "markdown",
   "metadata": {
    "slideshow": {
     "slide_type": "slide"
    }
   },
   "source": [
    "\n",
    "# Generalized Virial Identities"
   ]
  },
  {
   "cell_type": "markdown",
   "metadata": {
    "slideshow": {
     "slide_type": "subslide"
    }
   },
   "source": [
    "\n",
    "\n",
    "\n",
    "\n",
    "## Lagrangian NLS\n",
    " \n",
    " \n",
    " \n",
    " \n",
    "$$\n",
    "\\begin{equation*}\n",
    "\\left\\{\n",
    "\\begin{matrix}\n",
    "(i \\partial_t  + \\Delta) u = \\pm F'(|u|^2) u \\\\\n",
    "u(0,x) = u_0 (x)  \\\\\n",
    "\\end{matrix}\n",
    "\\right.\n",
    "\\end{equation*}\n",
    "$$\n",
    "\n",
    "## Generalized NLS Equation (GNLS)\n",
    "\n",
    "\n",
    "\n",
    "$$\n",
    "\\begin{equation*}\n",
    "\\left\\{\n",
    "\\begin{matrix}\n",
    "(i \\partial_t + \\Delta ) \\phi = \\mathcal{N} \\\\\n",
    "\\phi(0,x) = \\phi_0 (x)  \\\\\n",
    "\\end{matrix}\n",
    "\\right.\n",
    "\\end{equation*}\n",
    "$$\n",
    "\n",
    "\n",
    "\n",
    "\n"
   ]
  },
  {
   "cell_type": "markdown",
   "metadata": {
    "slideshow": {
     "slide_type": "fragment"
    }
   },
   "source": [
    "**Remarks:**\n",
    "\n",
    "*  Assume $F' \\geq 0$.\n",
    "The $+$ case is **defocusing** $-$ is **focusing**.\n",
    "*  Generalized NLS with Lagrangian derivation. \n",
    "*  $U(1)$ solution symmetry: $u \\rightarrow e^{i\\theta} u$. \n"
   ]
  },
  {
   "cell_type": "markdown",
   "metadata": {
    "slideshow": {
     "slide_type": "subslide"
    }
   },
   "source": [
    "\n",
    "## Time Invariant Quantities\n",
    "\n",
    "The following quantities do not change with time:\n",
    "$$\n",
    "{\\mbox{Mass}} = \\int_{{\\mathbb{R}}^d} |u(t,x)|^2 dx. \n",
    "$$\n",
    "$$\n",
    "{\\mbox{Momentum}} = 2 \\Im \\int_{{\\mathbb{R}}^2} {\\overline{u}(t)} \\nabla u (t)\n",
    "dx. \n",
    "$$\n",
    "$$\n",
    "{\\mbox{Energy}} = H[u(t)] = \\frac{1}{2} \\int_{R^2} |\\nabla u(t) |^2 dx {\\mp}  F(|u(t)|^2)  dx .\n",
    "$$\n",
    "$\\implies$ a priori **conservation controls** (defocusing case):\n",
    "$$\n",
    "\\| u \\|_{L^\\infty_t L^2_x} \\leq \\| u_0 \\|_{L^2} \n",
    "$$\n",
    "$$\n",
    "\\| \\nabla u \\|_{L^\\infty_t L^2_x } \\leq  E[u_0]. \n",
    "$$\n",
    "These are very useful bounds but do not give any decay in time.\n"
   ]
  },
  {
   "cell_type": "markdown",
   "metadata": {
    "slideshow": {
     "slide_type": "subslide"
    }
   },
   "source": [
    "\n",
    " ## Local Conservation Laws\n",
    "\n",
    "We consider an even more general NLS equation.  \n",
    "\n",
    "\n",
    "*   Suppose $\\phi:[0,T] \\times {\\mathbb{R}}^d \\rightarrow \\mathbb{C}$ solves **generalized\n",
    " NLS (GNLS)**\n",
    "\n",
    "$$\n",
    "(i \\partial_t + \\Delta ) \\phi = \\mathcal{N}\n",
    "$$\n"
   ]
  },
  {
   "cell_type": "markdown",
   "metadata": {
    "slideshow": {
     "slide_type": "fragment"
    }
   },
   "source": [
    "\n",
    "for $\\mathcal{N} = \\mathcal{N} (t, x, \\phi ):[0,T] \\times {\\mathbb{R}}^d \\times \\mathbb{C} \\rightarrow \\mathbb{C}$. Assume $\\phi$ is nice. \n",
    "\n",
    "*  Not necessarily Lagrangian; No $U(1)$ symmetry.\n",
    "\n",
    "*  Express mass and momentum (non)conservation for $GNLS$.\n",
    "\n",
    "\n",
    "\n",
    " \n",
    "Write $\\partial_{x_j} \\phi = \\partial_j \\phi = \\phi_j$.\n"
   ]
  },
  {
   "cell_type": "markdown",
   "metadata": {
    "slideshow": {
     "slide_type": "subslide"
    }
   },
   "source": [
    " ## Local mass/momentum (non)conservation\n",
    "  \n",
    "\n",
    " \n",
    " *  mass density:   \n",
    "$T_{00} = |\\phi|^2 $\n"
   ]
  },
  {
   "cell_type": "markdown",
   "metadata": {
    "slideshow": {
     "slide_type": "fragment"
    }
   },
   "source": [
    "\n",
    "*  momentum density/mass current:    \n",
    "$T_{0j} = T_{j0} = 2 \\Im   (\\overline{\\phi} \\phi_j)$\n"
   ]
  },
  {
   "cell_type": "markdown",
   "metadata": {
    "slideshow": {
     "slide_type": "fragment"
    }
   },
   "source": [
    "\n",
    "*  (linear part of the) momentum current:  \n",
    "$L_{jk} = L_{kj} = - \\partial_j \\partial_k |\\phi|^2 + 4 \\Re (\\overline{\\phi_j} \\phi_k)$\n"
   ]
  },
  {
   "cell_type": "markdown",
   "metadata": {
    "slideshow": {
     "slide_type": "fragment"
    }
   },
   "source": [
    "\n",
    "*  mass bracket: \n",
    "$\\{ f, g\\}_m = \\Im (f \\overline{g})$\n",
    "\n",
    "*  momentum bracket:   \n",
    "$\\{ f, g\\}^j_{p} = \\Re (f \\partial_j \\overline{g} - g \\partial_j \\overline{f} )$\n",
    " "
   ]
  },
  {
   "cell_type": "markdown",
   "metadata": {
    "slideshow": {
     "slide_type": "fragment"
    }
   },
   "source": [
    "\n",
    "\n",
    "**Local mass (non)conservation identity:**   \n",
    "$$\n",
    "\\partial_t T_{00} + \\partial_j T_{0j} = 2 \\{ \\mathcal{N} , \\phi \\}_m\n",
    "$$\n",
    "**Local momentum (non)conservation identity:** \n",
    "$$\\partial_t T_{0j} + \\partial_k L_{kj} = 2 \\{ \\mathcal{N} , \\phi\n",
    "\\}_p^j\n",
    "$$"
   ]
  },
  {
   "cell_type": "markdown",
   "metadata": {
    "slideshow": {
     "slide_type": "subslide"
    }
   },
   "source": [
    " ## Local mass/momentum (non)conservation\n",
    "\n",
    "Consider $\\mathcal{N} = F' (|\\phi|^2) \\phi$ for polynomial $F:{\\mathbb{R}}^+ \\rightarrow \\mathbb{R}$.\n",
    "\n"
   ]
  },
  {
   "cell_type": "markdown",
   "metadata": {
    "slideshow": {
     "slide_type": "fragment"
    }
   },
   "source": [
    "\n",
    "*  We calculate the mass bracket\n",
    "$$\n",
    "\\{ F' (|\\phi|^2) \\phi , \\phi \\}_m = \\Im ( F' (|\\phi|^2) \\phi\n",
    "\\overline{\\phi}) =0.\n",
    "$$\n",
    "\n",
    "Thus mass is conserved for these nonlinearities. \n",
    "\n"
   ]
  },
  {
   "cell_type": "markdown",
   "metadata": {
    "slideshow": {
     "slide_type": "fragment"
    }
   },
   "source": [
    "\n",
    "*  We calculate the momentum bracket\n",
    "$$\n",
    "\\{ F' (|\\phi|^2) \\phi , \\phi \\}_p^j = - \\partial_j G (|\\phi|^2)\n",
    "$$\n",
    "where $G(z) = z F'(z) - F(z) \\thicksim F(z)$. \n",
    "\n",
    "\n",
    "Thus the momentum bracket contributes a divergence and momentum is conserved for these nonlinearities."
   ]
  },
  {
   "cell_type": "markdown",
   "metadata": {
    "slideshow": {
     "slide_type": "subslide"
    }
   },
   "source": [
    "\n",
    " \n",
    " ## Generalized Virial Identity\n",
    "\n",
    "  \n",
    "Let $a: {\\mathbb{R}}^d \\rightarrow \\mathbb{R}$ be a **virial weight function**. \n",
    "Form the **virial potential**\n",
    "$$V_a (t) = \\int_{{\\mathbb{R}}^d} a(x) |\\phi(t,x)|^2 dx.$$\n",
    "\n"
   ]
  },
  {
   "cell_type": "markdown",
   "metadata": {
    "slideshow": {
     "slide_type": "fragment"
    }
   },
   "source": [
    "Form the **Morawetz action**\n",
    "$$\n",
    "M_a (t) = \\int_{{\\mathbb{R}}^d} \\nabla a \\cdot 2 \\Im (\\overline{\\phi} \\nabla \\phi) dx.\n",
    "$$\n"
   ]
  },
  {
   "cell_type": "markdown",
   "metadata": {
    "slideshow": {
     "slide_type": "fragment"
    }
   },
   "source": [
    "\n",
    "Conservation identities lead to the **generalized virial identities**\n",
    "$$\n",
    "\\partial_t V_a = M_a + \\int_{{\\mathbb{R}}^d} a (x) \\{ \\mathcal{N}, \\phi\\}_m (t,x) dx,\n",
    "$$\n",
    "$$\n",
    "\\partial_t M_a = \\int_{{\\mathbb{R}}^d} (-\\Delta \\Delta a) |\\phi|^2 + 4 a_{jk}\n",
    "\\Re (\\overline{\\phi_j} \\phi_k) + 2 a_j \\{ \\mathcal{N}, \\phi\\}_p^j dx.\n",
    "$$"
   ]
  },
  {
   "cell_type": "markdown",
   "metadata": {
    "slideshow": {
     "slide_type": "subslide"
    }
   },
   "source": [
    "\n",
    "## Remarks on Virial Identities\n",
    "\n",
    "*  The virial potential is a weighted average of the mass density against the virial weight $a$.\n",
    "\n",
    "*  The Morawetz action is a contraction of the momentum density against $\\nabla a$. Vector fields not arising as gradients could also be considered.\n",
    "\n",
    "*  Useful estimates emerge from monotonicity and boundedness of terms in the virial identities.\n",
    " \n",
    "*  Monotone quantities provide dynamical insights.\n",
    "\n",
    "*  **Idea of Morawetz Estimates:** *Cleverly choose* the weight\n",
    "function $a$ so that $\\partial_t M_a \\geq 0$ but $M_a \\leq C (\\phi_0)$ to\n",
    "obtain spacetime control on $\\phi$. This strategy imposes various\n",
    "constraints on $a$ which suggest choosing $a (x) = |x|$.\n"
   ]
  },
  {
   "cell_type": "markdown",
   "metadata": {
    "slideshow": {
     "slide_type": "subslide"
    }
   },
   "source": [
    "\n",
    "## Variance Identity\n",
    "  \n",
    "\n",
    "*  Consider $GNLS$ with $\\mathcal{N} = \\pm |u|^{4/d} u$. This is the **$L^2$ critical focusing** equation $NLS_{1+{\\frac{4}{d}}}^{\\pm} ({\\mathbb{R}}^d)$. \n",
    "*  Choose $a(x) = |x|^2$. Calculations reveal that\n",
    "$$\n",
    "\\partial_t^2 \\int_{{\\mathbb{R}}^d} |x|^2 |u(t,x)|^2 dx = 16 H[u(t)].\n",
    "$$\n",
    "*  In the focusing case, we can consider initial data $u_0$ with $H[u_0] <0$ and finite variance. Such data must blow up in finite time."
   ]
  },
  {
   "cell_type": "markdown",
   "metadata": {
    "slideshow": {
     "slide_type": "slide"
    }
   },
   "source": [
    "# A Priori Spacetime Estimates"
   ]
  },
  {
   "cell_type": "markdown",
   "metadata": {
    "slideshow": {
     "slide_type": "subslide"
    }
   },
   "source": [
    "\n",
    " \n",
    " ## [Lin-Strauss] Morawetz identity\n",
    "\n",
    "\n",
    "Consider $(i \\partial_t + \\Delta ) \\phi = F' (|\\phi|^2) \\phi$ with $F' \\geq 0$ and $x \\in {\\mathbb{R}}^3$. Choose $a(x) = |x|$. Observe that $a$ is weakly convex, $\\nabla a = \\frac{x}{|x|}$ is bounded, and $-\\Delta \\Delta a = 4 \\pi \\delta_0$.  From monotonicity $\\partial_t M_a \\geq 0$ and the bound $|M_a| \\leq \\sqrt{H[u_0]}$ emerges the **Lin-Strauss Morawetz identity**\n",
    "$$\n",
    "M_a (T) - M_a (0) = \\int\\limits_0^T \\int\\limits_{{\\mathbb{R}}^3} 4 \\pi \\delta_0 (x) |\\phi (t,x)|^2  + (\\geq 0) + 4\n",
    "\\frac{G(|\\phi|^2)}{|x|} dx dt.\n",
    "$$\n",
    "\n",
    "This implies the spacetime control estimate (centered at $x=0$)\n",
    "$$\n",
    "(H[u_0])^{1/2} \\|u_0\\|_{L^2} \\gtrsim \\int\\limits_0^T \\int\\limits_{{\\mathbb{R}}^3}\n",
    "\\frac{G(|\\phi|^2)}{|x|} dx dt. \n",
    "$$ \n",
    " \n",
    "[Morawetz] \"Reward and Anchor.\" \n",
    "\n",
    "[Ginibre-Velo] $H^1$-Scattering."
   ]
  },
  {
   "cell_type": "markdown",
   "metadata": {
    "slideshow": {
     "slide_type": "subslide"
    }
   },
   "source": [
    "\n",
    "## [Bourgain] and [Grillakis] truncation\n",
    "\n",
    "*  Let $\\chi_{B_R}$ denote a smooth cutoff adapted to $B_R = \\{ |x| < R \\}$.\n",
    "*  Choose cutoff virial weight\n",
    "$\n",
    "a(x) = \\chi_{B_R} (x) |x|.\n",
    "$\n",
    "and calculate\n",
    "$$\n",
    "M_a \\Big|_0^T \\geq \\int\\limits_0^T \\int\\limits_{{\\mathbb{R}}^3} 4 \\pi \\delta_0 (x) |\\phi (t,x)|^2  + 4 \\int\\limits_0^T \\int\\limits_{|x| < R/2}   \n",
    "\\frac{G(|\\phi|^2)}{|x|} dx dt\n",
    "$$\n",
    "* \n",
    "$\n",
    "| M_a \\Big|_0^T | \\leq R^{-1} T H[u_0] + R H[u_0] \\implies$ choose $R \\thicksim T^{1/2} \\implies$\n",
    "$$\n",
    "\\int\\limits_0^T \\int\\limits_{|x| < T^{1/2}} \\frac{G(|\\phi|^2)}{|x|} dx \\lesssim T^{1/2} \\|\\nabla \\phi \\|_{L^\\infty_{[0,T]} L^2_x}^2.\n",
    "$$\n",
    "\n",
    "\n",
    "[Bourgain], [Grillakis]: Energy critical bubbles sparse along time axis."
   ]
  },
  {
   "cell_type": "markdown",
   "metadata": {
    "slideshow": {
     "slide_type": "slide"
    }
   },
   "source": [
    "# Interaction Morawetz Estimates"
   ]
  },
  {
   "cell_type": "markdown",
   "metadata": {
    "slideshow": {
     "slide_type": "subslide"
    }
   },
   "source": [
    "\n",
    " \n",
    "\n",
    "## Averaging over [Lin-Strauss] center?\n",
    "\n",
    "*  Translation invariance? Weight $|x|^{-1}$ difficult in proofs.\n",
    "*  Recenter [L-S] at fixed $y \\in {\\mathbb{R}}^d$. Set $a(x) = |x-y|$.\n",
    "*  Recentered Morawetz action can be expressed\n",
    "$$\n",
    "M_y [u] (t) = \\int_{{\\mathbb{R}}^d} \\frac{(x-y)}{|x-y|} 2 \\Im ( u \\nabla \\overline{u}) (t,x) dx.\n",
    "$$\n",
    "*  Monotonicity $\\partial_t M_y [u] \\geq 0$: mass repelled from $y \\in {\\mathbb{R}}^d$.\n",
    "*  Can we **average with respect to center $y$** and obtain new translation invariant spacetime control?\n",
    "*  Yes, if we average against the natural density $|u(t,y)|^2$.\n"
   ]
  },
  {
   "cell_type": "markdown",
   "metadata": {
    "slideshow": {
     "slide_type": "subslide"
    }
   },
   "source": [
    "\n",
    "\n",
    "## Interaction Morawetz via Averaging\n",
    "\n",
    "*  Define the **Morawetz interaction potential**\n",
    "$$\n",
    "M[u](t) = \\int_{{\\mathbb{R}}^d_y} |u(t,y)|^2 M_y [u] (t) dy.\n",
    "$$\n"
   ]
  },
  {
   "cell_type": "markdown",
   "metadata": {
    "slideshow": {
     "slide_type": "fragment"
    }
   },
   "source": [
    "It is bounded: \n",
    "$$\\Big|M[u](t)\\Big| \\lesssim \\| u(t) \\|_{L^2_x}^3 \\| \\nabla u(t) \\|_{L^2_x}.$$ "
   ]
  },
  {
   "cell_type": "markdown",
   "metadata": {
    "slideshow": {
     "slide_type": "fragment"
    }
   },
   "source": [
    "We calculate\n",
    "$$\n",
    "\\partial_t M[u] =  \\int_{{\\mathbb{R}}^d_y}  |u(t,y)|^2 \\{\\partial_t M_y [u] \\} + \\{\\partial_t |u(y)|^2\\} M_y [u] dy.\n",
    "$$\n",
    "\n"
   ]
  },
  {
   "cell_type": "markdown",
   "metadata": {
    "slideshow": {
     "slide_type": "fragment"
    }
   },
   "source": [
    "*   Local conservation and [Lin-Strauss] Morawetz  $\\implies$ monotonicity:    \n",
    "$\\exists ~I, II, III, IV$ such that $I, III \\geq 0$ and $II + IV \\geq 0$ and \n",
    "$ \\partial_t M[u] = I + II + III + IV. $ Integrating in time gives\n",
    " $$\\int_0^T \\int_{{\\mathbb{R}}^3} |u(t,x)|^4 dx dt \\lesssim  \\| u(t) \\|_{L^\\infty_T L^2_x}^3 \\| \\nabla u(t) \\|_{L^\\infty_T L^2_x}~ .\n",
    "$$"
   ]
  },
  {
   "cell_type": "markdown",
   "metadata": {
    "slideshow": {
     "slide_type": "subslide"
    }
   },
   "source": [
    "\n",
    " \n",
    "## 2-particle interaction Morawetz \n",
    " (Hassell 04)\n",
    "\n"
   ]
  },
  {
   "cell_type": "markdown",
   "metadata": {
    "slideshow": {
     "slide_type": "fragment"
    }
   },
   "source": [
    "\n",
    " \n",
    "*  Suppose $\\phi_1, \\phi_2$ are two solutions of $(i \\partial_t + \\Delta ) \\phi = F' (|\\phi|^2) \\phi$ with $F' \\geq 0$ and $x \\in {\\mathbb{R}}^3$.  The **2-particle wave function**\n",
    "$$\n",
    "\\Psi (t, x_1, x_2) = \\phi_1 (t, x_1) \\phi_2 (t, x_2)\n",
    "$$\n"
   ]
  },
  {
   "cell_type": "markdown",
   "metadata": {
    "slideshow": {
     "slide_type": "fragment"
    }
   },
   "source": [
    "satisfies an NLS-type equation on ${\\mathbb{R}}^{1+6}$\n",
    "$$\n",
    "(i \\partial_t + \\Delta_1 + \\Delta_2) \\Psi = [F' (|\\phi_1 |^2) + F'\n",
    "(|\\phi_2 |^2)] \\Psi.\n",
    "$$\n"
   ]
  },
  {
   "cell_type": "markdown",
   "metadata": {
    "slideshow": {
     "slide_type": "fragment"
    }
   },
   "source": [
    "\n",
    "\n",
    "*  Note that $ [F' (|\\phi_1 |^2) + F' (|\\phi_2 |^2)] \\geq 0$ so defocusing.\n",
    "\n"
   ]
  },
  {
   "cell_type": "markdown",
   "metadata": {
    "slideshow": {
     "slide_type": "fragment"
    }
   },
   "source": [
    "\n",
    "*  Reparametrize ${\\mathbb{R}}^6$ using center-of-mass coordinates $(\\overline{x}, y)$ with $\\overline{x} = \\frac{1}{2} (x_1 + x_2) \\in {\\mathbb{R}}^3$. Note that\n",
    "$y=0$ corresponds to the diagonal $x_1 = x_2 = \\overline{x}$. Apply the\n",
    "generalized virial identity with the **choice** $a(x_1, x_2) = |y|$. Dismissing terms with favorable\n",
    "signs, one obtains...\n"
   ]
  },
  {
   "cell_type": "markdown",
   "metadata": {
    "slideshow": {
     "slide_type": "subslide"
    }
   },
   "source": [
    " \n",
    " ## 2-particle interaction Morawetz\n",
    " \n",
    "$$\n",
    " \\| \\nabla u \\|_{L^\\infty_{[0,T]} L^2_x} \\|u_0\\|_{L^2}^3 \\geq  \\int_0^T \\int_{{\\mathbb{R}}^6}\n",
    " (-\\Delta_6 \\Delta_6 |y|) |\\Psi ( x_1, x_2)|^2 d x_1 dx_2 dt \n",
    "$$\n",
    "$$\n",
    "\\geq  c\\int_0^T \\int_{{\\mathbb{R}}^6} \\delta_{\\{y=0\\}} (x_1, x_2) |\\phi_1(x_1) \\phi_2( x_2)|^2 dx_1 dx_2 dt \n",
    "$$\n",
    "$$\n",
    " \\geq  c\\int_0^T \\int_{{\\mathbb{R}}^3} |\\phi_1(t, \\overline{x}) \\phi_2(t, \\overline{x})|^2 d \\overline{x}\n",
    "dt.\n",
    "$$\n",
    " \n",
    "Specializing to $\\phi_1 = \\phi_2$ gives the **2-particle Morawetz estimate**\n",
    "$$\n",
    "\\int_0^T \\int_{{\\mathbb{R}}^3} |\\phi(t,x)|^4 dx dt \\leq C \\| \\nabla \\phi\n",
    "\\|_{L^\\infty_{[0,T]} L^2_x} \\| \\phi_0 \\|_{L^2_x}^3\n",
    "$$\n",
    "valid uniformly for all defocusing NLS equations on ${\\mathbb{R}}^3$.\n",
    " "
   ]
  },
  {
   "cell_type": "markdown",
   "metadata": {
    "slideshow": {
     "slide_type": "subslide"
    }
   },
   "source": [
    " \n",
    "## \"The\" 2-particle Morawetz Estimate\n",
    "Efforts to extend the $L^4(\\mathbb{R}_t \\times {\\mathbb{R}}^3_x)$ interaction Morawetz to the ${\\mathbb{R}}^2_x$ setting led to...\n",
    "\n",
    "**Theorem:**\n",
    "Finite energy solutions of any defocusing $NLS^+ ({\\mathbb{R}}^d)$ satisfy\n",
    "$$\n",
    "\t\\| D^{\\frac{3-d}{2}} |u|^2 \\|^2_{L^2_{t,x}} \\lesssim \n",
    "\t\\| u_0 \\|_{L^2_x}^3 \\| \\nabla u \\|_{L^\\infty_t L^2_x}.\n",
    "$$\n",
    "\n",
    "\n",
    "\n",
    "*  [C-Grillakis-Tzirakis], [Planchon-Vega]: independently\n",
    "*  Simple proof of $H^1$-scattering in mass supercritical case.[Nakanishi]\n",
    "*  Simplified proof extends to $H^s$ for certain $s<1$.\n",
    "*  Applied by Dodson to resolve the $L^2$ scattering conjecture."
   ]
  },
  {
   "cell_type": "markdown",
   "metadata": {
    "slideshow": {
     "slide_type": "subslide"
    }
   },
   "source": [
    "## 4-particle Morawetz Estimate\n",
    "\n",
    "(Hassel-Tao) [C-Holmer-Visan-Zhang]\n",
    "\n",
    "*  ${\\mathbb{R}}^4 = \\{ {\\bf{x}}=(x_1, x_2, x_3, x_4): x_i \\in \\mathbb{R}; i=\\{ 1,2,3,4 \\}$: \n",
    "$\\overline{x}=$ **center of mass** $ = \\frac{1}{4}(x_1 + x_2 + x_3 + x_4)$. \n",
    " Define $y = (x_1 - \\overline{x}, x_2 - \\overline{x}, x_3 - \\overline{x}, x_4 - \\overline{x})$. Here $y \\in {\\mathbb{R}}^3$.  $ {\\mathbb{R}}^4 \\ni {\\bf{x}}= (x_1, x_2, x_3, x_4) \\iff (\\overline{x}, y) \\in \\mathbb{R} \\times {\\mathbb{R}}^3$\n",
    " "
   ]
  },
  {
   "cell_type": "markdown",
   "metadata": {
    "slideshow": {
     "slide_type": "fragment"
    }
   },
   "source": [
    "\n",
    "*  The 4-particle wave function \n",
    "$$ \\Psi (t, {\\bf{x}}) = \\prod_{i=1}^4 \\phi_1 (t, x_i) $$\n",
    "satisfies a defocusing NLS equation on ${\\mathbb{R}}^{1+4}$.\n"
   ]
  },
  {
   "cell_type": "markdown",
   "metadata": {
    "slideshow": {
     "slide_type": "fragment"
    }
   },
   "source": [
    "\n",
    "*  Choice of virial weight $a({\\bf{x}}) = |y|$ spawns\n",
    "$$\n",
    "\\int_0^T \\int_{\\mathbb{R}} |\\phi|^8 d{\\overline{x}} dt \\lesssim \\| \\phi \\|^7_{L^\\infty_T L^2_x} \\|\\nabla \\phi \\|_{L^\\infty_T L^2_x}.\n",
    "$$\n",
    "* **Q:** How does this estimate generalize to other dimensions?\n"
   ]
  },
  {
   "cell_type": "markdown",
   "metadata": {
    "slideshow": {
     "slide_type": "slide"
    }
   },
   "source": [
    "# Applications"
   ]
  }
 ],
 "metadata": {
  "celltoolbar": "Slideshow",
  "kernelspec": {
   "display_name": "Python 3",
   "language": "python",
   "name": "python3"
  },
  "language_info": {
   "codemirror_mode": {
    "name": "ipython",
    "version": 3
   },
   "file_extension": ".py",
   "mimetype": "text/x-python",
   "name": "python",
   "nbconvert_exporter": "python",
   "pygments_lexer": "ipython3",
   "version": "3.4.3"
  }
 },
 "nbformat": 4,
 "nbformat_minor": 0
}
