{
 "cells": [
  {
   "cell_type": "markdown",
   "metadata": {},
   "source": [
    "## Partial analyticity\n",
    "\n",
    "$$ \\partial_i F^i (x,u, Du) = f (x,u, Du)$$\n",
    "\n",
    "Instead of assuming $F,f$ were analytic, I wish to consider a slightly more general setting."
   ]
  },
  {
   "cell_type": "markdown",
   "metadata": {},
   "source": [
    "$$\\mathbb{R}^d = \\mathbb{R}^{d_1} \\times \\mathbb{R}^{d_2}, x = (x', x'')$$\n",
    "\n",
    "$$F,f: B_1 (0) \\times I \\times A \\times i(B_r (0) \\times (-\\epsilon, \\epsilon) \\times B_r (0) )$$\n",
    "\n",
    "We will extend then to analyticisiity with respect to $z'$, the complexification of $x'$.\n",
    "\n",
    "$f$ bounded\n",
    "\n",
    "$F \\in C^\\alpha$, elliptic\n"
   ]
  },
  {
   "cell_type": "markdown",
   "metadata": {},
   "source": [
    "**Theorem (Koch-Nadarishvili):** $u \\in C^1 \\implies $ partial analytic. extension to $u \\in C^{1,\\alpha}$."
   ]
  },
  {
   "cell_type": "markdown",
   "metadata": {},
   "source": [
    "**Steps in proof in first lecture:**\n",
    "\n",
    "1. Normalization, smallness. $u \\in C^{1,\\alpha}$. perturbative argument, regularity theory for $\\Delta$.\n",
    "2. Formal. Suppose the claim is true $\\implies $ system of holomorphic PDE plus Cauchy-Riemann equations. Real manifold, real elliptic equations. *draws a picture of some leaves spanning off the horizontal axis*\n",
    "3. Use elliptic equation to define functions on ths leaf. define candidate $u$ for holomorphic solutions. Again, the regularity theory for $\\Delta$ enters here.\n",
    "4. Verify the Cauchy-Riemann equations for this candidate to validate the formal assumption in step 2."
   ]
  },
  {
   "cell_type": "markdown",
   "metadata": {},
   "source": [
    "If you want to play with this, you might wish to replace the $\\Delta$ by a different operator. We will see different replacements of the Laplacian in different applications. For example, we may wish to replace it with the heat operator. In free boundary problems, you may wish to replace it with a subelliptic operator. These variants will be mentioned as applications later on.\n"
   ]
  },
  {
   "cell_type": "markdown",
   "metadata": {},
   "source": [
    "Before these variations and applications, I wish to look at an example.\n",
    "\n",
    "$$\\Delta u = f(u)$$\n",
    "with $f$ bounded, measurable. We look at this in $B_1(0) \\in \\mathbb{R}^d.$ If $u$ is a solution in class $C^1, ~\\nabla u(0) \\neq 0 \\implies u \\in C^{1,1}$ near 0. This is more than what the standard elliptic regularity theory gives. There are interesting counterexamples....\n",
    "\n",
    "Shodgoylian Conjecture/Question: If $f$ is continuous $\\implies u \\in C^{1,1}$. \n",
    "\n",
    "**Theorem (K-N):** There exists $f$ continuous and $u$ with $\\Delta u = f(u)$ with $ u \\notin C^{1,1}$.\n",
    "\n",
    "(All of this is local so don't worry about boundary conditions.)\n",
    "\n",
    "**Q (Struwe):** Can you provide some concrete examples of the nonlinearity you have in mind?\n",
    "\n",
    ">A: I'm going to give some examples of solutions soon.\n",
    "\n",
    "**Proof:** We will work in a quadrant and extend via symmetry.\n",
    "\n",
    "$$ u(x) = ( - \\ln |x| + 1) x_1 x_2$$\n",
    "\n",
    "$$ \\Delta u = -2 \\frac{x_1 x_2}{|x|^2} $$\n",
    "\n",
    "Next, we build a function $w$ on the region $x_1, x_2 > 0, |x| <1$ satisfying\n",
    "$$\\Delta w = -1$$\n",
    "\n",
    "$W(0,x_2) = w(x_1, 0) = 0$  \n",
    "$ w(x) = x_1 x_2$ if $|x| =1$\n",
    "\n",
    "Define $ w = u+v$.\n",
    "\n",
    "$$\\Delta v = -1 + 2 \\frac{x_1 x_2}{|x|^2} $$\n",
    "\n",
    "$v =0 $ at the boundary.\n",
    "\n",
    "$ \\frac{|w-u|}{|x|^2}$ is bounded.\n",
    "\n",
    "Extend by odd reflection.\n",
    "\n",
    "$$ x_1 x_2 \\leq w$$\n",
    "\n",
    "Set $ f = - H(u)$ and we have a counterexample. The Heaviside function is not continuous though and we want a continuous counterexample. Take a sequence of functions $f_k \\subset C^1$ so that $f_k \\uparrow 1$ on $[0,\\infty)$. We want to approximate the Heaviside function. There exists $u_k$ such that $\\Delta u_k = - f_k (u_k), ~ u_k \\geq x_1 x_2. $ How does one prove this? You can look at the heat flow, use comparisons, appeal to the Schauder fixed point theorem $\\implies$ there exists a solution $u_k$. As the $f_k$ converge to 1, the $u_k$ have to converge to $w$. This then implies that for all $n$ there exists a function $f_n$ and solution $u_n$ so that \n",
    "$$ \n",
    "\\Delta u_n = - f_n (u_n)$\n",
    "$$ \n",
    "and the $\\limsup_{x \\rightarrow 0} \\frac{u_k(x)}{|x|^2} \\geq n^2.$\n",
    "\n",
    "Define $f(u) = \\sup_n \\frac{f_n (u)}{n}.$\n",
    "\n",
    "Repeat the construction. There exists $u$ such that $ u \\geq u_n \\implies \\limsup_{x \\rightarrow 0} \\frac{u(x)}{|x|^2} = \\infty.$\n",
    "\n",
    "This type of counterexample shows that continuity is not good enough to get $C^{1,1}$.\n",
    "\n"
   ]
  },
  {
   "cell_type": "markdown",
   "metadata": {},
   "source": [
    "## Stationary Euler Equation in 2d\n",
    "\n",
    "Stationary velocity profile in the Euler equation.\n",
    "\n",
    "$U: B_1 (0) \\rightarrow \\mathbb{R}^2$, velocity  \n",
    "$p: B_1 (0) \\rightarrow \\mathbb{R}$  \n",
    "\n",
    "**Euler equations:**\n",
    "$$ u_t + (u \\cdot \\nabla u) u + \\nabla p = 0$$\n",
    "$$ \\nabla \\cdot u = 0$$\n",
    "\n",
    "I want to look at the stationary problem so $u_t $ vanishes. He draws a horizontal slab and describes a stationary (horizontal) shear flow. Any shear flow generates a solution to the stationary problem so there is no regularity.\n",
    "\n",
    "**Theorem (K-N):** Suppose $u \\in L^\\infty, ~u_1 > k > 0$ \\implies flow lines are analytic.\n",
    "\n",
    "What I've said so far doesn't really make sense. Why? I have to tell you what kind of solution I'm considering. Also, I need to tell you how I can convert the solution into flow lines. That requires solving an ODE with $L^\\infty$ coefficients so we need to say more."
   ]
  },
  {
   "cell_type": "markdown",
   "metadata": {},
   "source": [
    "**Remark:**\n",
    "\n",
    "1. $\\partial_1 u_1 + \\partial_2 u_2 = 0 \\implies$ there exists a stream functional (velocity potential) $\\partial_2 \\Phi = u_1 \\geq k > 0, \\partial 1 \\Phi = - u_2. $\n",
    "2. More regularity. $\\Delta \\Phi =  F (\\Phi)$ for some function $F$ that is determined by $\\Phi$ and the data. So, with more regularity we are exactly in the setting I discussed before. We explore a bit to find the function $F$."
   ]
  },
  {
   "cell_type": "markdown",
   "metadata": {},
   "source": [
    "\n",
    "$$ e = \\frac{1}{2} |u|^2 + p$$ is the energy of particle.\n",
    "\n",
    "Bernoulli's law allows us to write $e = e (\\Phi).$\n",
    "\n",
    "I want to utilize the Euler equation in terms of the potential.\n",
    "\n",
    "Rewrite Euler equation in terms of $e$ an $\\Phi$. This is a calculation I don't want to do in detail. If you do this calculation you get\n",
    "$$\n",
    "\\frac{1}{2} \\partial_1 ( (\\partial_2 \\Phi )^2 - (\\partial_1 \\Phi )^2 ) - \\partial_2 (\\partial1 \\Phi \\partial_2 \\Phi) - \\partial_1 e = 0 $$\n",
    "$$\n",
    "\\frac{1}{2}  \\partial_2 ( (\\partial_1 \\Phi)^2 - (\\partial_2 \\Phi)^2 ) - \\partial_1 (\\partial_1 \\Phi \\partial_2 \\Phi) = 0$$\n",
    " \n",
    " This is in divergence form so we can use it to define a **weak solution**.\n",
    " \n",
    " Differentiate and use the Chain rule to calculate:\n",
    " \n",
    " $$ \\partial_2 \\Phi (\\Delta \\Phi - \\frac{de}{d\\Phi} (\\Phi) ) = 0.$$\n",
    " (elliptic)\n",
    " \n",
    " This identifies $F = \\frac{\\partial e}{\\partial \\Phi}$, provided that  $\\partial_2 \\Phi$ does not vanish."
   ]
  },
  {
   "cell_type": "code",
   "execution_count": null,
   "metadata": {
    "collapsed": true
   },
   "outputs": [],
   "source": []
  }
 ],
 "metadata": {
  "kernelspec": {
   "display_name": "Python 3",
   "language": "python",
   "name": "python3"
  },
  "language_info": {
   "codemirror_mode": {
    "name": "ipython",
    "version": 3
   },
   "file_extension": ".py",
   "mimetype": "text/x-python",
   "name": "python",
   "nbconvert_exporter": "python",
   "pygments_lexer": "ipython3",
   "version": "3.4.3"
  }
 },
 "nbformat": 4,
 "nbformat_minor": 0
}
