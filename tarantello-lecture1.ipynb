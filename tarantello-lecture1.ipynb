{
 "cells": [
  {
   "cell_type": "markdown",
   "metadata": {},
   "source": [
    "\n",
    "# Recent developments in the study of self-dual Chern-Simons vortices\n",
    "\n",
    "> #### [Gabriella Tarantello](http://www.mat.uniroma2.it/~tarantel/), Università di Roma \"Tor Vergata\"\n",
    "\n",
    "#### [Ascona Winter School 2016](http://www.math.uzh.ch/pde16/index-Ascona2016.html), [(alternate link)](http://www.monteverita.org/en/90/default.aspx?idEvent=295&archive=)\n",
    "\n",
    "Book: [Selfdual Gauge Field Vortices, Birkhauser 2008](http://www.springer.com/gb/book/9780817643102)\n",
    "\n",
    "1. [Lecture 1](http://nbviewer.jupyter.org/github/colliand/ascona2016/blob/master/topping-lecture1.ipynb)\n",
    "2. [Lecture 2](http://nbviewer.jupyter.org/github/colliand/ascona2016/blob/master/topping-lecture2.ipynb)\n",
    "3. [Lecture 3](http://nbviewer.jupyter.org/github/colliand/ascona2016/blob/master/topping-lecture3.ipynb)\n",
    "4. [Lecture 4](http://nbviewer.jupyter.org/github/colliand/ascona2016/blob/master/topping-lecture4.ipynb)\n",
    "\n",
    "[source](https://github.com/colliand/ascona2016)"
   ]
  },
  {
   "cell_type": "markdown",
   "metadata": {},
   "source": [
    "## Non-abelian Chern-Simons Vortices\n",
    "\n"
   ]
  },
  {
   "cell_type": "markdown",
   "metadata": {},
   "source": [
    "### Motivation\n",
    "\n",
    "* Supercondictivity in electromagnitism\n",
    "\n",
    "formulated with abelian Maxwell-Higgs Gauge Field theory\n",
    "\n",
    "* Flux tubes\n",
    "\n",
    "a manifestation of [Meissner effect](https://en.wikipedia.org/wiki/Meissner_effect).\n",
    "\n",
    "\n",
    "presence of *2D vortices*.\n",
    "\n",
    "The only satisfactory results so far are at the *critical coupling* regime:  BPS (Bogolmin-Prasad-Sommerfield) vortices  This regime is set up in such a way that the vortices don't really interact.\n",
    "\n",
    "The electromagnetic coupling will be replaced by a more complicated non-abelian coupling.\n"
   ]
  },
  {
   "cell_type": "markdown",
   "metadata": {},
   "source": [
    "### What is the \"correct\" gauge?\n",
    "\n",
    "This is not yet clear in the Chern-Simons setting.\n",
    "\n"
   ]
  },
  {
   "cell_type": "markdown",
   "metadata": {},
   "source": [
    "### Maxwell-Chern-Simons (MCS) electromagnetism\n",
    "\n",
    "elerically + magnetically charged MCS vortices\n",
    "\n",
    "* Quark confinement (in QCD)\n",
    "formulated within nonabelian GFT\n",
    "* domain walls (strings) $\\longmapsto$ ?\n",
    "at *critical coupling*\n",
    "\n",
    "non-abelian GFT $\\longmapsto \\mathcal{N} =2$ SuSy  \n",
    "use \"duality pair\"\n",
    "\n",
    "The domain walls are not really understood but, through the theory of supersymmetry, they appear to be some kind of \"dual phenomenon\" to the Meissner effect."
   ]
  },
  {
   "cell_type": "markdown",
   "metadata": {},
   "source": [
    "## Rich Literature\n",
    "\n",
    "* [M. Shifman, A. Yung (2009), Supersymmetric Solitons](http://journals.aps.org/rmp/abstract/10.1103/RevModPhys.79.1139)\n",
    "* [J. Greensite, An introduction to the confinement problem](http://link.springer.com/book/10.1007%2F978-3-642-14382-3)\n",
    "* Dunne 2005\n",
    "* Konishi et. al. 2008-2009  \n",
    "* Lazano et. al. 2007  \n",
    "* Gudnason 2009-2010  \n",
    "\n",
    "After Jaffe-Tauges: Vortices and Monopolse 1980\n",
    "\n",
    "$\\exists$ self-dual vortices $\\iff$ solvability of elliptic PDES with exponential nonlinearities.\n",
    "\n",
    "* Reference. Y. Yang: Solitions in Field Theory and Nonlinear Analysis (2001)\n",
    "* G. Tarantello: Self-dual Gauge Field Vortices: an analytical approach (2008)\n"
   ]
  },
  {
   "cell_type": "markdown",
   "metadata": {},
   "source": [
    "## Popular (abelian) Example: Pure Chern-Simons model (2D)\n",
    "\n",
    "Jackiw-Weinberg-Hong-kim-Pac (1990)\n",
    "\n",
    "$$ \\mathcal{L}_{CS} (A, \\phi) = - \\frac{\\kappa}{4} \\epsilon^{\\alpha \\beta \\gamma} A_\\alpha F_{\\beta \\gamma} + D_\\alpha \\phi {\\overline{D^\\alpha \\phi}} - V(|\\phi|^2). $$\n",
    "\n",
    "The first term is the Chern-Simons term.\n",
    "\n",
    "* $A = (A_0, A_1, A_2)$ is the gauge potential\n",
    "* $\\phi: \\mathbb{R}^{1+2} \\longmapsto \\mathbb{C}$ is the Higgs scalar (wave function)\n",
    "* $D_\\alpha = \\partial_\\alpha + i A_\\alpha$ is the covariant derivative (weak coupling)\n",
    "* $F_{\\alpha \\beta} = \\partial_\\alpha A_\\beta - \\partial_beta A_\\alpha$ is the Electro-Magnetic field\n",
    "* $\\epsilon^{\\alpha \\beta \\gamma}$ is the skew-symmetric Levi-Civita tensor: $\\epsilon^{012} = 1$.\n",
    "* $\\kappa > 0$ is the Chern-Simons coupling parameter.\n",
    "* $V$ is the scalar potential."
   ]
  },
  {
   "cell_type": "markdown",
   "metadata": {},
   "source": [
    "### Energy Density\n",
    "\n",
    "$$ {\\mathcal{E}}_{CS} = |D^0 \\phi|^2 +  |D^1 \\phi|^2 +  |D^2 \\phi|^2 + V (|\\phi|^2)$$"
   ]
  },
  {
   "cell_type": "markdown",
   "metadata": {},
   "source": [
    "## Field Equations\n",
    "\n",
    "determined by the usual variational calculations\n",
    "\n",
    "$$ D_\\alpha D^\\alpha \\phi =  -2 \\frac{\\partial V}{\\partial {\\overline{\\phi}} } $$\n",
    "\n",
    "$$ \\frac{\\kappa}{4} \\epsilon^{\\mu \\alpha \\beta} F_{\\alpha \\beta} = \\frac{i}{2}({\\overline{\\phi}} D^\\mu \\phi - {\\overline{D^\\mu} \\phi} \\phi )  = J^\\mu$$"
   ]
  },
  {
   "cell_type": "markdown",
   "metadata": {},
   "source": [
    "## Vortices\n",
    "\n",
    "Static solution of the field equations with finite energy.\n",
    "\n",
    "Gauss law governing vortices.\n",
    "\n",
    "This simple model has interesting features. There are solutions that are charged both electically and magnetically.\n",
    "\n",
    "$$ \n",
    "\\kappa F_{12} = 2 A_0 |\\phi|^2 ~(= 2 \\rho_0 ~{\\mbox{charge density}})\n",
    "$$\n",
    "$\\implies$ electrically + magnetically charged vortices.\n",
    "\n",
    "The advantage of the Chern-Simons term: it produces charged vortices!\n",
    "\n",
    "Analytical difficulties (typical of Gauge Field Theories). The theory is formulated with respect to terms that you can't measure. Everything is defined only up to gauge equivalence. \n",
    "\n",
    "**Gauge Transformations**\n",
    "\n",
    "* $A_\\alpha \\longmapsto A_\\alpha + \\partial_\\alpha \\omega$\n",
    "* $\\phi \\longmapsto e^{i\\omega} \\phi$\n",
    "\n",
    "Here $\\omega: \\mathbb{R}^{1+2} \\longmapsto \\mathbb{R}$ is smooth.\n",
    "\n",
    "**Question:** What is the good choice of gauge to suite the CS term?\n",
    "\n",
    "Chen-Guo-Spirn-Yuo\n",
    "\n",
    "\n"
   ]
  },
  {
   "cell_type": "markdown",
   "metadata": {},
   "source": [
    "## BPS Chern-Simons Solitons (special $V$)\n",
    "\n",
    "(constraint) Energy Minimizers\n",
    "\n",
    "The static case has the $D^0$ term vanishing in the energy.\n",
    "\n",
    "A specific choice of potential and a \"gauss law constraint\"\n",
    "$$V(|\\phi|^2) = \\frac{1}{\\kappa^2} |\\phi|^2 (1 - |\\phi|^2)^2$$\n",
    "leads to some nice properties for the static problem.\n",
    "\n",
    "**Q:** Is this the \"critical coupling\"? \n",
    "> A: Yes. There is an analogy with Ginzburg-Landau and there will be some discussion later regarding limiting behavior in the parameter $\\kappa$.\n",
    "\n",
    "The calculation leads to a reduced \"decoupled\" set of equations for energy minimizers (at fixed flux) called the BPS-soliton equation.\n",
    "\n",
    "$$D_1 \\phi \\pm i D_2 \\phi = 0.$$\n",
    "$$ F_{12} = \\pm \\frac{2}{\\kappa^2} |\\phi|^2 (1 - |\\phi|^2)$$\n",
    "\n",
    "$$A_0 = \\mp \\frac{1}{\\kappa} (|\\phi|^2 - 1)$$\n",
    "\n",
    "In mathematics, these solutions are called \"self-dual\". The language borrows from some similarities with corresponding objects in the Yang-Mills theory. In physics, these are called the BPS-solitons.\n",
    "\n"
   ]
  },
  {
   "cell_type": "markdown",
   "metadata": {},
   "source": [
    "## Discuss + sign (Taubes '82)\n",
    "\n",
    "$$ D_1 \\phi + i D_2 \\phi = 0$$\n",
    "\n",
    "Recall $D_1$ and $D_2$ are covariant derivatives so the $A$ is in there. The idea to approach this equation was pioneered by Taubes.\n",
    "\n",
    "$\\implies ~\\phi$ holomorphic (up to gauge transformations). You can use the \"Poincaré Lemma\" aka \"the d-bar lemma\"\n",
    "\n",
    "We know that $\\phi$ must of have a finite collection of zeros $p_1, p_2, \\dots, p_N$ repeated with multiplicity. (**vortex points**). Here $N$ is the **vortex number**. \n",
    "\n",
    "I introduce a new variable $u$ such that\n",
    "$$ e^u = |\\phi (z) |^2$$\n",
    "Therefore $u$ must have a singularity at the points $p_j$. \n",
    "$$ u(z) = 2 \\log |z - p_j| + O(1), ~{\\mbox{as}}~ z \\rightarrow p_j.$$\n",
    "\n",
    "You take this ansatz and plug back into the equation. This is a nice exercise. You will find that you can interpret the covariant d-bar equation in a new way. You will find that you can solve for $A_1$ and $A_2$ in terms of $u$. You will also find that $A_1$ and $A_2$ extend smoothly across the vortex points $p_j$. These calculations eventually produce an elliptic equation\n",
    "\n",
    "$$ -\\Delta u = 2 F_{12} - 4 \\pi \\sum_{j=1}^N \\delta_{p_j}$$\n",
    "\n",
    "The process can be reversed. Anytime you find a solution $u$ from this equation, you can go the other way to define a complete solution to the BPS-soliton equation. \n",
    "\n",
    "$$F_{12} = \\frac{2}{\\kappa^2} |\\phi|^2 (1 - |\\phi|^2)$$\n",
    "\n",
    "(2nd BPS equation)\n",
    "\n",
    "### Master Equation for the abelian Chern-Simons Vortices\n",
    "\n",
    "$$-\\Delta u = \\frac{4}{\\kappa^2} e^u (1 - e^u) - 4 \\pi \\sum_{j=1}^N \\delta_{p_j}$$\n",
    "\n"
   ]
  },
  {
   "cell_type": "markdown",
   "metadata": {},
   "source": [
    "## Master Equation for Non-Abelian C.S. Vortices\n",
    "\n",
    "$$U(x) = (u_1(x), \\dots, u_m(x)), ~ x \\in \\mathbb{R}^2$$\n",
    "A system generalization of previous work is then displayed."
   ]
  }
 ],
 "metadata": {
  "kernelspec": {
   "display_name": "Julia 0.3.10",
   "language": "julia",
   "name": "julia-0.3"
  },
  "language_info": {
   "file_extension": ".jl",
   "mimetype": "application/julia",
   "name": "julia",
   "version": "0.3.10"
  }
 },
 "nbformat": 4,
 "nbformat_minor": 0
}
