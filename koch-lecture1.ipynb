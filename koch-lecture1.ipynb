{
 "cells": [
  {
   "cell_type": "markdown",
   "metadata": {},
   "source": [
    "# Rough and regular solutions to elliptic and parabolic PDEs\n",
    "\n",
    "> #### [Herbert Koch](http://www.math.uni-bonn.de/~koch/) ([Bonn](http://www.math.uni-bonn.de/))\n",
    "\n",
    "#### [Ascona Winter School 2016](http://www.math.uzh.ch/pde16/index-Ascona2016.html), [(alternate link)](http://www.monteverita.org/en/90/default.aspx?idEvent=295&archive=)"
   ]
  },
  {
   "cell_type": "markdown",
   "metadata": {
    "collapsed": true
   },
   "source": [
    "## Perturbation Regime\n",
    "\n",
    "$$\n",
    "0 = Lu + f(u)\n",
    "$$\n",
    "\n",
    "**Theorem (K, Nadirashvili):** $(M,g), g \\in C^1$, harmonic map $u: U \\rightarrow M$ and you know that $u \\in C^1, Du(x_0) \\neq 0 \\implies$ local charts are analytic."
   ]
  },
  {
   "cell_type": "markdown",
   "metadata": {},
   "source": [
    "Elliptic PDE  \n",
    "Expectation: solutions are as regular as the data.\n",
    "\n",
    "$$\\sum_{j=1}^d \\partial_{x_j} F^j (x, u, Du) - f(x,u,Du)$$\n",
    "\n",
    "$F,f$ are analytic.\n",
    "\n",
    "What does it mean to say the equation is *elliptic*?\n",
    "\n",
    "$$a_{jk} = \\frac{\\partial F^j}{\\partial p_k} (x,u, p), ~ a_{jk} + a_{kj} ~{\\mbox{positive definite}}.$$\n",
    "\n",
    "(elliptic)\n",
    "\n",
    "$u \\in C^1$ is a weak solution.\n",
    "\n",
    "**Theorem:** $u$ is analytic."
   ]
  },
  {
   "cell_type": "markdown",
   "metadata": {},
   "source": [
    "This work is closely related to older work by Morrey, by Levy, and others. The reason I want to present it here is I wish to generalize the hypotheses for some other purposes."
   ]
  },
  {
   "cell_type": "markdown",
   "metadata": {},
   "source": [
    "**Proof:** This is a local statement. So, we can translate and subtract off an affine function. \n",
    "\n",
    "**step 1.** $u(0) = Du(0) = 0$ rotate, smallness, $a_{jk} (0,0) = \\delta_{j,k}$.\n",
    "The last assumption is not strictly correct but we can proceed to resolve things from progress here.\n",
    "\n",
    "How to think about analyticity?\n",
    "\n",
    "**step 2.** $\\sum_{j=1}^d \\partial_{z_j} F^j (z, u, D_z u) = f (z, u, D_z u)$\n",
    "\n",
    "*complexify*\n",
    "\n",
    "You might expand this out by writing it as \n",
    "$$\n",
    "\\sum_{j=1}^d \\partial_{z_j}^2 u = \\sum_{j=1}^d \\partial_j G^j (z,u,D_Zu ) = f(z,u,D_z u)\n",
    "$$\n",
    "\n",
    "This equation does not have good structure. But it has another nice feature. The Cauchy-Riemann equations can be found here. \n",
    "$$ \\frac{\\partial u}{\\partial y_j} = i \\frac{\\partial u}{\\partial x_j}$$\n",
    "\n",
    "**Q (Tarantello):** Why do you assume all this analyticity? Aren't you trying to prove that?\n",
    "> A: We are first imagining the result is true and then seeing what we can find in terms of the structure of the equation."
   ]
  },
  {
   "cell_type": "markdown",
   "metadata": {},
   "source": [
    "\"I want to somehow change this into something that is more familiar\"\n",
    "\n",
    "He draws a picture and starts defining some structures associated with the picture. This is a scenario where typing is inadequate relative to writing with a pen!"
   ]
  }
 ],
 "metadata": {
  "kernelspec": {
   "display_name": "Python 3",
   "language": "python",
   "name": "python3"
  },
  "language_info": {
   "codemirror_mode": {
    "name": "ipython",
    "version": 3
   },
   "file_extension": ".py",
   "mimetype": "text/x-python",
   "name": "python",
   "nbconvert_exporter": "python",
   "pygments_lexer": "ipython3",
   "version": "3.4.3"
  }
 },
 "nbformat": 4,
 "nbformat_minor": 0
}
