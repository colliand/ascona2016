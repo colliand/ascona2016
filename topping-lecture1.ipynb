{
 "cells": [
  {
   "cell_type": "markdown",
   "metadata": {},
   "source": [
    "# Teichmueller harmonic map flow\n",
    "\n",
    "> [Peter Topping](http://homepages.warwick.ac.uk/~maseq/), University of Warwick\n",
    "\n",
    "#### [Ascona Winter School 2016](http://www.math.uzh.ch/pde16/index-Ascona2016.html), [(alternate link)](http://www.monteverita.org/en/90/default.aspx?idEvent=295&archive=)\n",
    "\n",
    "[extended notes on the first lecture](http://homepages.warwick.ac.uk/~maseq/ASCONA/THMF_lectures_ascona_1.pdf)\n"
   ]
  },
  {
   "cell_type": "markdown",
   "metadata": {},
   "source": [
    "### Overview of the Lectures\n",
    "\n",
    "* Harmonic Maps -- minimal immersions of the area functional\n",
    "* Gradient flow\n",
    "* Harmonic map flow -- Teichmuller harmonic map flow\n",
    "\n",
    "Teichmuller is normally done algebraically and I want to describe it analytically.\n",
    "\n",
    "**Geometrization of Surfaces**\n",
    "\n",
    "Riemann surfaces and putting a conformal factor on it so that it has constant curvature.\n",
    "\n",
    "We will be representing conformal structures with constant curvature metrics.\n",
    "\n",
    "General points about the structure of the space of constant curvature metrics.\n",
    "\n",
    "e.g. What's the tangent space? Somewhat classical but less well know generally.\n",
    "\n",
    "Hyperbolic metrics on closed surfaces. What do they look like? What's their structure? If you have a family of these things, how can they degenerate? This is also classical and very beautiful.\n",
    "\n",
    "A tour of the theory of Teichmuller harmonic map flow.\n",
    "\n"
   ]
  },
  {
   "cell_type": "markdown",
   "metadata": {},
   "source": [
    "## Harmonic Maps\n",
    "\n",
    "For $u: (M,g) \\longmapsto (N,G)$, a map between Riemannian manifolds, we can define the **harmonic map energy**\n",
    "$$\n",
    "E(u) = E(u,g) = \\frac{1}{2} \\int_M | du |_g^2 d\\mu\n",
    "$$\n",
    "This is measuring how \"stretched\" the map is.\n",
    "\n",
    "If you've got a critical point of this energy, the map is called a *harmonic map*. What do I mean by a critical point? Compactly supported variations do not induce a first order change in the energy at this map.\n",
    "\n",
    "If $M = N$, the identity map is harmonic. There are other (somewhat trivial) examples that can be constructed.\n",
    "\n",
    "Almost always in these lectures, we will take $M$ to be a surface. Normally, the surface will be closed and often oriented. In this case, the harmonic map is very special. Let's see why."
   ]
  },
  {
   "cell_type": "markdown",
   "metadata": {},
   "source": [
    "## Isothermal coordinates\n",
    "\n",
    "On the surface, we choose coordinates $(x,y)$ (i.e. $g = \\rho^2 (dx^2 + dy^2)$) so that the e\n",
    "\n",
    "$$ \\frac{1}{2} |d u |_g^2 = \\frac{1}{2 \\rho^2} (|u_x|^2 + |u_y|^2)$$\n",
    "\n",
    "$$ d\\mu_g = \\rho^2 dx dy$$\n",
    "\n",
    "So, $E$ is independent of $\\rho$. \n",
    "\n",
    "Area functional \n",
    "\n",
    "$$A(u) = \\int_M du \\wedge du$$\n",
    "\n",
    "$$du \\wedge du = |u_x \\wedge u_y| dx dy$$\n",
    "\n",
    "Critical points of $A$ are called **minimal immersions**."
   ]
  },
  {
   "cell_type": "markdown",
   "metadata": {},
   "source": [
    "If $u$ were an immersion, we have\n",
    "\n",
    "$$A(u) \\leq E(u,g)$$\n",
    "\n",
    "and we have equality if and only if $u$ is **weakly conformal** (I'm allowing $u_x$ and $u_y$ to be zero). "
   ]
  },
  {
   "cell_type": "markdown",
   "metadata": {},
   "source": [
    "**Lemma:** On a two dimensional domain, conformal harmonic maps are necessarily minimal immersions. Conversely, minimal immersions are (with respect to the appropriate metric $g = u^* G) conformal harmonic maps.\n",
    "\n",
    "Why? He drew a picture and indicated minimality as having a horizontal gradient. The picture had two graphs, one beneath the other with a tangency."
   ]
  },
  {
   "cell_type": "markdown",
   "metadata": {},
   "source": [
    "This discussion, somehow, someway, motivates the following:\n",
    "\n",
    "**Definition:** $u$ is called a branched minimial immersion if it is a nonconstant weakly conformal harmonic map.\n",
    "\n",
    "Justified by...\n",
    "\n",
    "**[Theorem (Gulliver, Osserman, Royden)](http://www.jstor.org/stable/2373697):** A branched minimal immersion is a genuine minimal immersion except at isolated points where .....(things look like $z \\longmapsto z^n$).\n",
    "\n",
    "This is a more relaxed quantity. It's easier to work with from a variational calculus point of view."
   ]
  },
  {
   "cell_type": "markdown",
   "metadata": {},
   "source": [
    "## Complex Notation\n",
    "\n",
    "I want to do analysis on surfaces. To do this analysis, I'd like to do some geometric analysis using this notation. This is a bit complicated but I've done it in detail in the notes. I'll give a quick summary here so that we can proceed.\n",
    "\n",
    "It will be convenient to complexify the tangent bundle. This means something very simple. All it means is we are going to consider vectors of the form $v_1 + i v_2$ whenever $v_1, v_2 \\in TM$. We can then consider *local complex coordinate* $z = x+iy$ where $(x,y)$ are isothermal coordinates (not unique, but you can do this). Same story for the cotangent bundle. You can then decompose the complex cotangent bundle into two subbundles and arrive at these in a geometric way (as shown in the notes) spanned by $dz = dx + i dy$ and $d \\overline{z} = dx - i dy$. You can then take the dual to do the same for the tangent bundle. Dual basis to $\\{ dz, d{\\overline{z}} \\}$ is $\\{ \\frac{\\partial}{\\partial z},\\frac{\\partial}{\\partial {\\overline{z}}} \\}$ where\n",
    "$$ \n",
    "\\frac{\\partial}{\\partial z} = \\frac{1}{2} ( \\frac{\\partial}{\\partial x} - i \\frac{\\partial}{\\partial y})\n",
    "$$\n",
    "\n",
    "$$ \n",
    "\\frac{\\partial}{\\partial {\\overline{z}}} = \\frac{1}{2} ( \\frac{\\partial}{\\partial x} + i \\frac{\\partial}{\\partial y})\n",
    "$$\n",
    "\n",
    "Also, for $u: M \\longmapsto N$, write $u_z = u_* (\\frac{\\partial}{\\partial z} ) = u_x - i u_y$.\n",
    "\n",
    "Using all this, you can also decompose symmetric tensors like the Riemannian metric. You can recast things in terms of $(x,y)$ in terms of $(z, \\overline{z})$."
   ]
  },
  {
   "cell_type": "markdown",
   "metadata": {},
   "source": [
    "We are particularly interested in tensors that are \"so called\" **quadratic differentials**. These are of the form $\\omega dz^2$. We are also interested in \"so called\" **holomorphic quadratic differentials** which arise in the case when $\\omega$ is holomorphic. \n",
    "\n",
    "Levi-Civita connection...you get a new $T^*M$ decomposition so that $\\nabla = \\partial + {\\overline{\\partial}}$."
   ]
  },
  {
   "cell_type": "markdown",
   "metadata": {},
   "source": [
    "## Hopf Differential\n",
    "\n",
    "This is an example of a quadratic differential. This is important in harmonic map theory and in the theory of minimal surfaces. Let's suppose we are given a real symmetric tensor $h \\in \\Gamma (Sym^2 T^* M)$. Given such an $h$, we can decompose it as\n",
    "$$\n",
    "h = \\frac{1}{4} \\phi dz^2 + a |dz|^2 + \\frac{1}{4} {\\overline{\\phi}} d {\\overline{z}}^2.\n",
    "$$\n",
    "Let's work out what these quantities are. You would arrive at $a$ by doing a specific calculation so \n",
    "$$\n",
    "a = 2h(\\frac{\\partial}{\\partial z}, {\\partial {\\overline{z}}})\n",
    "$$\n",
    "What about the $\\phi$?\n",
    "$$\n",
    "\\phi = 4 h(\\frac{\\partial}{\\partial z}, \\frac{\\partial}{\\partial z}).$$\n",
    "\n",
    "Consider the special case\n",
    "$$\n",
    "h = u^* G\n",
    "$$\n",
    "and\n",
    "$$ a = \\dots = \\frac{1}{2} |du |_g^2\n",
    "$$\n",
    "$$\n",
    "\\phi = |u_x|^2 - |u_y|^2 - 2i \\langle u_x, u_y \\rangle.\n",
    "$$\n"
   ]
  },
  {
   "cell_type": "markdown",
   "metadata": {},
   "source": [
    "## Why is this important?\n",
    "\n",
    "First variation formula for $E(u,g)$ leads to a notion called the **tension field**.\n",
    "\n",
    "$$ \n",
    "dE_{(u,g)} ( \\frac{\\partial u}{\\partial t}, \\frac{\\partial g}{\\partial t} ) = - \\int_M ( \\langle \\tau_g (u), \\frac{\\partial u}{\\partial t} \\rangle + \\frac{1}{4} \\langle \\Re (\\Phi (u,g) ), \\frac{\\partial g}{\\partial t} \\rangle ) d \\mu_g\n",
    "$$\n",
    "\n",
    "The Tension field should be thought of as the closest thing to the Laplacian you can get \" $\\Delta u$ \"$ = Tr \\nabla du = \\dots$"
   ]
  },
  {
   "cell_type": "markdown",
   "metadata": {},
   "source": [
    "There's an interesting observation lurking in the classical literature that was made explicity by Sacks-Uhlenbeck.\n",
    "\n",
    "**Lemma:** Critical points of $E$ with respect to both $u$ and $g$ are weakly conformal harmonic maps. More precisely, $u$ would be a weakly conformal harmonic map with respect to the metric $g$. That is $u:(M,g) \\longmapsto (N,G)$ is a branched minimal immersion."
   ]
  },
  {
   "cell_type": "markdown",
   "metadata": {},
   "source": [
    "...couple of things I wanted to say, just out loud.\n",
    "\n",
    "By using the diffeomorphism invariance, you can get a conservation law. Pulling back by diffeo doesn't change anything so that's a conservation law. If you unravel that (as is done in the notes), you get\n",
    "\n",
    "**Lemma:** A harmonic map has a holomorphic Hopf differential.\n",
    "\n",
    "**Lemma:** If you restrict the domain to $S^2$ then Liouville's theorem tells you that there does not exist a nonconstant holomorphic quadratic differentials."
   ]
  },
  {
   "cell_type": "code",
   "execution_count": null,
   "metadata": {
    "collapsed": true
   },
   "outputs": [],
   "source": []
  }
 ],
 "metadata": {
  "kernelspec": {
   "display_name": "Python 3",
   "language": "python",
   "name": "python3"
  },
  "language_info": {
   "codemirror_mode": {
    "name": "ipython",
    "version": 3
   },
   "file_extension": ".py",
   "mimetype": "text/x-python",
   "name": "python",
   "nbconvert_exporter": "python",
   "pygments_lexer": "ipython3",
   "version": "3.4.3"
  }
 },
 "nbformat": 4,
 "nbformat_minor": 0
}
