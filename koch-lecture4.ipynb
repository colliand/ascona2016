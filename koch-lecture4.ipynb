{
 "cells": [
  {
   "cell_type": "markdown",
   "metadata": {},
   "source": [
    "I want to describe a bit more on the history, and a bit of a personal viewpoint on these topics.\n",
    "\n",
    "**Hilbert 19th problem:** He asked for analyticity of solutions to elliptic analytic PDEs.\n",
    "\n",
    "* Petrovsky 1930: proved this for solutions with $u \\in C^3$ and partial analyticity.\n",
    "* Agmon-Douglas-Nirenberg ~1960: analyticity in a general setting.\n",
    "* Morrey ~1960: analyticity in the general setting including boundary value problems.\n",
    "* Kinderlehrer-Nirenberg ~1980: Free boundary problems, with partial hodograph transform.\n"
   ]
  },
  {
   "cell_type": "markdown",
   "metadata": {},
   "source": [
    "***\n",
    "\n",
    "* Koch 98: 2-phase Stefan problem. Ann interface between two heat equations. The solution vanishes across the interface $\\Gamma \\in C^1$ with a jump in normal velocity across the interface. The result was to prove that the boundary $\\Gamma \\in C^\\infty$.\n",
    "\n",
    "I don't want to present the details of this here. Rather, I want to look at the linearized problem.\n",
    "$$v_t - \\Delta v =0, ~y_d = 0.$$\n",
    "$$ v_t = [\\partial_d v], ~ y_d =0.$$\n",
    "\n",
    "(not Calderon-Zygmund)"
   ]
  },
  {
   "cell_type": "markdown",
   "metadata": {},
   "source": [
    "* Mumford-Shah, Conjectore of DeGiorgi. This is a problem in image segmentation.\n",
    "\n",
    "$$F(u,k) = \\int_{\\Omega \\backslash K} |\\nabla u|^2 + \\int_{\\Omega} |u-g|^2 + {\\mathscr{H}}^{d-1} (K \\cap \\Omega).$$\n",
    "\n",
    "**DeGiorgi's Conjectore:** If $g$ is analytic and $(u,k)$ is a minimizer the $K$ is of class $C^1 \\implies K$ is analytic.\n",
    "\n",
    "**Euler-Lagrange Equations:** \n",
    "$$ \\Delta u^{\\pm} = g^{\\pm} (x, u^{\\pm}, Du^{\\pm}), ~ \\Omega \\backslash K.$$\n",
    "$$ \\frac{\\partial u^{\\pm} }{\\partial \\nu} = b^{\\pm} (x, u^+, u^-)$$\n",
    "\n",
    "$k$ is the mean curvature.\n",
    "\n",
    "**Theorem (Leoni, Marini 2005):** The conjecture is true.\n",
    "\n",
    "**proof:** We want to straighten out $K$ but there's noting obvious in the problem proving a method to do this. Draws some pictures and generates an elliptic system to which work by Morrey applies."
   ]
  },
  {
   "cell_type": "markdown",
   "metadata": {},
   "source": [
    "* The same works for the Navier-Stokes with surface tension. "
   ]
  },
  {
   "cell_type": "markdown",
   "metadata": {},
   "source": [
    "* Obstacle problem\n",
    "\n",
    "You strive to minimize the Dirichlet energy subject to given boundary conditions above an obstacle. [Signorini problem](https://en.wikipedia.org/wiki/Signorini_problem). This is mimicked by the thin obstacle problem. \n",
    "\n",
    "$u: B_1^+ \\rightarrow \\mathbb{R}$  \n",
    "$u|_{x_d = 0} \\geq 0.$  \n",
    "$ \\int |\\nabla u |^2 dx \\leq \\int |\\nabla v|^2 dx, ~ \\forall ~ v: v =u ~{\\mbox{on}}~ |x| =1, ~ x_d >0$  \n",
    "$ v \\geq 0$ at $x_d = 0$.\n",
    "\n",
    "At the level of the differential equation\n",
    "\n",
    "$\\Delta u - 0, ~ B_1^+$  \n",
    "$ u \\cdot \\partial_{x_d} u = 0$ on $x_d = 0$.  \n",
    "$ u\\geq 0, \\partial_{x_d} u \\leq 0.$\n",
    "\n",
    "**Fact:** $u \\in C^{1,1/2}.$\n",
    "\n",
    "**Contact set:** $u=0$ on $x_d = 0$.\n",
    "\n",
    "**Free boundary:** $\\partial \\{ u > 0 \\}.$\n",
    "\n",
    "We can blow-up at the free boundary to explore regularity.\n",
    "\n",
    "$$ u^\\lambda (x) = \\frac{u (\\lambda x)}{{\\| u (\\lambda x) \\|}_{L^2 (B_1^+ )}}$$\n",
    "\n",
    "$u^\\lambda (x)$ has a limit $u^\\infty$ as $\\lambda \\rightarrow \\infty.$\n",
    "\n",
    "$u^\\infty$ is a homogeneous solution.\n",
    "\n",
    "* homogeneity is $\\frac{3}{2}, u^\\infty (x) = \\Re ( (x_j + i x_{d-1} )^{3/2} ) $ <-- regular part of free boundary.  \n",
    "* $ \\geq 2$ (I'm not sure what this meant? seems to be a dichotomy)\n",
    "\n",
    "**Theorem (Koch-Petrosyan-Shi):** Regular part of the free boundary is analytic.\n",
    "\n",
    "This problem is different than what we've discussed previously. This is codimension 2.\n",
    "\n",
    "Choice of coordinates, Hodograph transform, "
   ]
  }
 ],
 "metadata": {
  "kernelspec": {
   "display_name": "Python 3",
   "language": "python",
   "name": "python3"
  },
  "language_info": {
   "codemirror_mode": {
    "name": "ipython",
    "version": 3
   },
   "file_extension": ".py",
   "mimetype": "text/x-python",
   "name": "python",
   "nbconvert_exporter": "python",
   "pygments_lexer": "ipython3",
   "version": "3.4.3"
  }
 },
 "nbformat": 4,
 "nbformat_minor": 0
}
